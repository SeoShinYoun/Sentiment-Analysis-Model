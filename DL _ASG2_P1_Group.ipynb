{
 "cells": [
  {
   "cell_type": "markdown",
   "metadata": {},
   "source": [
    "<table class=\"table table-bordered\">\n",
    "    <tr>\n",
    "        <th style=\"text-align:center; width:25%\"><img src='https://www.np.edu.sg/PublishingImages/Pages/default/odp/ICT.jpg' style=\"width: 250px; height: 125px; \"></th>\n",
    "        <th style=\"text-align:center;\"><h1>Deep Learning</h1><h2>Assignment 2 (Problem 1) - Sentiment Analysis Model  (Group)</h2><h3>AY2022/23 Semester</h3></th>\n",
    "    </tr>\n",
    "</table>"
   ]
  },
  {
   "cell_type": "code",
   "execution_count": 85,
   "metadata": {},
   "outputs": [
    {
     "name": "stderr",
     "output_type": "stream",
     "text": [
      "[nltk_data] Downloading package stopwords to\n",
      "[nltk_data]     C:\\Users\\shiny\\AppData\\Roaming\\nltk_data...\n",
      "[nltk_data]   Package stopwords is already up-to-date!\n"
     ]
    }
   ],
   "source": [
    "# Import the Required Packages\n",
    "import re\n",
    "import tensorflow\n",
    "import os\n",
    "import numpy as np\n",
    "import pandas as pd\n",
    "from googletrans import Translator\n",
    "from langdetect import detect\n",
    "from nltk.corpus import stopwords\n",
    "import matplotlib.pyplot as plt\n",
    "import nltk\n",
    "nltk.download('stopwords')\n",
    "from tensorflow.keras.utils import to_categorical\n",
    "from sklearn.model_selection import train_test_split\n",
    "from tensorflow.keras import optimizers\n",
    "from sklearn.metrics import confusion_matrix\n",
    "from sklearn.metrics import classification_report\n",
    "from tensorflow.keras.preprocessing.text import Tokenizer\n",
    "from tensorflow.keras.preprocessing.sequence import pad_sequences\n",
    "from tensorflow.keras.models import Sequential\n",
    "from tensorflow.keras.layers import Dense, Embedding, Dropout, Flatten\n",
    "from tensorflow.keras.layers import SimpleRNN, GRU, LSTM, Bidirectional, Conv1D, BatchNormalization, MaxPooling1D\n",
    "from tensorflow.keras.regularizers import l1, l2, l1_l2\n",
    "from tensorflow.keras import layers, callbacks, regularizers\n",
    "from sklearn.metrics import accuracy_score, confusion_matrix, classification_report\n",
    "from tensorflow.keras.callbacks import EarlyStopping, LearningRateScheduler\n",
    "import seaborn as sns\n",
    "from tensorflow.keras import backend as K\n",
    "import keras\n",
    "import seaborn as sns\n",
    "from sklearn.metrics import confusion_matrix\n",
    "from sklearn.metrics import classification_report"
   ]
  },
  {
   "cell_type": "markdown",
   "metadata": {},
   "source": [
    "## Step 1 – Data Loading and Processing (Group)"
   ]
  },
  {
   "cell_type": "markdown",
   "metadata": {},
   "source": [
    "### 1.1 Data Loading"
   ]
  },
  {
   "cell_type": "code",
   "execution_count": 86,
   "metadata": {},
   "outputs": [],
   "source": [
    "dat = pd.read_csv('disneyplus_reviews.csv', delimiter=',')\n",
    "texts = dat.loc[:,'content'].values \n",
    "score = dat.loc[:,'score'].values"
   ]
  },
  {
   "cell_type": "code",
   "execution_count": 3,
   "metadata": {},
   "outputs": [
    {
     "data": {
      "text/plain": [
       "array([\"It's a very good app PERFECT for family movie nights 🌙👌🏾😊\",\n",
       "       'Disney suck, I’m paying for two whole accounts with Hulu and espn and they won’t let me manage my account but allow a whole other person manage my account',\n",
       "       'very nice 👍👍👍👍👍 I love it 💕💕💕💕💕', 'MARVEL!', 'rr rock a',\n",
       "       'very good movie, it teaches that people of different ethnicity can unite for a common cause of helping others and all heroes come in different cultures.',\n",
       "       'Great Movies and shows', 'ad a zfF ZOFRAN p',\n",
       "       \"It is a good streaming service, it's just when you accidentally press above the screen it goes back. Which is annoying but easy to deal with\",\n",
       "       'streams perfectly!', 'Enjoyed',\n",
       "       'best shows, best movies, app works great.. excellence',\n",
       "       \"This is amazing on my samsung galaxy A10e. I can watch my favorite disney shows and movie's\",\n",
       "       'App is really bad too many bugs. Log in problems just not worth it. As expected from any Disney product.',\n",
       "       'Ich bin nicht in der Lage dazu, mich anzumelden, weil diese App es nicht rafft, dass ich bereits ein Abonnement abgeschlossen habe. Ich bin sehr unzufrieden',\n",
       "       'cool', 'amazing movie', 'I love it',\n",
       "       \"As others have mentioned, the app simply doesn't load...just get the blue spinning circle. I expect waayyy more from Disney, considering their size, etc. Is this the best Disney can do? Wow...\",\n",
       "       'I love it it good when you can watch it entime i amazing'],\n",
       "      dtype=object)"
      ]
     },
     "execution_count": 3,
     "metadata": {},
     "output_type": "execute_result"
    }
   ],
   "source": [
    "texts[:20]"
   ]
  },
  {
   "cell_type": "code",
   "execution_count": 4,
   "metadata": {},
   "outputs": [
    {
     "data": {
      "text/plain": [
       "array([5, 1, 5, 5, 2, 5, 5, 1, 4, 4, 4, 5, 5, 1, 1, 5, 5, 5, 1, 4],\n",
       "      dtype=int64)"
      ]
     },
     "execution_count": 4,
     "metadata": {},
     "output_type": "execute_result"
    }
   ],
   "source": [
    "score[:20]"
   ]
  },
  {
   "cell_type": "markdown",
   "metadata": {},
   "source": [
    "### 1.2 Data Processing\n"
   ]
  },
  {
   "cell_type": "code",
   "execution_count": 5,
   "metadata": {},
   "outputs": [],
   "source": [
    "# to clean the text to lower case, remove tag, remove special character and number\n",
    "def pre_process(text):\n",
    "    \n",
    "    text = str(text)\n",
    "    \n",
    "    # lowercase\n",
    "    text=text.lower().strip()\n",
    "    \n",
    "    #remove html tags\n",
    "    text=re.sub(\"</?.*?>\",\" <> \",text)\n",
    "    \n",
    "    # remove special characters and digits\n",
    "    text=re.sub(\"[^A-Za-z]+\",\" \",text)\n",
    "    \n",
    "    return text\n",
    "\n",
    "dat['content'] = dat['content'].apply(lambda x:pre_process(x))"
   ]
  },
  {
   "cell_type": "code",
   "execution_count": 6,
   "metadata": {},
   "outputs": [
    {
     "data": {
      "text/html": [
       "<div>\n",
       "<style scoped>\n",
       "    .dataframe tbody tr th:only-of-type {\n",
       "        vertical-align: middle;\n",
       "    }\n",
       "\n",
       "    .dataframe tbody tr th {\n",
       "        vertical-align: top;\n",
       "    }\n",
       "\n",
       "    .dataframe thead th {\n",
       "        text-align: right;\n",
       "    }\n",
       "</style>\n",
       "<table border=\"1\" class=\"dataframe\">\n",
       "  <thead>\n",
       "    <tr style=\"text-align: right;\">\n",
       "      <th></th>\n",
       "      <th>reviewId</th>\n",
       "      <th>userName</th>\n",
       "      <th>userImage</th>\n",
       "      <th>content</th>\n",
       "      <th>score</th>\n",
       "      <th>thumbsUpCount</th>\n",
       "      <th>reviewCreatedVersion</th>\n",
       "      <th>at</th>\n",
       "      <th>replyContent</th>\n",
       "      <th>repliedAt</th>\n",
       "    </tr>\n",
       "  </thead>\n",
       "  <tbody>\n",
       "    <tr>\n",
       "      <th>0</th>\n",
       "      <td>b6a61f47-142a-4fa7-8861-cac7db5395bf</td>\n",
       "      <td>Rylan-Tanya Bailey</td>\n",
       "      <td>https://play-lh.googleusercontent.com/a-/AFdZu...</td>\n",
       "      <td>it s a very good app perfect for family movie ...</td>\n",
       "      <td>5</td>\n",
       "      <td>0</td>\n",
       "      <td>2.9.1-rc1</td>\n",
       "      <td>2022-08-06 10:15:15</td>\n",
       "      <td>NaN</td>\n",
       "      <td>NaN</td>\n",
       "    </tr>\n",
       "    <tr>\n",
       "      <th>1</th>\n",
       "      <td>3c703684-6465-42db-b4b2-74465a1e7c9c</td>\n",
       "      <td>Lena Hollins</td>\n",
       "      <td>https://play-lh.googleusercontent.com/a/AItbvm...</td>\n",
       "      <td>disney suck i m paying for two whole accounts ...</td>\n",
       "      <td>1</td>\n",
       "      <td>0</td>\n",
       "      <td>2.3.2-rc1</td>\n",
       "      <td>2022-08-06 10:10:05</td>\n",
       "      <td>NaN</td>\n",
       "      <td>NaN</td>\n",
       "    </tr>\n",
       "    <tr>\n",
       "      <th>2</th>\n",
       "      <td>518ca9a9-de68-46c0-820e-89edb759b388</td>\n",
       "      <td>rodelia kitahira</td>\n",
       "      <td>https://play-lh.googleusercontent.com/a-/AFdZu...</td>\n",
       "      <td>very nice i love it</td>\n",
       "      <td>5</td>\n",
       "      <td>0</td>\n",
       "      <td>2.9.1-rc1</td>\n",
       "      <td>2022-08-06 10:01:21</td>\n",
       "      <td>NaN</td>\n",
       "      <td>NaN</td>\n",
       "    </tr>\n",
       "    <tr>\n",
       "      <th>3</th>\n",
       "      <td>0c3fceec-a9aa-4781-a81c-c67d6d68ff60</td>\n",
       "      <td>Kirt Klass</td>\n",
       "      <td>https://play-lh.googleusercontent.com/a-/AFdZu...</td>\n",
       "      <td>marvel</td>\n",
       "      <td>5</td>\n",
       "      <td>0</td>\n",
       "      <td>2.9.1-rc1</td>\n",
       "      <td>2022-08-06 09:57:32</td>\n",
       "      <td>NaN</td>\n",
       "      <td>NaN</td>\n",
       "    </tr>\n",
       "    <tr>\n",
       "      <th>4</th>\n",
       "      <td>c5517f5c-05f8-4d83-bc46-c38b846cd92d</td>\n",
       "      <td>Raquel Martinez</td>\n",
       "      <td>https://play-lh.googleusercontent.com/a/AItbvm...</td>\n",
       "      <td>rr rock a</td>\n",
       "      <td>2</td>\n",
       "      <td>0</td>\n",
       "      <td>2.9.1-rc1</td>\n",
       "      <td>2022-08-06 09:51:19</td>\n",
       "      <td>NaN</td>\n",
       "      <td>NaN</td>\n",
       "    </tr>\n",
       "  </tbody>\n",
       "</table>\n",
       "</div>"
      ],
      "text/plain": [
       "                               reviewId            userName  \\\n",
       "0  b6a61f47-142a-4fa7-8861-cac7db5395bf  Rylan-Tanya Bailey   \n",
       "1  3c703684-6465-42db-b4b2-74465a1e7c9c        Lena Hollins   \n",
       "2  518ca9a9-de68-46c0-820e-89edb759b388    rodelia kitahira   \n",
       "3  0c3fceec-a9aa-4781-a81c-c67d6d68ff60          Kirt Klass   \n",
       "4  c5517f5c-05f8-4d83-bc46-c38b846cd92d     Raquel Martinez   \n",
       "\n",
       "                                           userImage  \\\n",
       "0  https://play-lh.googleusercontent.com/a-/AFdZu...   \n",
       "1  https://play-lh.googleusercontent.com/a/AItbvm...   \n",
       "2  https://play-lh.googleusercontent.com/a-/AFdZu...   \n",
       "3  https://play-lh.googleusercontent.com/a-/AFdZu...   \n",
       "4  https://play-lh.googleusercontent.com/a/AItbvm...   \n",
       "\n",
       "                                             content  score  thumbsUpCount  \\\n",
       "0  it s a very good app perfect for family movie ...      5              0   \n",
       "1  disney suck i m paying for two whole accounts ...      1              0   \n",
       "2                               very nice i love it       5              0   \n",
       "3                                            marvel       5              0   \n",
       "4                                          rr rock a      2              0   \n",
       "\n",
       "  reviewCreatedVersion                   at replyContent repliedAt  \n",
       "0            2.9.1-rc1  2022-08-06 10:15:15          NaN       NaN  \n",
       "1            2.3.2-rc1  2022-08-06 10:10:05          NaN       NaN  \n",
       "2            2.9.1-rc1  2022-08-06 10:01:21          NaN       NaN  \n",
       "3            2.9.1-rc1  2022-08-06 09:57:32          NaN       NaN  \n",
       "4            2.9.1-rc1  2022-08-06 09:51:19          NaN       NaN  "
      ]
     },
     "execution_count": 6,
     "metadata": {},
     "output_type": "execute_result"
    }
   ],
   "source": [
    "dat.head()"
   ]
  },
  {
   "cell_type": "code",
   "execution_count": 7,
   "metadata": {},
   "outputs": [],
   "source": [
    "# Remove row with empty contents (Not english)\n",
    "dat.replace(' ', np.nan, inplace=True)\n",
    "dat.dropna(subset=['content'], inplace=True)"
   ]
  },
  {
   "cell_type": "code",
   "execution_count": 8,
   "metadata": {},
   "outputs": [],
   "source": [
    "def english_identifier(text):\n",
    "    lang = detect(text)\n",
    "    if lang == \"en\":\n",
    "        text = text\n",
    "    else:\n",
    "        text = \" \"\n",
    "    return text\n",
    "\n",
    "dat['content'] = dat['content'].apply(lambda x:english_identifier(x))"
   ]
  },
  {
   "cell_type": "code",
   "execution_count": 9,
   "metadata": {},
   "outputs": [],
   "source": [
    "# Remove row with empty contents (Not english)\n",
    "dat.replace(' ', np.nan, inplace=True)\n",
    "dat.dropna(subset=['content'], inplace=True)"
   ]
  },
  {
   "cell_type": "code",
   "execution_count": 10,
   "metadata": {},
   "outputs": [
    {
     "data": {
      "text/html": [
       "<div>\n",
       "<style scoped>\n",
       "    .dataframe tbody tr th:only-of-type {\n",
       "        vertical-align: middle;\n",
       "    }\n",
       "\n",
       "    .dataframe tbody tr th {\n",
       "        vertical-align: top;\n",
       "    }\n",
       "\n",
       "    .dataframe thead th {\n",
       "        text-align: right;\n",
       "    }\n",
       "</style>\n",
       "<table border=\"1\" class=\"dataframe\">\n",
       "  <thead>\n",
       "    <tr style=\"text-align: right;\">\n",
       "      <th></th>\n",
       "      <th>reviewId</th>\n",
       "      <th>userName</th>\n",
       "      <th>userImage</th>\n",
       "      <th>content</th>\n",
       "      <th>score</th>\n",
       "      <th>thumbsUpCount</th>\n",
       "      <th>reviewCreatedVersion</th>\n",
       "      <th>at</th>\n",
       "      <th>replyContent</th>\n",
       "      <th>repliedAt</th>\n",
       "    </tr>\n",
       "  </thead>\n",
       "  <tbody>\n",
       "    <tr>\n",
       "      <th>180188</th>\n",
       "      <td>72f1adf7-569d-4e04-a206-052f09f62edc</td>\n",
       "      <td>A Google user</td>\n",
       "      <td>https://play-lh.googleusercontent.com/EGemoI2N...</td>\n",
       "      <td>brings back all my childhood memories from sho...</td>\n",
       "      <td>5</td>\n",
       "      <td>0</td>\n",
       "      <td>1.1.3</td>\n",
       "      <td>2019-11-12 14:54:42</td>\n",
       "      <td>NaN</td>\n",
       "      <td>NaN</td>\n",
       "    </tr>\n",
       "    <tr>\n",
       "      <th>180189</th>\n",
       "      <td>8246f9f6-200e-4a4d-bd94-bb7a94bf5f5e</td>\n",
       "      <td>A Google user</td>\n",
       "      <td>https://play-lh.googleusercontent.com/EGemoI2N...</td>\n",
       "      <td>wow look out netflix disney is coming for you ...</td>\n",
       "      <td>5</td>\n",
       "      <td>0</td>\n",
       "      <td>1.1.3</td>\n",
       "      <td>2019-11-12 14:54:16</td>\n",
       "      <td>NaN</td>\n",
       "      <td>NaN</td>\n",
       "    </tr>\n",
       "    <tr>\n",
       "      <th>180190</th>\n",
       "      <td>fa12e8ea-f5b4-4947-a764-d8c7f739c3bb</td>\n",
       "      <td>A Google user</td>\n",
       "      <td>https://play-lh.googleusercontent.com/EGemoI2N...</td>\n",
       "      <td>easy to use and no bugs so far love it</td>\n",
       "      <td>5</td>\n",
       "      <td>2</td>\n",
       "      <td>1.1.3</td>\n",
       "      <td>2019-11-12 14:53:33</td>\n",
       "      <td>NaN</td>\n",
       "      <td>NaN</td>\n",
       "    </tr>\n",
       "    <tr>\n",
       "      <th>180191</th>\n",
       "      <td>955ee495-d1b6-4ccd-89b8-f0cbfda90bdc</td>\n",
       "      <td>A Google user</td>\n",
       "      <td>https://play-lh.googleusercontent.com/EGemoI2N...</td>\n",
       "      <td>so far it s amazing and totally worth the money</td>\n",
       "      <td>5</td>\n",
       "      <td>0</td>\n",
       "      <td>1.1.3</td>\n",
       "      <td>2019-11-12 14:53:15</td>\n",
       "      <td>NaN</td>\n",
       "      <td>NaN</td>\n",
       "    </tr>\n",
       "    <tr>\n",
       "      <th>180194</th>\n",
       "      <td>841da9d6-4731-47a7-bd07-61c11dd16f78</td>\n",
       "      <td>A Google user</td>\n",
       "      <td>https://play-lh.googleusercontent.com/EGemoI2N...</td>\n",
       "      <td>good content just please bring back kids incor...</td>\n",
       "      <td>4</td>\n",
       "      <td>2</td>\n",
       "      <td>1.1.3</td>\n",
       "      <td>2019-11-12 14:50:30</td>\n",
       "      <td>NaN</td>\n",
       "      <td>NaN</td>\n",
       "    </tr>\n",
       "    <tr>\n",
       "      <th>180195</th>\n",
       "      <td>0a0c945b-34cf-42ae-8f84-183d5abd2c8a</td>\n",
       "      <td>A Google user</td>\n",
       "      <td>https://play-lh.googleusercontent.com/EGemoI2N...</td>\n",
       "      <td>not working at puerto rico</td>\n",
       "      <td>1</td>\n",
       "      <td>0</td>\n",
       "      <td>1.1.3</td>\n",
       "      <td>2019-11-12 14:50:26</td>\n",
       "      <td>Hi, we apologize for any issue you might be ha...</td>\n",
       "      <td>2019-12-24 01:32:14</td>\n",
       "    </tr>\n",
       "    <tr>\n",
       "      <th>180196</th>\n",
       "      <td>19dd7816-08fa-4f54-84e1-71c5bf29c186</td>\n",
       "      <td>A Google user</td>\n",
       "      <td>https://play-lh.googleusercontent.com/EGemoI2N...</td>\n",
       "      <td>incredible well done app disney has a winner w...</td>\n",
       "      <td>5</td>\n",
       "      <td>0</td>\n",
       "      <td>1.1.3</td>\n",
       "      <td>2019-11-12 14:47:29</td>\n",
       "      <td>NaN</td>\n",
       "      <td>NaN</td>\n",
       "    </tr>\n",
       "    <tr>\n",
       "      <th>180197</th>\n",
       "      <td>1e60fcab-2f4b-401f-84d9-e379ef9f6918</td>\n",
       "      <td>A Google user</td>\n",
       "      <td>https://play-lh.googleusercontent.com/EGemoI2N...</td>\n",
       "      <td>so far so good even allows you to download you...</td>\n",
       "      <td>5</td>\n",
       "      <td>0</td>\n",
       "      <td>1.1.3</td>\n",
       "      <td>2019-11-12 14:47:20</td>\n",
       "      <td>NaN</td>\n",
       "      <td>NaN</td>\n",
       "    </tr>\n",
       "    <tr>\n",
       "      <th>180198</th>\n",
       "      <td>9ca71b45-5c2c-4954-8286-d6922c763351</td>\n",
       "      <td>A Google user</td>\n",
       "      <td>https://play-lh.googleusercontent.com/EGemoI2N...</td>\n",
       "      <td>great start disney</td>\n",
       "      <td>5</td>\n",
       "      <td>0</td>\n",
       "      <td>1.1.3</td>\n",
       "      <td>2019-11-12 14:46:35</td>\n",
       "      <td>NaN</td>\n",
       "      <td>NaN</td>\n",
       "    </tr>\n",
       "    <tr>\n",
       "      <th>180199</th>\n",
       "      <td>cef15543-c3df-4888-b273-d593744a6cdf</td>\n",
       "      <td>A Google user</td>\n",
       "      <td>https://play-lh.googleusercontent.com/EGemoI2N...</td>\n",
       "      <td>very solid app it flows a lot like netflix</td>\n",
       "      <td>5</td>\n",
       "      <td>0</td>\n",
       "      <td>1.1.3</td>\n",
       "      <td>2019-11-12 14:45:49</td>\n",
       "      <td>NaN</td>\n",
       "      <td>NaN</td>\n",
       "    </tr>\n",
       "  </tbody>\n",
       "</table>\n",
       "</div>"
      ],
      "text/plain": [
       "                                    reviewId       userName  \\\n",
       "180188  72f1adf7-569d-4e04-a206-052f09f62edc  A Google user   \n",
       "180189  8246f9f6-200e-4a4d-bd94-bb7a94bf5f5e  A Google user   \n",
       "180190  fa12e8ea-f5b4-4947-a764-d8c7f739c3bb  A Google user   \n",
       "180191  955ee495-d1b6-4ccd-89b8-f0cbfda90bdc  A Google user   \n",
       "180194  841da9d6-4731-47a7-bd07-61c11dd16f78  A Google user   \n",
       "180195  0a0c945b-34cf-42ae-8f84-183d5abd2c8a  A Google user   \n",
       "180196  19dd7816-08fa-4f54-84e1-71c5bf29c186  A Google user   \n",
       "180197  1e60fcab-2f4b-401f-84d9-e379ef9f6918  A Google user   \n",
       "180198  9ca71b45-5c2c-4954-8286-d6922c763351  A Google user   \n",
       "180199  cef15543-c3df-4888-b273-d593744a6cdf  A Google user   \n",
       "\n",
       "                                                userImage  \\\n",
       "180188  https://play-lh.googleusercontent.com/EGemoI2N...   \n",
       "180189  https://play-lh.googleusercontent.com/EGemoI2N...   \n",
       "180190  https://play-lh.googleusercontent.com/EGemoI2N...   \n",
       "180191  https://play-lh.googleusercontent.com/EGemoI2N...   \n",
       "180194  https://play-lh.googleusercontent.com/EGemoI2N...   \n",
       "180195  https://play-lh.googleusercontent.com/EGemoI2N...   \n",
       "180196  https://play-lh.googleusercontent.com/EGemoI2N...   \n",
       "180197  https://play-lh.googleusercontent.com/EGemoI2N...   \n",
       "180198  https://play-lh.googleusercontent.com/EGemoI2N...   \n",
       "180199  https://play-lh.googleusercontent.com/EGemoI2N...   \n",
       "\n",
       "                                                  content  score  \\\n",
       "180188  brings back all my childhood memories from sho...      5   \n",
       "180189  wow look out netflix disney is coming for you ...      5   \n",
       "180190             easy to use and no bugs so far love it      5   \n",
       "180191    so far it s amazing and totally worth the money      5   \n",
       "180194  good content just please bring back kids incor...      4   \n",
       "180195                        not working at puerto rico       1   \n",
       "180196  incredible well done app disney has a winner w...      5   \n",
       "180197  so far so good even allows you to download you...      5   \n",
       "180198                                 great start disney      5   \n",
       "180199        very solid app it flows a lot like netflix       5   \n",
       "\n",
       "        thumbsUpCount reviewCreatedVersion                   at  \\\n",
       "180188              0                1.1.3  2019-11-12 14:54:42   \n",
       "180189              0                1.1.3  2019-11-12 14:54:16   \n",
       "180190              2                1.1.3  2019-11-12 14:53:33   \n",
       "180191              0                1.1.3  2019-11-12 14:53:15   \n",
       "180194              2                1.1.3  2019-11-12 14:50:30   \n",
       "180195              0                1.1.3  2019-11-12 14:50:26   \n",
       "180196              0                1.1.3  2019-11-12 14:47:29   \n",
       "180197              0                1.1.3  2019-11-12 14:47:20   \n",
       "180198              0                1.1.3  2019-11-12 14:46:35   \n",
       "180199              0                1.1.3  2019-11-12 14:45:49   \n",
       "\n",
       "                                             replyContent            repliedAt  \n",
       "180188                                                NaN                  NaN  \n",
       "180189                                                NaN                  NaN  \n",
       "180190                                                NaN                  NaN  \n",
       "180191                                                NaN                  NaN  \n",
       "180194                                                NaN                  NaN  \n",
       "180195  Hi, we apologize for any issue you might be ha...  2019-12-24 01:32:14  \n",
       "180196                                                NaN                  NaN  \n",
       "180197                                                NaN                  NaN  \n",
       "180198                                                NaN                  NaN  \n",
       "180199                                                NaN                  NaN  "
      ]
     },
     "execution_count": 10,
     "metadata": {},
     "output_type": "execute_result"
    }
   ],
   "source": [
    "dat.tail(10)"
   ]
  },
  {
   "cell_type": "code",
   "execution_count": 11,
   "metadata": {},
   "outputs": [
    {
     "name": "stdout",
     "output_type": "stream",
     "text": [
      "score\n",
      "1    40897\n",
      "2    12001\n",
      "3    11972\n",
      "4    14142\n",
      "5    50061\n",
      "Name: content, dtype: int64\n"
     ]
    }
   ],
   "source": [
    "unique_labels = dat.groupby('score').nunique()\n",
    "print(unique_labels['content'])"
   ]
  },
  {
   "cell_type": "code",
   "execution_count": 12,
   "metadata": {},
   "outputs": [],
   "source": [
    "content_list = dat['content'].tolist()"
   ]
  },
  {
   "cell_type": "code",
   "execution_count": 13,
   "metadata": {},
   "outputs": [
    {
     "data": {
      "text/html": [
       "<div>\n",
       "<style scoped>\n",
       "    .dataframe tbody tr th:only-of-type {\n",
       "        vertical-align: middle;\n",
       "    }\n",
       "\n",
       "    .dataframe tbody tr th {\n",
       "        vertical-align: top;\n",
       "    }\n",
       "\n",
       "    .dataframe thead th {\n",
       "        text-align: right;\n",
       "    }\n",
       "</style>\n",
       "<table border=\"1\" class=\"dataframe\">\n",
       "  <thead>\n",
       "    <tr style=\"text-align: right;\">\n",
       "      <th></th>\n",
       "      <th>reviewId</th>\n",
       "      <th>userName</th>\n",
       "      <th>userImage</th>\n",
       "      <th>content</th>\n",
       "      <th>score</th>\n",
       "      <th>thumbsUpCount</th>\n",
       "      <th>reviewCreatedVersion</th>\n",
       "      <th>at</th>\n",
       "      <th>replyContent</th>\n",
       "      <th>repliedAt</th>\n",
       "    </tr>\n",
       "  </thead>\n",
       "  <tbody>\n",
       "    <tr>\n",
       "      <th>1</th>\n",
       "      <td>3c703684-6465-42db-b4b2-74465a1e7c9c</td>\n",
       "      <td>Lena Hollins</td>\n",
       "      <td>https://play-lh.googleusercontent.com/a/AItbvm...</td>\n",
       "      <td>disney suck i m paying for two whole accounts ...</td>\n",
       "      <td>1</td>\n",
       "      <td>0</td>\n",
       "      <td>2.3.2-rc1</td>\n",
       "      <td>2022-08-06 10:10:05</td>\n",
       "      <td>NaN</td>\n",
       "      <td>NaN</td>\n",
       "    </tr>\n",
       "    <tr>\n",
       "      <th>13</th>\n",
       "      <td>0a5f18b4-baba-4d6a-b740-aea6b68c9e23</td>\n",
       "      <td>Martin Amador</td>\n",
       "      <td>https://play-lh.googleusercontent.com/a-/AFdZu...</td>\n",
       "      <td>app is really bad too many bugs log in problem...</td>\n",
       "      <td>1</td>\n",
       "      <td>1</td>\n",
       "      <td>NaN</td>\n",
       "      <td>2022-08-06 08:58:24</td>\n",
       "      <td>NaN</td>\n",
       "      <td>NaN</td>\n",
       "    </tr>\n",
       "    <tr>\n",
       "      <th>18</th>\n",
       "      <td>94a1a100-0fae-496c-9eae-5343cf97c20b</td>\n",
       "      <td>Mark Brown</td>\n",
       "      <td>https://play-lh.googleusercontent.com/a/AItbvm...</td>\n",
       "      <td>as others have mentioned the app simply doesn ...</td>\n",
       "      <td>1</td>\n",
       "      <td>1</td>\n",
       "      <td>2.9.1-rc1</td>\n",
       "      <td>2022-08-06 08:29:01</td>\n",
       "      <td>NaN</td>\n",
       "      <td>NaN</td>\n",
       "    </tr>\n",
       "    <tr>\n",
       "      <th>27</th>\n",
       "      <td>80db9329-4908-44fe-9376-9dccc3d2867a</td>\n",
       "      <td>MICHELLS DIARIES</td>\n",
       "      <td>https://play-lh.googleusercontent.com/a-/AFdZu...</td>\n",
       "      <td>not working have been trying for over a week t...</td>\n",
       "      <td>1</td>\n",
       "      <td>1</td>\n",
       "      <td>2.9.1-rc1</td>\n",
       "      <td>2022-08-06 06:55:58</td>\n",
       "      <td>NaN</td>\n",
       "      <td>NaN</td>\n",
       "    </tr>\n",
       "    <tr>\n",
       "      <th>35</th>\n",
       "      <td>bc7b2037-c7d8-462b-8ae2-c87765797f71</td>\n",
       "      <td>Cassie Parke</td>\n",
       "      <td>https://play-lh.googleusercontent.com/a/AItbvm...</td>\n",
       "      <td>the app was working fine until a point when i ...</td>\n",
       "      <td>1</td>\n",
       "      <td>1</td>\n",
       "      <td>2.9.1-rc1</td>\n",
       "      <td>2022-08-06 05:57:08</td>\n",
       "      <td>NaN</td>\n",
       "      <td>NaN</td>\n",
       "    </tr>\n",
       "  </tbody>\n",
       "</table>\n",
       "</div>"
      ],
      "text/plain": [
       "                                reviewId          userName  \\\n",
       "1   3c703684-6465-42db-b4b2-74465a1e7c9c      Lena Hollins   \n",
       "13  0a5f18b4-baba-4d6a-b740-aea6b68c9e23     Martin Amador   \n",
       "18  94a1a100-0fae-496c-9eae-5343cf97c20b        Mark Brown   \n",
       "27  80db9329-4908-44fe-9376-9dccc3d2867a  MICHELLS DIARIES   \n",
       "35  bc7b2037-c7d8-462b-8ae2-c87765797f71      Cassie Parke   \n",
       "\n",
       "                                            userImage  \\\n",
       "1   https://play-lh.googleusercontent.com/a/AItbvm...   \n",
       "13  https://play-lh.googleusercontent.com/a-/AFdZu...   \n",
       "18  https://play-lh.googleusercontent.com/a/AItbvm...   \n",
       "27  https://play-lh.googleusercontent.com/a-/AFdZu...   \n",
       "35  https://play-lh.googleusercontent.com/a/AItbvm...   \n",
       "\n",
       "                                              content  score  thumbsUpCount  \\\n",
       "1   disney suck i m paying for two whole accounts ...      1              0   \n",
       "13  app is really bad too many bugs log in problem...      1              1   \n",
       "18  as others have mentioned the app simply doesn ...      1              1   \n",
       "27  not working have been trying for over a week t...      1              1   \n",
       "35  the app was working fine until a point when i ...      1              1   \n",
       "\n",
       "   reviewCreatedVersion                   at replyContent repliedAt  \n",
       "1             2.3.2-rc1  2022-08-06 10:10:05          NaN       NaN  \n",
       "13                  NaN  2022-08-06 08:58:24          NaN       NaN  \n",
       "18            2.9.1-rc1  2022-08-06 08:29:01          NaN       NaN  \n",
       "27            2.9.1-rc1  2022-08-06 06:55:58          NaN       NaN  \n",
       "35            2.9.1-rc1  2022-08-06 05:57:08          NaN       NaN  "
      ]
     },
     "execution_count": 13,
     "metadata": {},
     "output_type": "execute_result"
    }
   ],
   "source": [
    "df_1 = dat[dat['score']==1]\n",
    "df_1.head()"
   ]
  },
  {
   "cell_type": "code",
   "execution_count": 14,
   "metadata": {},
   "outputs": [
    {
     "data": {
      "text/html": [
       "<div>\n",
       "<style scoped>\n",
       "    .dataframe tbody tr th:only-of-type {\n",
       "        vertical-align: middle;\n",
       "    }\n",
       "\n",
       "    .dataframe tbody tr th {\n",
       "        vertical-align: top;\n",
       "    }\n",
       "\n",
       "    .dataframe thead th {\n",
       "        text-align: right;\n",
       "    }\n",
       "</style>\n",
       "<table border=\"1\" class=\"dataframe\">\n",
       "  <thead>\n",
       "    <tr style=\"text-align: right;\">\n",
       "      <th></th>\n",
       "      <th>reviewId</th>\n",
       "      <th>userName</th>\n",
       "      <th>userImage</th>\n",
       "      <th>content</th>\n",
       "      <th>score</th>\n",
       "      <th>thumbsUpCount</th>\n",
       "      <th>reviewCreatedVersion</th>\n",
       "      <th>at</th>\n",
       "      <th>replyContent</th>\n",
       "      <th>repliedAt</th>\n",
       "    </tr>\n",
       "  </thead>\n",
       "  <tbody>\n",
       "    <tr>\n",
       "      <th>33</th>\n",
       "      <td>66c240f1-82bb-4cc0-8399-b4cb442136df</td>\n",
       "      <td>Carlos</td>\n",
       "      <td>https://play-lh.googleusercontent.com/a-/AFdZu...</td>\n",
       "      <td>this pos logs you out then tells me my log in ...</td>\n",
       "      <td>2</td>\n",
       "      <td>1</td>\n",
       "      <td>2.9.1-rc1</td>\n",
       "      <td>2022-08-06 06:31:05</td>\n",
       "      <td>NaN</td>\n",
       "      <td>NaN</td>\n",
       "    </tr>\n",
       "    <tr>\n",
       "      <th>34</th>\n",
       "      <td>2876f3da-7e6e-4537-9833-eebf21958a0f</td>\n",
       "      <td>Bob Cain</td>\n",
       "      <td>https://play-lh.googleusercontent.com/a/AItbvm...</td>\n",
       "      <td>it s great when it works i can only get it to ...</td>\n",
       "      <td>2</td>\n",
       "      <td>1</td>\n",
       "      <td>2.9.1-rc1</td>\n",
       "      <td>2022-08-06 06:01:00</td>\n",
       "      <td>NaN</td>\n",
       "      <td>NaN</td>\n",
       "    </tr>\n",
       "    <tr>\n",
       "      <th>37</th>\n",
       "      <td>f234fbf6-fd89-490e-b9e0-f9ea96c89ded</td>\n",
       "      <td>Marvin Daniel</td>\n",
       "      <td>https://play-lh.googleusercontent.com/a-/AFdZu...</td>\n",
       "      <td>i want to caniel it pleas dorp it thnak</td>\n",
       "      <td>2</td>\n",
       "      <td>0</td>\n",
       "      <td>2.8.0-rc2</td>\n",
       "      <td>2022-08-06 05:38:22</td>\n",
       "      <td>NaN</td>\n",
       "      <td>NaN</td>\n",
       "    </tr>\n",
       "    <tr>\n",
       "      <th>59</th>\n",
       "      <td>5be2964d-9f37-4b72-87bc-fc22daf882f0</td>\n",
       "      <td>Adam Hedges</td>\n",
       "      <td>https://play-lh.googleusercontent.com/a-/AFdZu...</td>\n",
       "      <td>good content but awful application crashes and...</td>\n",
       "      <td>2</td>\n",
       "      <td>0</td>\n",
       "      <td>2.9.1-rc1</td>\n",
       "      <td>2022-08-06 03:06:21</td>\n",
       "      <td>NaN</td>\n",
       "      <td>NaN</td>\n",
       "    </tr>\n",
       "    <tr>\n",
       "      <th>66</th>\n",
       "      <td>4d128299-557c-4471-8a0f-5381a7c8f56d</td>\n",
       "      <td>mario armendariz</td>\n",
       "      <td>https://play-lh.googleusercontent.com/a-/AFdZu...</td>\n",
       "      <td>lag with wifi</td>\n",
       "      <td>2</td>\n",
       "      <td>0</td>\n",
       "      <td>2.9.1-rc1</td>\n",
       "      <td>2022-08-06 02:25:11</td>\n",
       "      <td>NaN</td>\n",
       "      <td>NaN</td>\n",
       "    </tr>\n",
       "  </tbody>\n",
       "</table>\n",
       "</div>"
      ],
      "text/plain": [
       "                                reviewId          userName  \\\n",
       "33  66c240f1-82bb-4cc0-8399-b4cb442136df            Carlos   \n",
       "34  2876f3da-7e6e-4537-9833-eebf21958a0f          Bob Cain   \n",
       "37  f234fbf6-fd89-490e-b9e0-f9ea96c89ded     Marvin Daniel   \n",
       "59  5be2964d-9f37-4b72-87bc-fc22daf882f0       Adam Hedges   \n",
       "66  4d128299-557c-4471-8a0f-5381a7c8f56d  mario armendariz   \n",
       "\n",
       "                                            userImage  \\\n",
       "33  https://play-lh.googleusercontent.com/a-/AFdZu...   \n",
       "34  https://play-lh.googleusercontent.com/a/AItbvm...   \n",
       "37  https://play-lh.googleusercontent.com/a-/AFdZu...   \n",
       "59  https://play-lh.googleusercontent.com/a-/AFdZu...   \n",
       "66  https://play-lh.googleusercontent.com/a-/AFdZu...   \n",
       "\n",
       "                                              content  score  thumbsUpCount  \\\n",
       "33  this pos logs you out then tells me my log in ...      2              1   \n",
       "34  it s great when it works i can only get it to ...      2              1   \n",
       "37            i want to caniel it pleas dorp it thnak      2              0   \n",
       "59  good content but awful application crashes and...      2              0   \n",
       "66                                      lag with wifi      2              0   \n",
       "\n",
       "   reviewCreatedVersion                   at replyContent repliedAt  \n",
       "33            2.9.1-rc1  2022-08-06 06:31:05          NaN       NaN  \n",
       "34            2.9.1-rc1  2022-08-06 06:01:00          NaN       NaN  \n",
       "37            2.8.0-rc2  2022-08-06 05:38:22          NaN       NaN  \n",
       "59            2.9.1-rc1  2022-08-06 03:06:21          NaN       NaN  \n",
       "66            2.9.1-rc1  2022-08-06 02:25:11          NaN       NaN  "
      ]
     },
     "execution_count": 14,
     "metadata": {},
     "output_type": "execute_result"
    }
   ],
   "source": [
    "df_2 = dat[dat['score']==2]\n",
    "df_2.head()"
   ]
  },
  {
   "cell_type": "code",
   "execution_count": 15,
   "metadata": {},
   "outputs": [
    {
     "data": {
      "text/html": [
       "<div>\n",
       "<style scoped>\n",
       "    .dataframe tbody tr th:only-of-type {\n",
       "        vertical-align: middle;\n",
       "    }\n",
       "\n",
       "    .dataframe tbody tr th {\n",
       "        vertical-align: top;\n",
       "    }\n",
       "\n",
       "    .dataframe thead th {\n",
       "        text-align: right;\n",
       "    }\n",
       "</style>\n",
       "<table border=\"1\" class=\"dataframe\">\n",
       "  <thead>\n",
       "    <tr style=\"text-align: right;\">\n",
       "      <th></th>\n",
       "      <th>reviewId</th>\n",
       "      <th>userName</th>\n",
       "      <th>userImage</th>\n",
       "      <th>content</th>\n",
       "      <th>score</th>\n",
       "      <th>thumbsUpCount</th>\n",
       "      <th>reviewCreatedVersion</th>\n",
       "      <th>at</th>\n",
       "      <th>replyContent</th>\n",
       "      <th>repliedAt</th>\n",
       "    </tr>\n",
       "  </thead>\n",
       "  <tbody>\n",
       "    <tr>\n",
       "      <th>20</th>\n",
       "      <td>0a8fe624-c83d-40a3-a37b-28e868196c3e</td>\n",
       "      <td>Rhys Lavy</td>\n",
       "      <td>https://play-lh.googleusercontent.com/a-/AFdZu...</td>\n",
       "      <td>not really the best movies or shows on the app...</td>\n",
       "      <td>3</td>\n",
       "      <td>0</td>\n",
       "      <td>2.9.1-rc1</td>\n",
       "      <td>2022-08-06 07:52:30</td>\n",
       "      <td>NaN</td>\n",
       "      <td>NaN</td>\n",
       "    </tr>\n",
       "    <tr>\n",
       "      <th>22</th>\n",
       "      <td>9fe8d68f-212f-4cc0-8544-93e50aa2d78f</td>\n",
       "      <td>Marilyn Looper</td>\n",
       "      <td>https://play-lh.googleusercontent.com/a-/AFdZu...</td>\n",
       "      <td>will not download to tablet or pc only choices...</td>\n",
       "      <td>3</td>\n",
       "      <td>0</td>\n",
       "      <td>NaN</td>\n",
       "      <td>2022-08-06 07:31:49</td>\n",
       "      <td>NaN</td>\n",
       "      <td>NaN</td>\n",
       "    </tr>\n",
       "    <tr>\n",
       "      <th>30</th>\n",
       "      <td>987f24d6-266f-482d-9941-f6cf9f272f09</td>\n",
       "      <td>Justin Henry</td>\n",
       "      <td>https://play-lh.googleusercontent.com/a-/AFdZu...</td>\n",
       "      <td>wicked step father abuse slows and is still here</td>\n",
       "      <td>3</td>\n",
       "      <td>0</td>\n",
       "      <td>2.9.1-rc1</td>\n",
       "      <td>2022-08-06 06:46:44</td>\n",
       "      <td>NaN</td>\n",
       "      <td>NaN</td>\n",
       "    </tr>\n",
       "    <tr>\n",
       "      <th>89</th>\n",
       "      <td>ae6c82c9-5af7-4691-92f8-1babb1e6319e</td>\n",
       "      <td>Mindi Styn</td>\n",
       "      <td>https://play-lh.googleusercontent.com/a/AItbvm...</td>\n",
       "      <td>i love the disney plus service but the app is ...</td>\n",
       "      <td>3</td>\n",
       "      <td>0</td>\n",
       "      <td>2.9.1-rc1</td>\n",
       "      <td>2022-08-06 00:40:57</td>\n",
       "      <td>NaN</td>\n",
       "      <td>NaN</td>\n",
       "    </tr>\n",
       "    <tr>\n",
       "      <th>110</th>\n",
       "      <td>8b191412-6248-44a7-82ce-6ab169de9f6c</td>\n",
       "      <td>Alex</td>\n",
       "      <td>https://play-lh.googleusercontent.com/a/AItbvm...</td>\n",
       "      <td>please make the watchlist bigger now it s limi...</td>\n",
       "      <td>3</td>\n",
       "      <td>0</td>\n",
       "      <td>2.9.1-rc1</td>\n",
       "      <td>2022-08-05 21:45:57</td>\n",
       "      <td>NaN</td>\n",
       "      <td>NaN</td>\n",
       "    </tr>\n",
       "  </tbody>\n",
       "</table>\n",
       "</div>"
      ],
      "text/plain": [
       "                                 reviewId        userName  \\\n",
       "20   0a8fe624-c83d-40a3-a37b-28e868196c3e       Rhys Lavy   \n",
       "22   9fe8d68f-212f-4cc0-8544-93e50aa2d78f  Marilyn Looper   \n",
       "30   987f24d6-266f-482d-9941-f6cf9f272f09    Justin Henry   \n",
       "89   ae6c82c9-5af7-4691-92f8-1babb1e6319e      Mindi Styn   \n",
       "110  8b191412-6248-44a7-82ce-6ab169de9f6c            Alex   \n",
       "\n",
       "                                             userImage  \\\n",
       "20   https://play-lh.googleusercontent.com/a-/AFdZu...   \n",
       "22   https://play-lh.googleusercontent.com/a-/AFdZu...   \n",
       "30   https://play-lh.googleusercontent.com/a-/AFdZu...   \n",
       "89   https://play-lh.googleusercontent.com/a/AItbvm...   \n",
       "110  https://play-lh.googleusercontent.com/a/AItbvm...   \n",
       "\n",
       "                                               content  score  thumbsUpCount  \\\n",
       "20   not really the best movies or shows on the app...      3              0   \n",
       "22   will not download to tablet or pc only choices...      3              0   \n",
       "30   wicked step father abuse slows and is still here       3              0   \n",
       "89   i love the disney plus service but the app is ...      3              0   \n",
       "110  please make the watchlist bigger now it s limi...      3              0   \n",
       "\n",
       "    reviewCreatedVersion                   at replyContent repliedAt  \n",
       "20             2.9.1-rc1  2022-08-06 07:52:30          NaN       NaN  \n",
       "22                   NaN  2022-08-06 07:31:49          NaN       NaN  \n",
       "30             2.9.1-rc1  2022-08-06 06:46:44          NaN       NaN  \n",
       "89             2.9.1-rc1  2022-08-06 00:40:57          NaN       NaN  \n",
       "110            2.9.1-rc1  2022-08-05 21:45:57          NaN       NaN  "
      ]
     },
     "execution_count": 15,
     "metadata": {},
     "output_type": "execute_result"
    }
   ],
   "source": [
    "df_3 = dat[dat['score']==3]\n",
    "df_3.head()"
   ]
  },
  {
   "cell_type": "code",
   "execution_count": 16,
   "metadata": {},
   "outputs": [
    {
     "data": {
      "text/html": [
       "<div>\n",
       "<style scoped>\n",
       "    .dataframe tbody tr th:only-of-type {\n",
       "        vertical-align: middle;\n",
       "    }\n",
       "\n",
       "    .dataframe tbody tr th {\n",
       "        vertical-align: top;\n",
       "    }\n",
       "\n",
       "    .dataframe thead th {\n",
       "        text-align: right;\n",
       "    }\n",
       "</style>\n",
       "<table border=\"1\" class=\"dataframe\">\n",
       "  <thead>\n",
       "    <tr style=\"text-align: right;\">\n",
       "      <th></th>\n",
       "      <th>reviewId</th>\n",
       "      <th>userName</th>\n",
       "      <th>userImage</th>\n",
       "      <th>content</th>\n",
       "      <th>score</th>\n",
       "      <th>thumbsUpCount</th>\n",
       "      <th>reviewCreatedVersion</th>\n",
       "      <th>at</th>\n",
       "      <th>replyContent</th>\n",
       "      <th>repliedAt</th>\n",
       "    </tr>\n",
       "  </thead>\n",
       "  <tbody>\n",
       "    <tr>\n",
       "      <th>8</th>\n",
       "      <td>b9d36e18-2dd8-47d5-bfe4-526a8bd86a55</td>\n",
       "      <td>thaddeusc44</td>\n",
       "      <td>https://play-lh.googleusercontent.com/a-/AFdZu...</td>\n",
       "      <td>it is a good streaming service it s just when ...</td>\n",
       "      <td>4</td>\n",
       "      <td>0</td>\n",
       "      <td>2.9.1-rc1</td>\n",
       "      <td>2022-08-06 09:44:23</td>\n",
       "      <td>NaN</td>\n",
       "      <td>NaN</td>\n",
       "    </tr>\n",
       "    <tr>\n",
       "      <th>9</th>\n",
       "      <td>6d2d5548-916a-434e-95df-b745f9553620</td>\n",
       "      <td>Cesar Robles</td>\n",
       "      <td>https://play-lh.googleusercontent.com/a-/AFdZu...</td>\n",
       "      <td>streams perfectly</td>\n",
       "      <td>4</td>\n",
       "      <td>0</td>\n",
       "      <td>2.9.1-rc1</td>\n",
       "      <td>2022-08-06 09:43:07</td>\n",
       "      <td>NaN</td>\n",
       "      <td>NaN</td>\n",
       "    </tr>\n",
       "    <tr>\n",
       "      <th>19</th>\n",
       "      <td>33c75bab-a145-4dcc-970f-4ba8ddeb1835</td>\n",
       "      <td>Thomas Hatch</td>\n",
       "      <td>https://play-lh.googleusercontent.com/a/AItbvm...</td>\n",
       "      <td>i love it it good when you can watch it entime...</td>\n",
       "      <td>4</td>\n",
       "      <td>0</td>\n",
       "      <td>2.6.2-rc1</td>\n",
       "      <td>2022-08-06 08:11:19</td>\n",
       "      <td>NaN</td>\n",
       "      <td>NaN</td>\n",
       "    </tr>\n",
       "    <tr>\n",
       "      <th>24</th>\n",
       "      <td>c69a2d1f-2760-45a3-b088-b121e3761001</td>\n",
       "      <td>Daniel Dias</td>\n",
       "      <td>https://play-lh.googleusercontent.com/a-/AFdZu...</td>\n",
       "      <td>the app is good but there are so many errors c...</td>\n",
       "      <td>4</td>\n",
       "      <td>0</td>\n",
       "      <td>2.9.1-rc1</td>\n",
       "      <td>2022-08-06 07:16:28</td>\n",
       "      <td>NaN</td>\n",
       "      <td>NaN</td>\n",
       "    </tr>\n",
       "    <tr>\n",
       "      <th>32</th>\n",
       "      <td>9e355ca9-5f98-424e-9195-5bc2cd929997</td>\n",
       "      <td>Vladan Đuričanin</td>\n",
       "      <td>https://play-lh.googleusercontent.com/a-/AFdZu...</td>\n",
       "      <td>stars just because it doesn t yet have serbia...</td>\n",
       "      <td>4</td>\n",
       "      <td>0</td>\n",
       "      <td>NaN</td>\n",
       "      <td>2022-08-06 06:34:27</td>\n",
       "      <td>NaN</td>\n",
       "      <td>NaN</td>\n",
       "    </tr>\n",
       "  </tbody>\n",
       "</table>\n",
       "</div>"
      ],
      "text/plain": [
       "                                reviewId          userName  \\\n",
       "8   b9d36e18-2dd8-47d5-bfe4-526a8bd86a55       thaddeusc44   \n",
       "9   6d2d5548-916a-434e-95df-b745f9553620      Cesar Robles   \n",
       "19  33c75bab-a145-4dcc-970f-4ba8ddeb1835      Thomas Hatch   \n",
       "24  c69a2d1f-2760-45a3-b088-b121e3761001       Daniel Dias   \n",
       "32  9e355ca9-5f98-424e-9195-5bc2cd929997  Vladan Đuričanin   \n",
       "\n",
       "                                            userImage  \\\n",
       "8   https://play-lh.googleusercontent.com/a-/AFdZu...   \n",
       "9   https://play-lh.googleusercontent.com/a-/AFdZu...   \n",
       "19  https://play-lh.googleusercontent.com/a/AItbvm...   \n",
       "24  https://play-lh.googleusercontent.com/a-/AFdZu...   \n",
       "32  https://play-lh.googleusercontent.com/a-/AFdZu...   \n",
       "\n",
       "                                              content  score  thumbsUpCount  \\\n",
       "8   it is a good streaming service it s just when ...      4              0   \n",
       "9                                  streams perfectly       4              0   \n",
       "19  i love it it good when you can watch it entime...      4              0   \n",
       "24  the app is good but there are so many errors c...      4              0   \n",
       "32   stars just because it doesn t yet have serbia...      4              0   \n",
       "\n",
       "   reviewCreatedVersion                   at replyContent repliedAt  \n",
       "8             2.9.1-rc1  2022-08-06 09:44:23          NaN       NaN  \n",
       "9             2.9.1-rc1  2022-08-06 09:43:07          NaN       NaN  \n",
       "19            2.6.2-rc1  2022-08-06 08:11:19          NaN       NaN  \n",
       "24            2.9.1-rc1  2022-08-06 07:16:28          NaN       NaN  \n",
       "32                  NaN  2022-08-06 06:34:27          NaN       NaN  "
      ]
     },
     "execution_count": 16,
     "metadata": {},
     "output_type": "execute_result"
    }
   ],
   "source": [
    "df_4 = dat[dat['score']==4]\n",
    "df_4.head()"
   ]
  },
  {
   "cell_type": "code",
   "execution_count": 17,
   "metadata": {},
   "outputs": [
    {
     "data": {
      "text/html": [
       "<div>\n",
       "<style scoped>\n",
       "    .dataframe tbody tr th:only-of-type {\n",
       "        vertical-align: middle;\n",
       "    }\n",
       "\n",
       "    .dataframe tbody tr th {\n",
       "        vertical-align: top;\n",
       "    }\n",
       "\n",
       "    .dataframe thead th {\n",
       "        text-align: right;\n",
       "    }\n",
       "</style>\n",
       "<table border=\"1\" class=\"dataframe\">\n",
       "  <thead>\n",
       "    <tr style=\"text-align: right;\">\n",
       "      <th></th>\n",
       "      <th>reviewId</th>\n",
       "      <th>userName</th>\n",
       "      <th>userImage</th>\n",
       "      <th>content</th>\n",
       "      <th>score</th>\n",
       "      <th>thumbsUpCount</th>\n",
       "      <th>reviewCreatedVersion</th>\n",
       "      <th>at</th>\n",
       "      <th>replyContent</th>\n",
       "      <th>repliedAt</th>\n",
       "    </tr>\n",
       "  </thead>\n",
       "  <tbody>\n",
       "    <tr>\n",
       "      <th>0</th>\n",
       "      <td>b6a61f47-142a-4fa7-8861-cac7db5395bf</td>\n",
       "      <td>Rylan-Tanya Bailey</td>\n",
       "      <td>https://play-lh.googleusercontent.com/a-/AFdZu...</td>\n",
       "      <td>it s a very good app perfect for family movie ...</td>\n",
       "      <td>5</td>\n",
       "      <td>0</td>\n",
       "      <td>2.9.1-rc1</td>\n",
       "      <td>2022-08-06 10:15:15</td>\n",
       "      <td>NaN</td>\n",
       "      <td>NaN</td>\n",
       "    </tr>\n",
       "    <tr>\n",
       "      <th>5</th>\n",
       "      <td>82a8c221-85d9-4fed-9ce0-41609d4fe9e9</td>\n",
       "      <td>ANTHONY COOPER</td>\n",
       "      <td>https://play-lh.googleusercontent.com/a-/AFdZu...</td>\n",
       "      <td>very good movie it teaches that people of diff...</td>\n",
       "      <td>5</td>\n",
       "      <td>0</td>\n",
       "      <td>2.9.1-rc1</td>\n",
       "      <td>2022-08-06 09:47:20</td>\n",
       "      <td>NaN</td>\n",
       "      <td>NaN</td>\n",
       "    </tr>\n",
       "    <tr>\n",
       "      <th>6</th>\n",
       "      <td>8cd7f3cd-7784-48ec-82de-e4dcf0bd99ad</td>\n",
       "      <td>Magnus SaucerMan</td>\n",
       "      <td>https://play-lh.googleusercontent.com/a-/AFdZu...</td>\n",
       "      <td>great movies and shows</td>\n",
       "      <td>5</td>\n",
       "      <td>0</td>\n",
       "      <td>2.9.1-rc1</td>\n",
       "      <td>2022-08-06 09:46:24</td>\n",
       "      <td>NaN</td>\n",
       "      <td>NaN</td>\n",
       "    </tr>\n",
       "    <tr>\n",
       "      <th>11</th>\n",
       "      <td>65d2a028-90bb-4e23-a03f-56f2aae044f6</td>\n",
       "      <td>David Paul</td>\n",
       "      <td>https://play-lh.googleusercontent.com/a/AItbvm...</td>\n",
       "      <td>best shows best movies app works great excellence</td>\n",
       "      <td>5</td>\n",
       "      <td>0</td>\n",
       "      <td>2.9.1-rc1</td>\n",
       "      <td>2022-08-06 09:15:54</td>\n",
       "      <td>NaN</td>\n",
       "      <td>NaN</td>\n",
       "    </tr>\n",
       "    <tr>\n",
       "      <th>12</th>\n",
       "      <td>a02a4a82-e85a-4ccf-ba1b-5085ce511638</td>\n",
       "      <td>Juan Zelaya-Diaz</td>\n",
       "      <td>https://play-lh.googleusercontent.com/a-/AFdZu...</td>\n",
       "      <td>this is amazing on my samsung galaxy a e i can...</td>\n",
       "      <td>5</td>\n",
       "      <td>0</td>\n",
       "      <td>2.9.1-rc1</td>\n",
       "      <td>2022-08-06 09:02:08</td>\n",
       "      <td>NaN</td>\n",
       "      <td>NaN</td>\n",
       "    </tr>\n",
       "  </tbody>\n",
       "</table>\n",
       "</div>"
      ],
      "text/plain": [
       "                                reviewId            userName  \\\n",
       "0   b6a61f47-142a-4fa7-8861-cac7db5395bf  Rylan-Tanya Bailey   \n",
       "5   82a8c221-85d9-4fed-9ce0-41609d4fe9e9      ANTHONY COOPER   \n",
       "6   8cd7f3cd-7784-48ec-82de-e4dcf0bd99ad    Magnus SaucerMan   \n",
       "11  65d2a028-90bb-4e23-a03f-56f2aae044f6          David Paul   \n",
       "12  a02a4a82-e85a-4ccf-ba1b-5085ce511638    Juan Zelaya-Diaz   \n",
       "\n",
       "                                            userImage  \\\n",
       "0   https://play-lh.googleusercontent.com/a-/AFdZu...   \n",
       "5   https://play-lh.googleusercontent.com/a-/AFdZu...   \n",
       "6   https://play-lh.googleusercontent.com/a-/AFdZu...   \n",
       "11  https://play-lh.googleusercontent.com/a/AItbvm...   \n",
       "12  https://play-lh.googleusercontent.com/a-/AFdZu...   \n",
       "\n",
       "                                              content  score  thumbsUpCount  \\\n",
       "0   it s a very good app perfect for family movie ...      5              0   \n",
       "5   very good movie it teaches that people of diff...      5              0   \n",
       "6                              great movies and shows      5              0   \n",
       "11  best shows best movies app works great excellence      5              0   \n",
       "12  this is amazing on my samsung galaxy a e i can...      5              0   \n",
       "\n",
       "   reviewCreatedVersion                   at replyContent repliedAt  \n",
       "0             2.9.1-rc1  2022-08-06 10:15:15          NaN       NaN  \n",
       "5             2.9.1-rc1  2022-08-06 09:47:20          NaN       NaN  \n",
       "6             2.9.1-rc1  2022-08-06 09:46:24          NaN       NaN  \n",
       "11            2.9.1-rc1  2022-08-06 09:15:54          NaN       NaN  \n",
       "12            2.9.1-rc1  2022-08-06 09:02:08          NaN       NaN  "
      ]
     },
     "execution_count": 17,
     "metadata": {},
     "output_type": "execute_result"
    }
   ],
   "source": [
    "df_5 = dat[dat['score']==5]\n",
    "df_5.head()"
   ]
  },
  {
   "cell_type": "code",
   "execution_count": 18,
   "metadata": {},
   "outputs": [
    {
     "name": "stdout",
     "output_type": "stream",
     "text": [
      "<class 'pandas.core.frame.DataFrame'>\n",
      "Int64Index: 10000 entries, 15346 to 62888\n",
      "Data columns (total 10 columns):\n",
      " #   Column                Non-Null Count  Dtype \n",
      "---  ------                --------------  ----- \n",
      " 0   reviewId              10000 non-null  object\n",
      " 1   userName              10000 non-null  object\n",
      " 2   userImage             10000 non-null  object\n",
      " 3   content               10000 non-null  object\n",
      " 4   score                 10000 non-null  int64 \n",
      " 5   thumbsUpCount         10000 non-null  int64 \n",
      " 6   reviewCreatedVersion  8094 non-null   object\n",
      " 7   at                    10000 non-null  object\n",
      " 8   replyContent          689 non-null    object\n",
      " 9   repliedAt             689 non-null    object\n",
      "dtypes: int64(2), object(8)\n",
      "memory usage: 859.4+ KB\n"
     ]
    }
   ],
   "source": [
    "df1_sampled = df_1.sample(n=10000,random_state = 2).copy()\n",
    "df1_sampled.info()"
   ]
  },
  {
   "cell_type": "code",
   "execution_count": 19,
   "metadata": {},
   "outputs": [
    {
     "name": "stdout",
     "output_type": "stream",
     "text": [
      "<class 'pandas.core.frame.DataFrame'>\n",
      "Int64Index: 10000 entries, 141959 to 35727\n",
      "Data columns (total 10 columns):\n",
      " #   Column                Non-Null Count  Dtype \n",
      "---  ------                --------------  ----- \n",
      " 0   reviewId              10000 non-null  object\n",
      " 1   userName              10000 non-null  object\n",
      " 2   userImage             10000 non-null  object\n",
      " 3   content               10000 non-null  object\n",
      " 4   score                 10000 non-null  int64 \n",
      " 5   thumbsUpCount         10000 non-null  int64 \n",
      " 6   reviewCreatedVersion  8672 non-null   object\n",
      " 7   at                    10000 non-null  object\n",
      " 8   replyContent          286 non-null    object\n",
      " 9   repliedAt             286 non-null    object\n",
      "dtypes: int64(2), object(8)\n",
      "memory usage: 859.4+ KB\n"
     ]
    }
   ],
   "source": [
    "df2_sampled = df_2.sample(n=10000,random_state = 2).copy()\n",
    "df2_sampled.info()"
   ]
  },
  {
   "cell_type": "code",
   "execution_count": 20,
   "metadata": {},
   "outputs": [
    {
     "name": "stdout",
     "output_type": "stream",
     "text": [
      "<class 'pandas.core.frame.DataFrame'>\n",
      "Int64Index: 10000 entries, 146377 to 125651\n",
      "Data columns (total 10 columns):\n",
      " #   Column                Non-Null Count  Dtype \n",
      "---  ------                --------------  ----- \n",
      " 0   reviewId              10000 non-null  object\n",
      " 1   userName              10000 non-null  object\n",
      " 2   userImage             10000 non-null  object\n",
      " 3   content               10000 non-null  object\n",
      " 4   score                 10000 non-null  int64 \n",
      " 5   thumbsUpCount         10000 non-null  int64 \n",
      " 6   reviewCreatedVersion  8832 non-null   object\n",
      " 7   at                    10000 non-null  object\n",
      " 8   replyContent          245 non-null    object\n",
      " 9   repliedAt             245 non-null    object\n",
      "dtypes: int64(2), object(8)\n",
      "memory usage: 859.4+ KB\n"
     ]
    }
   ],
   "source": [
    "df3_sampled = df_3.sample(n=10000,random_state = 2).copy()\n",
    "df3_sampled.info()"
   ]
  },
  {
   "cell_type": "code",
   "execution_count": 21,
   "metadata": {},
   "outputs": [
    {
     "name": "stdout",
     "output_type": "stream",
     "text": [
      "<class 'pandas.core.frame.DataFrame'>\n",
      "Int64Index: 10000 entries, 154973 to 154258\n",
      "Data columns (total 10 columns):\n",
      " #   Column                Non-Null Count  Dtype \n",
      "---  ------                --------------  ----- \n",
      " 0   reviewId              10000 non-null  object\n",
      " 1   userName              10000 non-null  object\n",
      " 2   userImage             10000 non-null  object\n",
      " 3   content               10000 non-null  object\n",
      " 4   score                 10000 non-null  int64 \n",
      " 5   thumbsUpCount         10000 non-null  int64 \n",
      " 6   reviewCreatedVersion  8795 non-null   object\n",
      " 7   at                    10000 non-null  object\n",
      " 8   replyContent          147 non-null    object\n",
      " 9   repliedAt             147 non-null    object\n",
      "dtypes: int64(2), object(8)\n",
      "memory usage: 859.4+ KB\n"
     ]
    }
   ],
   "source": [
    "df4_sampled = df_4.sample(n=10000,random_state = 2).copy()\n",
    "df4_sampled.info()"
   ]
  },
  {
   "cell_type": "code",
   "execution_count": 22,
   "metadata": {},
   "outputs": [
    {
     "name": "stdout",
     "output_type": "stream",
     "text": [
      "<class 'pandas.core.frame.DataFrame'>\n",
      "Int64Index: 10000 entries, 14406 to 130055\n",
      "Data columns (total 10 columns):\n",
      " #   Column                Non-Null Count  Dtype \n",
      "---  ------                --------------  ----- \n",
      " 0   reviewId              10000 non-null  object\n",
      " 1   userName              10000 non-null  object\n",
      " 2   userImage             10000 non-null  object\n",
      " 3   content               10000 non-null  object\n",
      " 4   score                 10000 non-null  int64 \n",
      " 5   thumbsUpCount         10000 non-null  int64 \n",
      " 6   reviewCreatedVersion  8314 non-null   object\n",
      " 7   at                    10000 non-null  object\n",
      " 8   replyContent          33 non-null     object\n",
      " 9   repliedAt             33 non-null     object\n",
      "dtypes: int64(2), object(8)\n",
      "memory usage: 859.4+ KB\n"
     ]
    }
   ],
   "source": [
    "df5_sampled = df_5.sample(n=10000,random_state = 2).copy()\n",
    "df5_sampled.info()"
   ]
  },
  {
   "cell_type": "code",
   "execution_count": 23,
   "metadata": {},
   "outputs": [
    {
     "data": {
      "text/plain": [
       "1    10000\n",
       "2    10000\n",
       "3    10000\n",
       "4    10000\n",
       "5    10000\n",
       "Name: score, dtype: int64"
      ]
     },
     "execution_count": 23,
     "metadata": {},
     "output_type": "execute_result"
    }
   ],
   "source": [
    "#Create a dataframe that concatenates df0_sampled (not promoted) and df1(promoted employees)\n",
    "df_new = pd.concat([df1_sampled, df2_sampled, df3_sampled, df4_sampled, df5_sampled], axis=0)\n",
    "df_new['score'].value_counts()"
   ]
  },
  {
   "cell_type": "code",
   "execution_count": 24,
   "metadata": {},
   "outputs": [],
   "source": [
    "df_new.to_csv('filtered_downsampled_disneyplus_reviews.csv', index=False)"
   ]
  },
  {
   "cell_type": "code",
   "execution_count": 6,
   "metadata": {},
   "outputs": [],
   "source": [
    "df = pd.read_csv('filtered_downsampled_disneyplus_reviews.csv')"
   ]
  },
  {
   "cell_type": "code",
   "execution_count": 7,
   "metadata": {},
   "outputs": [
    {
     "data": {
      "text/html": [
       "<div>\n",
       "<style scoped>\n",
       "    .dataframe tbody tr th:only-of-type {\n",
       "        vertical-align: middle;\n",
       "    }\n",
       "\n",
       "    .dataframe tbody tr th {\n",
       "        vertical-align: top;\n",
       "    }\n",
       "\n",
       "    .dataframe thead th {\n",
       "        text-align: right;\n",
       "    }\n",
       "</style>\n",
       "<table border=\"1\" class=\"dataframe\">\n",
       "  <thead>\n",
       "    <tr style=\"text-align: right;\">\n",
       "      <th></th>\n",
       "      <th>reviewId</th>\n",
       "      <th>userName</th>\n",
       "      <th>userImage</th>\n",
       "      <th>content</th>\n",
       "      <th>score</th>\n",
       "      <th>thumbsUpCount</th>\n",
       "      <th>reviewCreatedVersion</th>\n",
       "      <th>at</th>\n",
       "      <th>replyContent</th>\n",
       "      <th>repliedAt</th>\n",
       "    </tr>\n",
       "  </thead>\n",
       "  <tbody>\n",
       "    <tr>\n",
       "      <th>0</th>\n",
       "      <td>b845ac60-6fa2-492c-bc35-492bcb2289a7</td>\n",
       "      <td>Mikaylah McLaughlin</td>\n",
       "      <td>https://play-lh.googleusercontent.com/a-/AFdZu...</td>\n",
       "      <td>app uses alot more data than other streaming s...</td>\n",
       "      <td>1</td>\n",
       "      <td>1</td>\n",
       "      <td>2.5.0-rc1</td>\n",
       "      <td>2022-03-16 05:55:23</td>\n",
       "      <td>NaN</td>\n",
       "      <td>NaN</td>\n",
       "    </tr>\n",
       "    <tr>\n",
       "      <th>1</th>\n",
       "      <td>697f7b0f-7c06-4ea1-abea-4180e2172c76</td>\n",
       "      <td>Melissa Hayes</td>\n",
       "      <td>https://play-lh.googleusercontent.com/a-/AFdZu...</td>\n",
       "      <td>okay the app is fine but i don t like huge cor...</td>\n",
       "      <td>1</td>\n",
       "      <td>0</td>\n",
       "      <td>1.9.1</td>\n",
       "      <td>2020-09-20 12:59:07</td>\n",
       "      <td>NaN</td>\n",
       "      <td>NaN</td>\n",
       "    </tr>\n",
       "    <tr>\n",
       "      <th>2</th>\n",
       "      <td>53a89eb3-1233-4c23-ac8b-69ab98185762</td>\n",
       "      <td>Bluu Johnson</td>\n",
       "      <td>https://play-lh.googleusercontent.com/a-/AFdZu...</td>\n",
       "      <td>the app wont let me log in it keeps saying i n...</td>\n",
       "      <td>1</td>\n",
       "      <td>0</td>\n",
       "      <td>1.11.3</td>\n",
       "      <td>2020-12-16 03:49:01</td>\n",
       "      <td>NaN</td>\n",
       "      <td>NaN</td>\n",
       "    </tr>\n",
       "    <tr>\n",
       "      <th>3</th>\n",
       "      <td>95e5f052-d662-44ad-aef9-8093aa427aa9</td>\n",
       "      <td>Andreea N</td>\n",
       "      <td>https://play-lh.googleusercontent.com/a-/AFdZu...</td>\n",
       "      <td>the app just doesn t load anymore i can t do a...</td>\n",
       "      <td>1</td>\n",
       "      <td>0</td>\n",
       "      <td>1.8.0</td>\n",
       "      <td>2020-09-03 04:40:39</td>\n",
       "      <td>NaN</td>\n",
       "      <td>NaN</td>\n",
       "    </tr>\n",
       "    <tr>\n",
       "      <th>4</th>\n",
       "      <td>b1c1f991-388d-4284-b1e6-9c02208b2e35</td>\n",
       "      <td>A Google user</td>\n",
       "      <td>https://play-lh.googleusercontent.com/EGemoI2N...</td>\n",
       "      <td>i can t even log in i paid for service too not...</td>\n",
       "      <td>1</td>\n",
       "      <td>0</td>\n",
       "      <td>1.1.3</td>\n",
       "      <td>2019-11-15 03:28:33</td>\n",
       "      <td>NaN</td>\n",
       "      <td>NaN</td>\n",
       "    </tr>\n",
       "  </tbody>\n",
       "</table>\n",
       "</div>"
      ],
      "text/plain": [
       "                               reviewId             userName  \\\n",
       "0  b845ac60-6fa2-492c-bc35-492bcb2289a7  Mikaylah McLaughlin   \n",
       "1  697f7b0f-7c06-4ea1-abea-4180e2172c76        Melissa Hayes   \n",
       "2  53a89eb3-1233-4c23-ac8b-69ab98185762         Bluu Johnson   \n",
       "3  95e5f052-d662-44ad-aef9-8093aa427aa9            Andreea N   \n",
       "4  b1c1f991-388d-4284-b1e6-9c02208b2e35        A Google user   \n",
       "\n",
       "                                           userImage  \\\n",
       "0  https://play-lh.googleusercontent.com/a-/AFdZu...   \n",
       "1  https://play-lh.googleusercontent.com/a-/AFdZu...   \n",
       "2  https://play-lh.googleusercontent.com/a-/AFdZu...   \n",
       "3  https://play-lh.googleusercontent.com/a-/AFdZu...   \n",
       "4  https://play-lh.googleusercontent.com/EGemoI2N...   \n",
       "\n",
       "                                             content  score  thumbsUpCount  \\\n",
       "0  app uses alot more data than other streaming s...      1              1   \n",
       "1  okay the app is fine but i don t like huge cor...      1              0   \n",
       "2  the app wont let me log in it keeps saying i n...      1              0   \n",
       "3  the app just doesn t load anymore i can t do a...      1              0   \n",
       "4  i can t even log in i paid for service too not...      1              0   \n",
       "\n",
       "  reviewCreatedVersion                   at replyContent repliedAt  \n",
       "0            2.5.0-rc1  2022-03-16 05:55:23          NaN       NaN  \n",
       "1                1.9.1  2020-09-20 12:59:07          NaN       NaN  \n",
       "2               1.11.3  2020-12-16 03:49:01          NaN       NaN  \n",
       "3                1.8.0  2020-09-03 04:40:39          NaN       NaN  \n",
       "4                1.1.3  2019-11-15 03:28:33          NaN       NaN  "
      ]
     },
     "execution_count": 7,
     "metadata": {},
     "output_type": "execute_result"
    }
   ],
   "source": [
    "df.head()"
   ]
  },
  {
   "cell_type": "code",
   "execution_count": 8,
   "metadata": {},
   "outputs": [],
   "source": [
    "df = df[[\"content\", \"score\"]]"
   ]
  },
  {
   "cell_type": "code",
   "execution_count": 9,
   "metadata": {},
   "outputs": [
    {
     "data": {
      "text/html": [
       "<div>\n",
       "<style scoped>\n",
       "    .dataframe tbody tr th:only-of-type {\n",
       "        vertical-align: middle;\n",
       "    }\n",
       "\n",
       "    .dataframe tbody tr th {\n",
       "        vertical-align: top;\n",
       "    }\n",
       "\n",
       "    .dataframe thead th {\n",
       "        text-align: right;\n",
       "    }\n",
       "</style>\n",
       "<table border=\"1\" class=\"dataframe\">\n",
       "  <thead>\n",
       "    <tr style=\"text-align: right;\">\n",
       "      <th></th>\n",
       "      <th>content</th>\n",
       "      <th>score</th>\n",
       "    </tr>\n",
       "  </thead>\n",
       "  <tbody>\n",
       "    <tr>\n",
       "      <th>0</th>\n",
       "      <td>app uses alot more data than other streaming s...</td>\n",
       "      <td>1</td>\n",
       "    </tr>\n",
       "    <tr>\n",
       "      <th>1</th>\n",
       "      <td>okay the app is fine but i don t like huge cor...</td>\n",
       "      <td>1</td>\n",
       "    </tr>\n",
       "    <tr>\n",
       "      <th>2</th>\n",
       "      <td>the app wont let me log in it keeps saying i n...</td>\n",
       "      <td>1</td>\n",
       "    </tr>\n",
       "    <tr>\n",
       "      <th>3</th>\n",
       "      <td>the app just doesn t load anymore i can t do a...</td>\n",
       "      <td>1</td>\n",
       "    </tr>\n",
       "    <tr>\n",
       "      <th>4</th>\n",
       "      <td>i can t even log in i paid for service too not...</td>\n",
       "      <td>1</td>\n",
       "    </tr>\n",
       "  </tbody>\n",
       "</table>\n",
       "</div>"
      ],
      "text/plain": [
       "                                             content  score\n",
       "0  app uses alot more data than other streaming s...      1\n",
       "1  okay the app is fine but i don t like huge cor...      1\n",
       "2  the app wont let me log in it keeps saying i n...      1\n",
       "3  the app just doesn t load anymore i can t do a...      1\n",
       "4  i can t even log in i paid for service too not...      1"
      ]
     },
     "execution_count": 9,
     "metadata": {},
     "output_type": "execute_result"
    }
   ],
   "source": [
    "df.head()"
   ]
  },
  {
   "cell_type": "code",
   "execution_count": 10,
   "metadata": {},
   "outputs": [
    {
     "name": "stdout",
     "output_type": "stream",
     "text": [
      "<class 'pandas.core.frame.DataFrame'>\n",
      "RangeIndex: 50000 entries, 0 to 49999\n",
      "Data columns (total 2 columns):\n",
      " #   Column   Non-Null Count  Dtype \n",
      "---  ------   --------------  ----- \n",
      " 0   content  50000 non-null  object\n",
      " 1   score    50000 non-null  int64 \n",
      "dtypes: int64(1), object(1)\n",
      "memory usage: 781.4+ KB\n"
     ]
    }
   ],
   "source": [
    "df.info()"
   ]
  },
  {
   "cell_type": "markdown",
   "metadata": {},
   "source": [
    "### 1.3 Data Sampling"
   ]
  },
  {
   "cell_type": "code",
   "execution_count": 11,
   "metadata": {},
   "outputs": [],
   "source": [
    "text = df.loc[:,'content'].values\n",
    "labels = df.loc[:,'score'].values\n",
    "texts_cleaned = []\n",
    "for i in text:\n",
    "    texts_cleaned.append(str(i))"
   ]
  },
  {
   "cell_type": "code",
   "execution_count": 12,
   "metadata": {},
   "outputs": [
    {
     "data": {
      "text/plain": [
       "['app uses alot more data than other streaming services and after last update doesn t allow for casting ',\n",
       " 'okay the app is fine but i don t like huge corporations so i m voicing my opinion with this dumb review that nobody cares about ',\n",
       " 'the app wont let me log in it keeps saying i need to update payment but i already paid for the bundle subscription ',\n",
       " 'the app just doesn t load anymore i can t do anything ',\n",
       " 'i can t even log in i paid for service too not a trial this app sucks ',\n",
       " 'hasnt worked in days',\n",
       " 'horrible streaming performance and service total waste of money the disney content delivery system clearly doesn t work it s just constant pause buffer play pause buffer play netflix hulu youtube all work great but disney application is a complete joke shows are just ok mandalorian is the only new thing that is any good but none of that matters because the app doesn t work i don t really see this business model working out since you can watch the entire library in a few days ',\n",
       " 'sick company',\n",
       " 'look up china uncensored',\n",
       " 'i ve had this app for a year and i would rate it no stars if i could yes it has great movies but parents look at what they have they are promoting gay lesbian and sex change movies for the small children to pick and watch nope not supporting that ',\n",
       " 'spent over an hour trying to connect continuously recieved error message still have never been able to watch one damn thing or connect once again disney has been able to rape me of my money such as they have done to the star wars franchise very disappointed and unfulfilled thanks disney ',\n",
       " 'this app is ridiculous i ve updated my payment method logged out and back in hit refresh endless tes yet it s still saying update payment method',\n",
       " 'error can t get pass to the download screen saying try again later for awhile now yr subscription it s not worth it if it s like this ',\n",
       " 'won t let me watch movies or anything',\n",
       " 'doesn t work just sits on the front screen i expected more from disney this is pretty bad ',\n",
       " 'whenever i download a show movie it shows expired immediately will not renew disney has no clue what is going on or how to fix it ',\n",
       " 'app doesn t work waste of subscription ',\n",
       " 'glitching when trying to select season and episode very annoying and wasted time ',\n",
       " 'won t load any movie in phone app',\n",
       " 'app sometimes doesn t recognise my password doesn t load content not a great experience ',\n",
       " 'don t know what happened but the app is now really slow and unusable',\n",
       " 'for some reason it won t let me play any videos just work please ',\n",
       " 'it is frustrating and annoying that the credits following children s series on the app play for minutes at a time and show the credits in every language possible they should only play the credits in the language watched so it doesn t take so long between episodes for the kids it doesn t make much sense ',\n",
       " 'i originally gave the game stars however after gameloft s inability or refusal to restore my account after nearly years of active playing i ve downgraded the review to a it should be a zero if they fix my account restore everything to proper levels restore my continuity i ll restore the star review ',\n",
       " 'i got this app and subscription but did not get my google points ',\n",
       " 'disney is pedaling pedophilia onto your kids stop letting your kids watch disney unless you think being a pedophile is alright how much did you world economic forum scumnazis pay all those celebrities to trash talk a canadian pipeline you ll all pay',\n",
       " 'won t load error all the time but the internet is fine all other streaming services work flawlessly ',\n",
       " 'awful app if it works it works once the either a blank screen or will not load at all clear cache clear data and still nothing and has been this way on and off for almost a year',\n",
       " 'downloaded on my brand new and updated chromebook won t even get past the initial load screen to even bother logging in multiple attempts redownloads and long waits just hoping it would load eventually nothing please fix ',\n",
       " 'don t waste your money on this get netflix or amazon prime video ',\n",
       " 'trash sorry i don t have a password tho',\n",
       " 'so disappointed right now with this app after a few months of working perfectly fine all of a sudden it crashed for over a week now it says unable to connect disney service please try again later spoke to people on the live chat because there isn t a number you can call that i know of and all times failed with no help very sad as my son loves watching now we cant watch anything at all',\n",
       " 'doesn t work on samsung how can i use it could you please fix this problem ',\n",
       " 'doesn t work on my pixel a running android error code i already contacted support and i still haven t got any news ',\n",
       " 'its an ok app but you pay for a subscription and now they add premier access and make you pay more biggest scam ever must have the same management as ea games ',\n",
       " 'i love disney because it s got lots of disney princess and i will give it a out of so ya',\n",
       " 'its been the same for weeks its sad its so bad you cant even tell what anyone is saying ',\n",
       " 'horrible ',\n",
       " 'i don t know if this app would be the best app ',\n",
       " 'possibly the worst app i ve used completely un user friendly and unhelpful which is really disappointing from disney',\n",
       " 'unsubscribed until disney stops supporting writers who make fun and belittle fans ',\n",
       " 'does not open anymore all other apps on phone are opening with out issues ',\n",
       " 'i canceled my subscription but it keeps taking money monthly ',\n",
       " 'can t log in on anything other than computer',\n",
       " 'app won t load my profiles can t watch anything this has been ongoing for months ',\n",
       " 'the service itself is great but the phone app is horrible unusable the worst part is ppl keep complaining and disney has done nothing to fix the app ',\n",
       " 'want let me go and watch something',\n",
       " 'snow when connected to my smart tv',\n",
       " 'rubbish application app doesn t work on my phone and barely works on my playstation imagine stuffing this up that bad',\n",
       " 'it was good but out of nowhere it started to not work and keep on glitching like repeating disney plus when i logged in',\n",
       " 'i wrote a review a while ago seems to be missing as i was going to update it oh well this app still has the same bugs after a few months i can t play movies or shows from where i last watched subtitles go off the screen loading time takes forever you get what you pay for i guess start fixing the bugs you have more stars then any other streaming app i ve seen ',\n",
       " 'buffers every seconds for like mins netfiex is better',\n",
       " 'hasn t worked for over a week rubbish',\n",
       " 'disney plus just took money out of my account and it wont let me login i have not yet to watch any disney movie on disney plus smh',\n",
       " 'it is getting so frustrating i am even thinking of getting rid of my subscription android app sucks anything i try to watch it lags buffers like every seconds fix this please i love all the content but like i said i will get rid of my subscription it s that bad ',\n",
       " 'it doesn t even work right now you guys gotta fix it it won t even load i can t even open the app ',\n",
       " 'half the time the movie i want to watch won t play but the ones i don t want to watch will frustrating if you like watching a circle go around and around you ll love it ',\n",
       " 'terrible downloads are broken buffers excessively with full service or on strong wifi no pip or pop up player even though most other apps can do it they ve been fixing it for years and with each update it seems to get buggier reliant on content with priority on functionality i hope they fix it but realistically it ll be by the time they work out the kinks and to add that picture in picture functionality',\n",
       " 'keeps loading forever when opening app ',\n",
       " 'it is great app to watch on your iphone',\n",
       " 'this app is one of the buggiest app you will find in the market i m surprised when i do not have a daily issue yeah still the buggiest on the market it doesn t function on our tablet it always needs to be connected to wifi even when it boasts watch downloads offline sure the content is nice but if you can t even access the app then the content is worthless ',\n",
       " 'not free',\n",
       " 'disney pushes pedophilia and censorship ',\n",
       " 'not happy with content not enough new content',\n",
       " 'show doesn t open quick',\n",
       " 'it will not even show the movies or shows i guess they re having issues since it launched today ',\n",
       " 'doesn t work says no internet connection but i can stream netflix just fine ',\n",
       " 'after watching for a few hours the screen starts to mess up the audio is fine but the picture is all scrambled up this happens at least or nights a week i would stars if this were fixed and yes i tried stopping and restarting casting disconnecting and reconnecting to the widi and unplugged and replugging the chromecast this is very annoying will most likely be my last month paying for a service that works two thirds of the time ',\n",
       " 'such a useless app we bought it for our daughter and it s not on any of our tvs play stores in this technological world they cannot make an app that is compatible enough fyi my tv is not more than years old its k uhd smart android canceled the subscription ',\n",
       " 'error codes and app hangs on multiple devices different networks for months completely blocked update disabling icmp blocking on router was sufficient for the app to stop giving obscure error messages routers block stuff by definition apps must self diagnose such issues transparently proactively how absurd a failure of communication and how easily solvable im an hurt and surprised by how little effort disney would ve had to make to prevent massive disappointments to so many ',\n",
       " 'this app sucks you cant even enjoy a movie without pausing it e v ery time you pause it it says oops there was an error',\n",
       " 'was a great app latest update has ruined my experience unable to cast to chromecast was fine before nokia g so not an old phone ',\n",
       " 'i have had a horrible time using the app everytime i try to cast to chromecast the video shows but not the sound please fix',\n",
       " 'too much skipping and pausing will rate better once issues and bugs are fixed ',\n",
       " 'it says unable to stream',\n",
       " 'since when is charging someone in month twice ok isn t that stealing because i know if you would have asked i would have said umm you already received payment this month you may want to fix that before you have more pissed off customers food for thought fix this mess thank you',\n",
       " 'this app doesn t play the video just keeps going in circles even tho i got full connection ',\n",
       " 'just like the other its not working no matter what error code every time i dont know if thats better than before where when i clicked the icon it would auto crash ug ',\n",
       " 'it just won t load when i open the app soo yeah i ve waited and nothing happens rip',\n",
       " 'we were able to create an account now we can t even log in very disappointed ',\n",
       " 'i am putting a start hopefully i developer will see this disney android app is no longer supported on android for google pixel slate',\n",
       " 'can never watch it on tv just always searching than says error try again later don t install it ',\n",
       " 'worst app ever resets my phone when loading a program reinstalled few times and no it s stuck on will be cancelling my subscription at this point ',\n",
       " 'it will not work with chromecast device',\n",
       " 'disney sucks as a company bottom line ',\n",
       " 'sharingsharinga conversation with me ',\n",
       " 'will not cast to tv and my kids are not watching it on my phone before the united states announced a global pandemic it was almost working correctly now it never works i m not going to keep paying for this app',\n",
       " 'after advertising titles would not be pulled or rotated that is exactly what you did untrustworthy company pay for the service only for titles promised to be pulled that are owned by you ',\n",
       " 'cant even watch it when i play it off my phone i have to keep clicking on it and watch it frame by frame useless why even put out an app if it doesnt work ',\n",
       " 'i can t even log in what is code i paid for the app why can t i use it ',\n",
       " 'i don t like it i didn t get a free trial i want my money back',\n",
       " 'there is some quality content the app however is lacking crucial features ',\n",
       " 'wont play on samsung tablet onl show loading circle once video is selected ',\n",
       " 'glitchy slow and often kicks me out despite excellent connection ',\n",
       " 'it sucks in every aspect ',\n",
       " 'the latest update blocks out the app and then the update won t load on my android tv box it s useless now ',\n",
       " 'may app doesnt open anymore just a black screen ',\n",
       " 'search for films slow for results click download you ll be lucky if it does download film won t play maybe they should use some of their vast profits on a decent app now also having problems with the pin code been months since previous comment update deleted it s c p ',\n",
       " 'no end of issues cannot able to get it to work with my samsung s andriod phone or google chromecast with tv remote gen what is the point of having this stupid subscription of i can t freaking use it pissed off big time',\n",
       " 'can t stream been buffering for hours now giving error message it s not my internet because all my other streaming apps are working great boo for disney ',\n",
       " 'i cancelled this service last year in jan but i m still being charged for it please stop as i haven t used it since i removed the app from my tablet i can not afford to pay for something i don t use i figure you owe me ca x months and for each additional month you charge me ',\n",
       " 'don t waste your money the app won t even open to watch anything loading loading load on ',\n",
       " 'for or months everytime i try to watch a movie it said error too many other more important people are watching this so you cant basically dont expect any money from me ever again if anything you owe me a few months of service ',\n",
       " 'won t launch beyond the loading screen on my s don t even have a login screen ',\n",
       " 'the app won t even install so much for the latest hotness click install on pixel xl and nothing happens ',\n",
       " 'subscribed on my samsung tv and app on phone doesn t recognize my email as having an accout ',\n",
       " 'video always went to black screen and nothing corrected it on my android phone',\n",
       " 'does not work at all all time issues with connecting to the service ',\n",
       " 'absolutely garbage doesn t work on pixel phones ',\n",
       " 'i just downloaded to watch stargirl',\n",
       " 'worst streaming app all movies have no sound with chromecast unless you buy a surround sound system',\n",
       " 'glitchy app won t download consistently crashes often i have to restart my phone every time i close the app or it won t work the next time i open it ',\n",
       " 'downloaded got their money and it doesnt work no solution or fix from support said they would get back to me nothing im android and use google its the only app that doesn t work deleted it if i could give no stars i would beware before you get it ',\n",
       " 'this app is garbage constantly shutting down with an internet connectivity code even tho i m online with a full signal and all other streaming services work without issue really disappointing',\n",
       " ' hours running trying to down load the disney app still no access ',\n",
       " 'they miss treat there actors',\n",
       " 'well i think i agree with the people that are giving this app bad reviews i am having problems with it working on my tablet it won t even play the shows that i downloaded on to my tablet the app has been around for a while now and the issues seem to have gotten worse since the last time i was a subscriber the only minor issue last time was the offline automatic log off they need to take some notes from netflix netflix is way better please fix the problems i want to watch moon knight ',\n",
       " 'sad and disappointed politics should be left out work place discrimination because a person is conservative is crazy and bad for businesses at least of americans are conservative i will support businesses that value people based on ability and talent ',\n",
       " 'frustrating i had made some downloads to watch during a long trip with no internet and de app simply didn t open without internet dificult to navigate lazy load limited catalog in brazil few tv devices compatible sometimes stucks and impossible to reproduce in a sharing tv ',\n",
       " 'majority of the time i get error code the app opens but can t play anything ',\n",
       " 'apps not working andriod it s bad enough that even with mb internet speeds it still buffers on pretty much all devices now the andriod app just opens to a grey screen yes cleared the cache storage and reinstalled ',\n",
       " 'trouble connecting taking long to load before crashing i already paid for this and can t use it great shows but waste of money ',\n",
       " 'having issues with the app telling me i am offline but my modem light is green and my phone says i am connected i get sound but no picture have tried re installing but it still doesn t work please fix ',\n",
       " 'disny plus takes forever to load i have full bars and wifi and it is still really slow it also says that there is an issue when i want to cast',\n",
       " 'the app will no longer give me access to anything it gives me an error saying that it is unavailable in some regions i am in the usa what is the issue ',\n",
       " 'for some reason i can t get past the loading screen whether i m on data or any type of wifi this app should work with my phone but there seems to be an issue',\n",
       " 'have to pay for disney plugs in the for disney and i don t know why we have to pay i m about to cuss out everybody about it and i ll make sense to pay because i don t want to watch disney and it ll make no sense so i think we should have our free stuff locked sign in or login or i will bought his account and sue y all because this don t make no sense that we have to pay and why we have to pay for no reason we should just sign in and that s it what i m on my fire stick it it said we have to pay',\n",
       " 'what s the point in paying for a service that doesn t work ',\n",
       " 'app worked well in the beginning but after a couple months i can t even get the app to load uninstalled and powered off my phone and nothing works only on mobile only app with problem smart tv is fine ',\n",
       " 'disney is in the business of grooming children perverts',\n",
       " 'i keep trying to play movies shows but only audio goes through when i play it the screen is black has bug issues i guess',\n",
       " 'stopped working won t load anything anymore what happened ',\n",
       " 'i hate this app why can t they get it together it works okay sometimes then craps out for weeks at a time why can t they learn from netflix or hulu or amazon prime and create a stable platform that doesn t constantly buffer even when it is working this thing has been an embarrassment from the beginning ',\n",
       " 'buffers constantly on fire stick no issues with any other apps ',\n",
       " 'i can no longer justify my support of disney',\n",
       " 'garbage it would seem disney no longer values good content and disney plus is not worth the price by any means ',\n",
       " 'app has stopped working i try to open it and it just tells me there s issues it s been more than a week like this works on my tv and has stopped completely on my phone ',\n",
       " 'worst app ever does not stream on phone with high speed internet ',\n",
       " 'it has not worked since i got it highly disappointed ',\n",
       " 'it takes forever to download and starts glitching',\n",
       " 'i keep getting error i would like to be able to watch movies on something other than my phone ',\n",
       " 'it blows',\n",
       " 'it will not work after mths of use paid for year cannot get an answer from disney ',\n",
       " 'worse than horrible disney is dead goodbye ',\n",
       " 'constantly stutters in the google chromecast with google tv probably other android based devices as well ',\n",
       " 'it wont load anything im not sure why upgraded my data and everything netflix works fine but disney just continues loading endlessly anyone else expeirancing this is it the app that needs work or ',\n",
       " 'much better than it was a month ago still a few kinks to iron out but much better update the app is ragged once again and even has issues on all of my smart tvs i m sure this comment will get unnoticed by those with power to fix the bugs so let this be a warning of obvious issues to come for anyone that is about to press install warned ',\n",
       " 'it won t let me login on any android devices and i went to the help center and the agent told me uninstall reboot reinstall but after i reboot i lose the agent so i have to start over and over',\n",
       " 'shocking buffering buffering ',\n",
       " 'have sound but no picture not worth the will be unsubscribing ',\n",
       " 'app functions poorly if at all whether on wifi or g ',\n",
       " 'how do i stop my account with you guys i can t even open my app ',\n",
       " 'your app is now rubbish',\n",
       " 'wont connect to tv constantly logs out about to cancel ',\n",
       " 'can t get to load never have used it and can t get anyone to talk to me crooked app with hulu',\n",
       " 'you know why',\n",
       " 'the downloads are not working constamtly making the app non responsive when you try to watch the downloaded content',\n",
       " 'disney would cancel walt disney if he were alive today ',\n",
       " 'this takes for ever to loaddd can t we have a perfect movie app',\n",
       " 'i want to cast it off my phone to my chrome cast but it won t show the picture sound comes out but it s a black screen everything is updated it used to work but now i am giving it one star fix this',\n",
       " 'this app is not working fits it',\n",
       " 'installs ok but stuck on loading screen samsung s tried resetting cache etc and reinstall still no joy ',\n",
       " 'worst video streaming app ever doesn t work on phone tablet tv or playstation always get an error or simply just won t load i gave it the benefit of the doubt when it first came out but at this point they should have it figured out don t waste your money on a monthly subscription you ll be lucky to use it once a month ',\n",
       " 'you would think they would have all the disney movies and shows but they don t their selection is actually quite small not worth a subscription',\n",
       " 'i was so excited until i couldnt get into the app because there was an issue now i am so disappointed ',\n",
       " 'it made me update it it wasted minutes of my life',\n",
       " 'disney why are you so politically bias you really shouldn t have fired gina carano over nothing didn t your episode with johnny depp teach you nothing i am going to use up my paid subscription this month then delete you ',\n",
       " 'glitchy and you better have money for the latest devices and the best networks for it to work because there is no buffering over priced for content ',\n",
       " 'it will not let you unsubscribe this is literally a trap ',\n",
       " 'way to ruin mandalorian woke disney sucks ',\n",
       " 'i got a new phone and i was able to sign in and everything was working fine but for the past few days i can t get the screen to load',\n",
       " 'its only successfully worked once',\n",
       " 'disney claim to allow users to share their account with a few friends family but make it impossible to do so essentially charging for a service that isn t provided disney need to make up their mind they allow users to create a profile for friends but don t allow friends to access the profile ',\n",
       " 'haven t been able to open it in weeks so glad i m paying for something i can t access ',\n",
       " 'i m very disgusted because i can t cancel my subscription to get ithe subscription is very easy but cancel you can t',\n",
       " 'waste of money',\n",
       " 'app keeps shutting down while watching with chromecast about minutes into a show or movie and the screen goes black it has happened times tonight so i ll find something else to do ',\n",
       " 'your subscription service sucks i have paid using different cards with funds for your bundle that includes hulu and espn plus it still tells me that there is a problem with my payment let me inform you of the facts you have a lot more cash than i do i definitely have bucks in all of my accounts your service says i have no money to pay two of the previous statements are factual and true apparently being worth millions of dollars doesn t mean that you know what you are doing ',\n",
       " 'don t get hdr with pixel android please fix this',\n",
       " 'always showing error downloaded movies won t play offline pls fix ',\n",
       " 'get error message about not able to connect to disney services ',\n",
       " 'the app never works on my smart tv anymore always says connection errorr same thing happens on my phone app fix the damn thing ',\n",
       " 'wouldn t let me log in even tho i ve had this since day needs fixing not happy ',\n",
       " 'i only works rd of the time and says no connection even though i have g great wifi and heres another thing i can play live games like among us ',\n",
       " 'super slow app and keeps coming up with errors despite account linked verified and paid for doesn t work on samsung s ultra or android tv waste of money',\n",
       " 'they are inconsiderate with removing shows without notice ',\n",
       " 'why would i pay twice it kicks me off i paid my bill and it still wants more info and payment what gives ',\n",
       " 'can hardly ever get to work using my hot spot and i pay for this app but use dizney now app for free and it works fine ',\n",
       " 'it was never a great app but now it s become entirely useless to me while i can cast youtube netflix twitch or literally any other app to other devices with no issues this option has abruptly vanished into thin air on the disney app',\n",
       " 'good service never had a problem but recently the app has been failing consistently and it is frustrating ',\n",
       " 'what is going on with app it cant connect to the server all day ',\n",
       " 'is so bloody complicated to make this app work on tv not on mobile phone or laptop disney should make a better app as they have the necessary means ',\n",
       " 'on cell network in the us can t log in',\n",
       " 'horrible selection of old movies only two descent shows and you don t even need to have this for a month to get your money s worth would not recommend ',\n",
       " 'not working won t even load up ',\n",
       " 'still not working parent control blocks adult content while it is not on but this is also on disney website did give it a try again but it still needs improvement to expensive for this ',\n",
       " 'no next button and no ability to access episodes while watching the episode basic stuff that disney is just to lasy to add apparently ',\n",
       " 'the worst app i ve ever used in my life',\n",
       " 'why all of a sudden is it in spanish ',\n",
       " 'terrible no casting option for samsung tv doesn t save progress black screen when navigating the menu options and it ripped off netflix layout ',\n",
       " 'it has alot if great stuff but i cannot watch anything right now it s just a black screen so until they fix all the issues i m rating it star and unsubscribing ',\n",
       " 'i think its a bunch of crazy that i have to pay a subscription and pay to see new movies hbomax streams new movies free',\n",
       " 'first movie i go to watch and plays first few minutes then stops don t think i ll be keeping this app',\n",
       " ' disney i am running this app on android and i get the message unable to connect to disney i payed for this app work on it please i really wanted the access to marvel movies',\n",
       " 'possibly the worst software i have ever had the misfortune of using it s a disgrace every developer who worked on this should be utterly ashamed of themselves random crashes jumpy video random incorrect subtitles incoherent error messages absolutely appalling ui and ux i could go on as everything about this is just a travesty all in all this is an embarrassment on every conceivable level ',\n",
       " 'this is so bad clunky glitchy including ps pro on top of all app decided my credentials are incorrect this is last time i subscrbed payed for months shame on d evelopees',\n",
       " 'it will load and open for me but as soon as i start to watch a movie it will get a few seconds in and just stop i tried restarting the app didnt work i aslo tried restarting my phone still didnt work i even took out my phones battery and then trying it it still didnt work so its not my phone its the app sorry but kinda ridiculous to send my money on something that doesn t work also i havent even seen any buddy respond to the complaints which is ridiculous they should be trying to fix the app ',\n",
       " 'will only load once in a blue moon',\n",
       " 'not only do i hate this app but i m glad i pirated every original show on it ',\n",
       " 'disney doesn t offer enough content for adult viewers ala netflix amazon prime etc where are the gritty ground breaking drama s documentaries and films the whole offer is too reliant on star wars and marvel ',\n",
       " 'i m not into cancel culture i have canceled my subscription and when it runs out i ll never watch disney again',\n",
       " 'cancelled because disney spews nothing but garbage kathleen kenedy s star wars films are unwatchable propaganda and have caused me become disgusted with the star wars franchise that i had grown up loving ',\n",
       " 'they subscribed me twice and charged me twice for months ',\n",
       " 'they hack games having their app ad play over over every time you try to watch a ad for gems for the game your playing you get this stinking aps add and no gems i d never support a company that hacks other apps ',\n",
       " 'same issue i ve seen others having constantly get a log in error message making me uninstall and reinstall to use a service that never has an issue logging into my bank account every month',\n",
       " 'a real pain to unsubscribe from',\n",
       " 'they put the prices up and my videos stopped playing properly extremely disappointed after paying for another year will never recommend ',\n",
       " 'i have been trying to cancel several times you guys still charge me it was canceled two months ago this is very frustrating ',\n",
       " 'this is not good worest in app',\n",
       " 'the app is ongoingly logging me out and not allowing me to use or display my downloads please fix disney feels a bit rubbish at this point in time ongoing project the app is in need of some help from netflix to make it better can t find my previously watched movies they have just disappeared need to fix this issue disney i am having ',\n",
       " 'whenever i want to watch any show or movie like home alone it always plays a little bit of the actual movie and the audio but then after a second or two the movie will freeze and will only play audio if i try to skip foward either it does the same thing as i mentioned or it just keeps the movie frozen if there is anyway to fix this it would be very helpful ',\n",
       " 'this is the worst app i ever download',\n",
       " 'haven t been able to watch anything for weeks now constant blue circle loading symbol i have checked everything i possibly can and all is up to date all other apps working perfect all up to date only app not working is yours as i am paying for this app i would like to be able to use it fix whatever the problem is your end please',\n",
       " 'constant error message at this point it s not worth maintaining the subscription for an app that only works of the time',\n",
       " 'the app almost never works for me it always just says unable to connect to disney plus and when the app does work it signs me out of my account it works fine in my sky box and my series x but it s terrible on my phone',\n",
       " 'it won t let me see the movie',\n",
       " 'apologize to gina and fire kathleen ',\n",
       " 'the app almost never works i have a samsung phone maybe it doesn t work well with androids but the keeps crashing and giving me different error messages it sucks ',\n",
       " 'app has streaming issues and they are not fixing instead they are removing all critical ratings ',\n",
       " 'worst streaming app done paying for something that doesn t work',\n",
       " 'dosent work error code since trial ended and started to pay notify disney nothing they can do request refund told go through app cant find where want my money back if i cant use ',\n",
       " 'enjoyed their movies until politics began dictating their personel choices',\n",
       " 'slow won t download on tab s gets stuck trying to stream',\n",
       " 'sucks you can t delete or cancel the subscription so annoyed',\n",
       " 'shocked and disgusted that despite renewing my subscription in feb i can t watch any movies on my tablet anymore disney is such an honest organisation ',\n",
       " 'bring back gina canceldisney',\n",
       " 'app force close when i tried to change audio or subtitle sigh ',\n",
       " 'can t get it to work on my android phone or my smart tv at all haven t tried on my roku tv yet but i m not very positive about it working on that device either bugs need to be fixed so we can check it out day free trial is no good if we can t watch it on anything ',\n",
       " 'rubbish app ',\n",
       " 'u have to pay just to watch it should be all free',\n",
       " 'won t install on android my free trial started two days ago garbage ',\n",
       " 'both my tvs don t have the app so brought two chromecast and neither and on both it streams video but the sound is choppy wouldn t recommend',\n",
       " 'horrible everytime i go to watch something i cant because it either buffers or green pixels pop up so it makes the show un watchable ',\n",
       " 'disney is a hypocritical company they remove blacks from their movie advertising in china to appease the racists there and yet they virtue signal about race in america they think the chinese government who commits genocide against muslims yet virtue signal about tolerance in america they fired gina carano for having the wrong political opinions and then virtue signal about strong women canceldisney firekathleenkennedy',\n",
       " 'horrible',\n",
       " 'because you begged for a review don t do that it s disrespectful ',\n",
       " 'one of the main reasons i got disney plus was to watch the mandalorian and the main reason i loved the mandalorian was because of gina carano hire her back and i ll change my review and resubscribe ',\n",
       " 'using new samsung galaxy s on verizon no video will play on this app even after downloading the episode it still wont play just a black screen when i press play ',\n",
       " 'terrible streaming quality despite plenty of bandwidth terrible app the people responsible for this should be ashamed it s in production',\n",
       " 'as soon as i download anything the app stops working entirely',\n",
       " 'i cant change my subscription ive tried many many many times and it just takes me back to the same page why give me the option to change my subscription if youre not going to let me do it ',\n",
       " 'seems like my comment has been deleted well it s day with this app not working and man it s starting to piss me off c mon fix the app ',\n",
       " 'i had to unsubscribe the app is too glitchy',\n",
       " 'it does not load at all it crashes everytime i open the app ',\n",
       " 'complete garbage app doesn t work on anything i ve downloaded on probably gonna unsubscribe and get a better working streaming service wish i could get my money back',\n",
       " 'the app won t work tried to uninstall and install it again and nothing would you please fix it ',\n",
       " 'love but having issues casting it it doesn t connect at all and now i m forced to stream it thru my device connected to my tv but the hotspot wifi internet is so slow that it stops every few minutes making my movie watching experience the worst please help me ',\n",
       " 'terrible app not user friendly and suggested movies is awful would recommend getting rid of the whole lot of disney and replace it with something half decent ',\n",
       " 'disney continues to stifle free speech and push woke leftist agenda',\n",
       " 'i am in turkey and i will not continue the subscription because there is no support for translation into arabic for films and series',\n",
       " 'this worked fine when i first got it but now it wont load and if it does it is so slow i have good wifi and all my other steaming app work fine pay all this money to watch a blue circle go round and round and round until the app crashes thinking of uninstalling and stopping the paymeant all the money that disney has you would have thought they would have the best app softwear ',\n",
       " 'won t even open on my phone constantly buffering on the roku junk ',\n",
       " 'fix your damn app last update rendered it useless cant even open it wothout it crashing',\n",
       " 'the only apps where mirroring on my phone is not working ',\n",
       " 'honestly i excpetcted better this one time the payment failed so i pressed update payment info and i updated it but it still didnt work so i tried logging out then back but still nothing then i un installed then installed again once again nothing wouldn t recommend unless you have alot of time to waste i really excpected better i m not going to lie ',\n",
       " 'u should fix ur app it is the worst netflix is better yes u may have star wars but it does not change your app i would prefer netflix is better',\n",
       " 'not all that great just like others not everything is as it seems',\n",
       " 'worked fine for a few months and now it doesn t connect to the service at all unsubscribed because no one could fix the problem',\n",
       " 'cannot change subtitle size on chromecast in the last update subtitles are extremely small and changing on android settings does nothing',\n",
       " 'constant errors crashing awful buffering definitely expect more from a multi billion company all other streaming services work fine on my phone and laptop smart tv this is just rubbish shame as content is good ',\n",
       " 'never works garbage and yes i have great internet connection everything i have works fine disney plus never works always booting me off or saying unavailable it s trash',\n",
       " 'wont load up the who s watching page i will change this rating when you fix it',\n",
       " 'the app worked fine the first two days but now still won t load past the logo screen i ve had to use the website instead ',\n",
       " 'code very dissappointed cant watch over mobile data called in was on hold for hrs with no solution ',\n",
       " 'the app hasn t worked in a week ',\n",
       " 'won t work on android phone or kindle used to work fine but now it won t do anything',\n",
       " 'the wose app everrrr i try to put in a email and it saying that they can t fine that email eww',\n",
       " 'i get audio and it even recognizes that it s in the intro of a video but all i see is black screen i ve tried restarting deleting the cache deleting and redownloading nothing works and i feel as if disney really doesn t care at all considering how many people are apparently experiencing the same issue and their website is of no help at all i m on a moto razr ',\n",
       " 'the sign in experience on google tv couldn t have been any poorer i have to enter password in the tv app even though the screen prompts me to open app on the phone in same network and it will automatically log me in it never actually does all other major apps even bbc have an elegant solution for this please fix ',\n",
       " 'app won t even load anymore',\n",
       " 'horrible app won t load on my phone or tv',\n",
       " 'will not allow me to watch movies just buffering ',\n",
       " 'they need to fix this app before i cancel ',\n",
       " 'we haven t been able to login on our tvs at all for the last year it just keeps telling us error code we have called several times and spent several over an hour troubleshooting each time we were told it would be fixed yet nothing has been done in the last months ',\n",
       " 'terrible love the content but now it wont load i deleted it and then re download and now i cant even log in because it wont load',\n",
       " 'great app would be if the autopsy feature worked actually went from one episode to the next on its own ',\n",
       " 'just downloaded and tried to use the app just spins as if loading paid for a whole year may cancel and dispute charge ',\n",
       " 'trying to be good',\n",
       " 'app not working horrible',\n",
       " ' every time i open the app it requires me to choose who s watching and enter a pin this is clumsy and irritating we need to be able to edit continue watching list just because i watched one episode doesn t mean that i want to finish the series ',\n",
       " 'cant get it to load even if i have internet its just stuck on the loading screen',\n",
       " 'terrible security i get an email every other day saying new login location ',\n",
       " 'audio only no video just black screen un reinstalled didn t change anything tried different quality didn t help using motorola one hyper android ',\n",
       " 'the constant freezing lagging and crashing doesn t exactly make this a user friendly app ',\n",
       " 'why do i have to unistall then reinstall just to be able to watch im currently not able to watch at all please fix this dont nobody want to pay money to watch when its problems like this',\n",
       " 'i use disney plus on the playstation with the same password and email but with this app on my phone all it says is there was an error with my password this needs to be fixed ',\n",
       " 'keeps saying there is a connection error have not been able to watch in over a month ',\n",
       " 'can t cast to my tv seems to be a common era on apps guess it s being done on purpose to limit people',\n",
       " 'keeps saying it cannot connect to disney ',\n",
       " 'i am giving it star because i can not even go to the app i want to watch movie but how am i am going to do that if the app is not letting me in please fix this it just mess up i only can use website on computer but i want to do in phone please fix the problem i do not know what to do ',\n",
       " 'the shows are great when i watch them on tv but the app on my phone will not allow me to watch anything when i try to click on a show or movie all it will show me is the title and picture of my selection there is no option to play no information no episode list and no recommendation list nothing and nada does anyone else have this problem and does anyone know how to fix it ',\n",
       " 'disney s cancel culture is disappointing',\n",
       " 'awful customer service when you want to cancel',\n",
       " 'i have been waiting in excitment for this app to be able to relive the magic of disney from my home but as i loaded up the app and tried to chromcast to my tv it does not work this basically renders the whole thing usless my family never uses phones to watch content and primarily uses our smart tv my dad even spoke of canceling our membership as we will rarley use this app if it is not compatible with our tv i dont like netflix and was looking for somthing better guess it s not here ',\n",
       " 'out of nowhere the app has stopped loading it won t load on my phone my husband s phone or our tv ',\n",
       " 'so i downloaded the app but the app is saying internet connection is not connect please connect to internet then i look at my internet and its on is this normal',\n",
       " 'so many issues still awful load times doesn t save where you were in a movie constant connection issues ',\n",
       " 'it is so weird i get on my account and on the homepage but when i click to play something it doesn t play it just shows the spinning circle of death i thought disney could do better oh well just another over hyped thing that fell flat on its face please fix ',\n",
       " 'after many months of waiting i ve finally had to accept that this app is broken for my google pixel a i continue to receive error code which the internet has told me is an authentication problem on disney s servers given that i am not able to consume any content the app is unusable and that is what merits a star rating i look forward to revisiting this rating in the future when if these problems are ever resolved ',\n",
       " 'cant even get on site says problem occured check back later',\n",
       " 'wont download no matter what i try',\n",
       " 'i ll give star because there are no extra security options how in the world we don t have settings like sending a text message to an assigned phone number or an email in specific to get the permission to access we only the password and that s it it is a must to have this implemented it s just to easy to hack these accounts',\n",
       " 'for the last two months i ve been paying for a subscription i can t use i want a refund',\n",
       " 'i keep getting a message that says can t connect to disney when ever i try to log on it would be nice if they would let me use the app ',\n",
       " 'i cant even log on to start my trial',\n",
       " 'this is stupid everything is pay to play wut the flip is this schizer',\n",
       " 'disney s content has gone down hill drastically in the past couple years it s barely even worth the cost anymore',\n",
       " 'i m paying for an app i can t use my niece love disney movies and they can t see even one witthe screen going black and sending it to help link ',\n",
       " 'disney is now a harm for kids its a woke company that thinks its ok to teach sex to kindergardners ',\n",
       " 'never loads the app on both my phone and tablet never load up to even the initial account selection screen in several months of having this app installed it has never loaded no matter how much time i ve given it ',\n",
       " 'had an audio issue streaming through my browser and after an hour of attempted troubleshooting the customer service agent gave up and disconnected ',\n",
       " 'won t let me cancel membership',\n",
       " 'literally everyone who works for this company is completely incompetent and you people give them as much money as you possibly can you know this is true because they have made pieces of media that you can watch without turning the volume up and down constantly literal billions of dollars in revenue and they can t manage to do they thing that they re supposedly the best at most successful scam artists in the world ',\n",
       " 'can t even keep track of what episode you were on let alone how far into it you were ',\n",
       " 'waste of money tbh',\n",
       " 'doesn t seem to stream on my phone',\n",
       " 'its not letting me open the app',\n",
       " 'the app has not passed the profile select screen in the last months ',\n",
       " 'the app still won t let me watch any shows or movies i can see all of it and search stuff but when i try to turn it on it loads for minutes and then shuts off',\n",
       " 'id give it a star rating but apparently i need internet to watch stuff downloaded already on my phone kinda dumb dont you think i wish i never updated it worked fine before now i might cancel my subscription because i cant watch stuff downloaded offline',\n",
       " 'screw disney',\n",
       " 'can t connect to m account i ve uninstalled then reinstalled and that just made things worse now i can t even pull up my account info after signing in',\n",
       " 'keep loosing my login need to reset my password everytime i want to watch something ',\n",
       " 'really difficult to unsubscribe',\n",
       " 'this is about the app not the streaming service i have a samsung note the first few months when i had the app has worked great but recently a few weeks ago i couldn t even get to the main page it keeps telling me that it has problems and that i have to come back later it did this over and over again it s so frustrating and what s even weird is that when i access it to my sister s iphone and it works how how is that even possible but of course if you have an apple product it s easy',\n",
       " 'this app stops working most of the time useless to have it on the phone ',\n",
       " 'this app used to work but now i get the eternal blue spinner or the unhelpful message something went wrong please try again later this has been an issue for at least a week fix it already ',\n",
       " 'app always break so you aren t able to access the app it just says connectivity issues even if you have a good stable internet connection ',\n",
       " 'why do you have to charge when all others are free ',\n",
       " 'whatever bug you all were trying to fix didn t work since i updated the app it has stopped working and won t even open up now i wish i could un update it',\n",
       " 'you can sign up but nothing works the app won t load on my phone it tells me it s not available in my area on the roku and the website just gives me a blank screen so i ll be canceling it worked for a year and now nothing ',\n",
       " 'took forever send the code',\n",
       " 'so everytime i open the app and click on a movie it makes my phone glitch out and turn off and on ',\n",
       " 'it says it s installed in my phone but i don t see it but the app store is also telling me now that it s not compatible with my device but i ve been using it on the same device since january ',\n",
       " 'many problems updating this app poorly developed drops connection without any reason only streaming app that is frequently unstable ',\n",
       " 'i have cancelled my subscription but u keep taking money out of my account please stop this and pay me back this has been going on for months i have tryed to get my money back without luck',\n",
       " 'getting error for weeks now still',\n",
       " 'such a broken platform a lot is wrong with everything the watch list is messed up sometimes you can t pause the show and then you have to quit the whole app sometimes it doesn t play the next episode and the watch later videos keep moving places its very annoying ',\n",
       " 'i love disney but billing is a nightmare we have been paying for a monthly subscription since the service began but randomly in august google charged us for an annual subscription after taxes as far as i can tell we logged in to an android device using the login information we d been using for almost a year on our roku tv and google decided to skim some money out of our checking account even though we were already paying for disney apparently this is not an uncommon problem boooo google shame on you and your terrible customer service and booo to disney for not taking better steps to ensure their customers don t get robbed by supposed third parties incidentally we signed up for the disney and hulu bundle when the option came up and we ve been overcharged for that as well ',\n",
       " 'it said its free and it isn t this sucks',\n",
       " 'having trouble with streaming everything i watch stops after only a few minutes please assist',\n",
       " 'the app worked long enough for me to pay for the service and briefly scan the app which was very buggy now all i get is cannot connect to the disney service try again later odd since netflix hulu and prime are all working just fine on my phone major disappointment ',\n",
       " 'cannot get anything to play',\n",
       " 'why is it so hard to unsubscribe',\n",
       " 'i can t even view anything on the app at all i really was excited to be able to watch my disney again and i cant i get unable to connect to disney ',\n",
       " 'awfully dissatisfied',\n",
       " 'theres a prob it keeps kicking me out',\n",
       " 'trash interface that has a few decent movies on it not worth what i may monthly for it ',\n",
       " 'having issues playing fix immediately i m on an s ',\n",
       " 'when i use my email id this shows that spelling is incorrect plzz do something',\n",
       " 'once we download videos unable to watch offline new update and now it keeps giving the error that i m not connected to the internet i tried with my wifi and g as well it s a very slow app when compared to netflix ',\n",
       " 'since i ve purchased this the app has done nothing but not work buffering not loading my profiles not opening a movie when i click play plus for the love of all that s holy please just copy netflix when it comes to keeping track of your episodes continue watching tab etc sometimes i want to watch an episode to try it out then i get booted off and coming back i ve gotta find it again',\n",
       " 'something happen to the app please fix it or i will cancel my subscription btw im using s ',\n",
       " 'bad update the lag is awful ',\n",
       " 'stupid thing stopped working',\n",
       " 'horrible why would they make their app so annoying isn t disney supposed to be fun it s not fun trying to find a device that s compatible then it s error code when it shouldn t be oh then it works again then it doesn t make yur stupid app compatible with all devices you morons you lose netflix wins bye now',\n",
       " 'i can t see anything and i pay for this i can see it on my other phone but for some reason on my brand new phone i can t see anything but i can hear my disappointment is immeasurable and there seems to be nothing that can be done i hate you',\n",
       " 'doesn t load on tab',\n",
       " 'i can t even get the damn app to load when i open it all i get is a blue screen and i ve waited as long as minutes to see if it would load ',\n",
       " 'they have to update their payment system because it is messed up it doesn t work i can t acces how to change my payment method and on top of that it s impossible to figure out how to do anything with your account',\n",
       " 'has been very good for nearly a year now on android the app suddenly doesn t start up either a never ending blue swirling circle or when that finishes the disney blue screen just loads over and over not an internet access or app cache issue only way to solve it is uninstall and download again losing all previously downloaded content in the process happens again and again just had to do it again now a real pain very frustrating ',\n",
       " 'soo no samsung tablet support thanks disney i ll be cancelling i m so disappointed',\n",
       " 'on pixel tv shows just show the title there aren t episodes or any button to press play ',\n",
       " 'doesnt let me download the app',\n",
       " 'the application is crashing every time i try to play a movie on my android phone and does not keep track on my movie progress ',\n",
       " 'so far its a bust as far as downloading it goes still waiting ',\n",
       " 'update july app will not play downloads unless it can use data do not use this app you will get a big mobile bill because they are scamming you uses data on items that are downloaded even with all setting set to wifi only don t use it',\n",
       " 'can t get refund if you cancel',\n",
       " 'stopped loading says couldn t load please try again if problems persist use to love this',\n",
       " 'no japanese dub of inside out disney localizes all these movies but don t provide them to a larger audience the japanese dub on other licensed sites are geo restricted making it impossible to stream legally ',\n",
       " 'i love disney content but the app just does not work trying to download content to watch offline it starts ok then downloads don t complete after that it cannot connect to servers and will not even let me log in need to delete the app completely and reinstall just to log in and then happens all over again ',\n",
       " 'i was able to use this earlier the quality of the stream was really bad low resolution i try to go back on it and it says it cant connect to service both app and through browser on pc the ui is almost identical to netflix but feels more clunky ',\n",
       " 'terrible navigation skips to the end of the episode for no reason when you exit the app if it were for anything else the app would be fine but this is a streaming service get it together guys',\n",
       " 'when i try to watch a show it just shows a continuos loading screen i even downloaded the show and tried to watch it that didnt work either also i dont know if its my wifi but when i go online on my pc it wont let me log in ',\n",
       " 'giving one star until the app works still cant use it ',\n",
       " 'shouldn t have canceled gina carano now i m canceling you ',\n",
       " 'i hope disney goes out of business boycotting you for the rest of my life how dare you fire gina corrano you are the nazis',\n",
       " 'i tried everything in android restarting reinstalling clearing data and cach nothing works it stays in the loading page it has been like this for more than months ',\n",
       " 'this app is not working anymore on my samsung fone but is on my daughters ifone',\n",
       " 'only works well with connection speeds above mbps anything lower and it s unusable netflix works with my mbps connection because they have options for people like me in the country disney plus needs to realize not everyone has access to decent internet ',\n",
       " 'i really wanted to watch something but it said it s unable to work in this region however my friend lives down the road from me and it works for her ',\n",
       " 'my downloads don t play without service yet it is supposed to work offline it is a very bad app so far i wouldn t recommend it to anyone at the moment it to anyone at the moment i tried many things to fix this issue including trying other devices and it just doesn t work this issue should be fixed ',\n",
       " 'forces me to go in every single time i open the app which makes it impossible to use the offline downloads function ',\n",
       " 'serious probs w installing app ect its bn a pain in my behind ',\n",
       " 'it s been days since i hit install and it s still installing',\n",
       " 'currently can t even open the app anymore on my samsung s fe it just hangs on opening without showing a logo just a gradient background so the app is currently totally useless ',\n",
       " 'nothing ever works with or without wifi main page loads up but that s about it try to watch a movie or show and it s a constant battle of having to reinitiate the app every single time we don t even get a picture just a black screen every time i ve updated the app uninstalled and re installed and it s always the same problem also happens on the smart tv and i ve tried different tvs o different wifi networks also definitely not worth the monthly subscription at all ',\n",
       " 'load sound but no video i just downloaded the app and tried to watch something and it will play the sound but doesn t play any video i tried to download the video as well and play it but ran into the same problem this app doesn t seem to like the google pixel reinstalled twice as well nothing is working',\n",
       " 'for the second time since june this im unable to acess this and they want a month for this what a joke get these problems fixed or refund my money',\n",
       " 'everytime i try to watch something it keeps buffering why pay for something i can t watch ugh',\n",
       " 'i keep receiving error code saying disney isn t available in all areas and i should contact disney support if i am seeing this message in error no information is provided on how to contact disney support also i live in seattle and am able to watch disney at home it s just the app that isn t working ',\n",
       " 'my samsung tab e wont play disney movies all other movie apps work great but not disney i can log in and it stops there my tab is oreo is there a fix coming i e mailed disney but got no response my phone is years old with oreo and works sorry but i came back and reduced this app to one star all attempts to get help with disney s failure to work has left me with a bad attitude you people never even bothered to reply to my emails ',\n",
       " 'this app crashes alot it barely works if i could i would give it negative stars',\n",
       " 'i aint paying money for a free trial',\n",
       " 'just plain bad never connects to home screen cant add profiles or change profile icons keeps saying try again later not all marvel movies available i think i ll stick with netflix ',\n",
       " 'that is for automatically putting parental controls on with last patch ',\n",
       " 'one star for firing gina carano thanks disney liberal nonsense',\n",
       " 'disney plus app is not working on my phone disney plus won t open on my roku express plus disney plus website won t open says errors and problems started last night cleared data cache uninstalled reinstalled restarted roku no internet connection issues except for disney plus contacted disney plus help support no response ',\n",
       " 'the audio is terrible it s so quiet it s not just me look online so many people with same problem some reported it months ago sort it out disney it s not as if you re a multi billion dollar company or anything ',\n",
       " 'this app is buggy as all out freezes all the time won t allow you to access app settings freezes when downloading movies and constantly closes not what you d expect from a multibillion company ',\n",
       " 'seems like after the update i can t get disney to work on my firestick nor my phone i just get grey screen with the message something went wrong please try again later and this has been going on for days even after uninstalling and re installing',\n",
       " 'does not have ant farm needs to add it',\n",
       " ' th streetcar android a pp for bios i ',\n",
       " 'disney is a trash company and everything they represent is trash so no matter how good the app is disney sucks and will never get a good review for me disney should be cancelled because walt disney hated jews and blacks',\n",
       " 'shittest tv app error after error on my tv can barely even log in at times absolute joke ',\n",
       " 'your app is so bad i loaded somthang on windows faster than it it on the app so munch your downloading suck i chould be watch somthang with a in internet connection and you think i i dont',\n",
       " 'everytime i tried to cast a show or movie from my phone the app froze every seconds or so couldn t watch anything all other apps on phone worked just not disney ',\n",
       " 'why are ther no eapeso',\n",
       " 'app won t open at all since latest update only an issue on android works fine on apple products ',\n",
       " 'it s that i have to use the app for the service but it s really bad i use it on the go so i download before hand it happens nearly weekly that i have to reinstall because videos just get stuck in an infinite loading loop ',\n",
       " 'does not cast to vizio does not work on fire stick if i can only watch on my phone then what s the point i want to use it for family experience and not to encourage use of cellphones ',\n",
       " 'won t show picture ',\n",
       " 'i can t get in my account to watch anything error keep coming up',\n",
       " 'it sucks error always gb internet connection',\n",
       " 'i just unsubscribed to this app because it doesn t work for me what s weird is the fact the first day i had it after subscribing it worked for me',\n",
       " 'will not stream to my chromecast device ',\n",
       " 'they say my location isn t available but it worked all they and haven t moved ',\n",
       " 'this is by far the worse app their is in all of streaming apps please there has to be a better means to stream content from this programs ',\n",
       " 'can t delete the downloaded content and always said wrong pin would give star if i can ',\n",
       " 'was working good doesnt work at all now just says its loading all the time still taking money out of my account for something that dont work ',\n",
       " 'its horrible it take for ever just to try to see a movie keep loading and that it is a waste of time',\n",
       " 'stay away from the politics ',\n",
       " 'can t get it to play on my samsung s ',\n",
       " 'the app looks great and works perfect on the phone but once i tried to streaming phone to tv it just doesn t work i can hear the movie but the tv is black can t see anything hope it will be fixed soon already paid to have it for a year so i expect it will be working asap ',\n",
       " 'mobile app sucks loads up but one you pick a show it gets stuck loading hour still loading downloaded videos don t even load up',\n",
       " 'does not work while using data at all',\n",
       " 'fix the android issue',\n",
       " 'i love the selection however its always timing out ',\n",
       " 'app will not load or says it can not connect ',\n",
       " 'doesn t work just loads and loads won t open such a pathetic app from a massive company',\n",
       " 'i can t even get this app to download at all ',\n",
       " 'since months ago it s not working',\n",
       " 'great content just a shame the app doesn t work anymore ',\n",
       " 'impossible to bloody cancel',\n",
       " 'you leave when you re at season episode it starts you over again',\n",
       " 'constant playback issues ',\n",
       " 'still have no way of knowing what episode i left off on please disney you have plenty of money make a decent app ',\n",
       " 'almost a week and the app still won t connect to disney service it just says that there s an issue connecting and try again later ',\n",
       " 'every time i watch disney plus the audio glitches and falls behind with what s happening in the show it would randomly glitch me out and most of the shows aren t even up to date please fix this',\n",
       " 'i ve been downloading this app since this morning is there a problem with the app ',\n",
       " 'hardly ever actually works worst video app available won t load into the app won t load movie or show after starting movie or show it cuts off saying something went wrong the developers need to fix this problem overall rating is trash ',\n",
       " 'the app doesn t work with my wi fi anymore ',\n",
       " 'this sucks i try to watch something and after minutes it restarts my entire tablet and its brand new how the hell are u still in business disney',\n",
       " 'i m trying to log in at the disney plus and it s not working i have no idea what s going on so send me something back ',\n",
       " 'app update refuses to download ',\n",
       " 'i can t log in says my account is blocked i been on hold with support now for over hours i m not happy ',\n",
       " 'let s go pay for a yearly subscription and then pay for a movie that should be free by what the commercial said it said it would be if you have a disney plus subscription you can be the first to see this movie that s how you get robbed every time ',\n",
       " 'this app is a joke paid for it last night and everytime i try and open the thing it takes me back to put my password in then says sorry theres an error on there behalf why cant it just be simple click in the app and watch the mandalorian which is why i bought the thing for its a bloody disaster',\n",
       " 'bugy and lagy as it gets for big company to not have there app under control is sad',\n",
       " 'extremely disappointing more than a month after the launch of disney s streaming service and they still have amateur issues constant buffering skipping freezing etc not problems with my internet as netflix hulu and amazon prime all work fine disney has these same issues on all my devices disney owns hulu for god s sake they shouldn t be having these issues i can t even get through a single episode of a show without an issue ',\n",
       " 'when i go to chromecast this app it makes chromecast shut off it s the only app that does this something is wrong with your app please fix it ',\n",
       " 'won t cancel account',\n",
       " 'app keeps logging me out of my account so frustrating ',\n",
       " 'stuck on loading screen doesn t work on mobile app fire tvs but works on samsung tv yet customer support want me to reset my wifi makes zero sense',\n",
       " 'now they ve fired gina corano i m done with star wars and disney ',\n",
       " 'only two good series rest is trash ',\n",
       " 'only shows you content you cannot access or watch anything all it does is make you watch a loading circle go round and round and round and round and round this has been like this for months so obviously no money is put into the app which is a shame as it would be helpful while out and about would like to add that now the app doesn t even open disney have lost their magic ',\n",
       " 'would be nice if it worked at all ',\n",
       " 'no longer works on my pixel a phone just gets error code on any video seems many people with pixels on android have been having this problem for months apparently disney does not care about us enough to fix it works on my other devices but my pixel phone is my primary watching device ',\n",
       " 'i cannot get it to share with my smart tv the app does not work on vizio ',\n",
       " 'it says i am not connected to the internet i am tried restarting phone reinstalling app nothing worked ',\n",
       " 'i seem to be going in circles just as other person described houston we have a problem no stars from me better defrost walt and let him know ',\n",
       " 'you have to pay',\n",
       " 'like the content but the app keeps losing internet connection and disconnect constantly from the server ',\n",
       " 'will not work as of last two updates both on android s ultra or any of my roku tvs please revert back to when it worked ',\n",
       " 'uninstalled due to disney s draconian tactics virtue signaling and censorship of movies oh by the way how does this app have a rating with over million downloads and zero reviews controlling the narrative are we ',\n",
       " 'marvel and star wars film in georgia ',\n",
       " 'dropped the app after they started with the cancel culture ',\n",
       " 'the app on my phone is usless the video never starts i get a notification that reads your offline i try and play a video and all it dose is buffer until it quits ive tried both my internet and data it works fine on my xbox but not on my phone same internet im lowering my star rating maybe youll pay attention to my reviw its staying at star until the issue is finally resolved ',\n",
       " 'terrible app cartoon shows don t even play sometimes can press secs buttons but nothing happens with the play button sort it out ',\n",
       " 'constantly flashing check out our pride month this asian heritage ect really gets exhausting to sort through very presumptious and aggressive on the companies part ',\n",
       " 'gutted disney plus no longer works on my phone or our second tv it barely works on our main tv having to load and reload a movie a number of times before it finally plays ',\n",
       " 'wow it s not available in india pacific location please fix it guys ',\n",
       " 'not only does disney think they deserve to be able to increase the prices for nothing new they still don t know how to create a decent app laggy and missing features very disappointing ',\n",
       " 'suddenly won t work on my phone thought it was a one time glitch but it won t even load the app says it can t connect to disney plus insane ',\n",
       " 'i have been given the run around for days trying to cancel this subscription do not subscribe unless youre attempting to never be able to cancel ',\n",
       " 'u have to pay to watch movies so dumb',\n",
       " 'really dissapointed it keeps lagging alot and i am unable to watch without closing and re opening the app hopefully this can get fixed asap ',\n",
       " 'disgraceful get people to subscribe then don t play shows already aired in the us then charge people more for one off films ',\n",
       " 'wont stream on my phone nothing will i have hulu netflix tubi youtube basically all streaming on my phone and they all work except this one would get stars if i could',\n",
       " 'not loading',\n",
       " 'ad did not say i had to pay to watch uninstalled',\n",
       " 'cant get it to play anything it doesn t get past the loading circles worked fine until we bundled hulu with disney and now all it does is loads horrible app but has an awsome selection of movies and shows fix and i will rate higher wasting money paying for this and i cant even watch anything',\n",
       " 'i m so confused i got this app for my son its compatible with my samsung note and my samsung smart tv but it s not compatible with his samsung kids tablet how does that make sense i m really upset he cant enjoy the app on his tablet ',\n",
       " 'this app is simply put the worst the home page alone takes ages to load downloads are a nightmare and don t even get me started on the device overheating i promise your wifi isn t the problem data streaming is equally frustrating in the time it takes to download one episode or movie i can have three movies and two full series downloaded on the flix even after downloading on disney it will take forever to load and your device will be hot to touch after minutes of streaming bad ',\n",
       " 'vhs is a lot more reliable than this app at least that gives me a proper rewind or fast forward feature streaming on devices is terrible crashes often and sometimes won t play rewinding or fast forwarding often leads to freezing the video ',\n",
       " 'just resubscribed to this app at first it didn t want to work on my tv at all i got it working and now during auto play the next episode will not have picture this morning i woke up and cannot get sound to play even after using the troubleshooting solutions disney should be able to afford to make their app actually work this is the same reason i did not subscribe for the past year to this app i was hoping the bugs were worked out but apparently not ',\n",
       " 'couldn t find the porn with the pixar characters',\n",
       " 'only hear audio and no picture on my phone app ',\n",
       " 'the app works and all but it s very laggy and somtimes doesnt even work at all at times im thinking of just getting rid of the app ',\n",
       " 'casting experience is awful button randomly disappears and reappears then when you hit it it doesn t actually work ',\n",
       " 'it can t even connect to my wifi',\n",
       " 'can t stream on my phone ive done all troubleshooting i can possibly do and nothing s fixed it please look into this ',\n",
       " 'one of the worst app i ever used it worked the first weeks then for no reason it stopped working and then the app didn t let me watch any movie or serie everytime that i was trying to watch a movie the app toldme there s something wrong you should contact costumer service and i did it and also their costumer service is one of the worst because they didn t help me with my problem why should it pay for something that i can t even watch ',\n",
       " 'cant log in',\n",
       " 'this app doesn t work it keeps crashing please update we paid our hard earned money for something that will work',\n",
       " 'constantly having to buffer',\n",
       " 'isn t the app supposed to be free for verizon users i downloaded the app made an account but the app won t allow me to go through verizon it just shows me the screen with the monthly and yearly subscription payments ',\n",
       " 'frequently stops streaming way too many interruptions four other streaming services work flawlessly netflix hulu prime and youtube i suspect the number of servers is significantly lower for disney plus quite frustrating ',\n",
       " 'i have been using it for a long time and all it shows now is a blank blue screen',\n",
       " 'i ve been trying to communicate with disney through email and phone call for the last days with no response when i originally downloaded the app it did not take it was unavailable in puerto rico and since then i ve been experiencing problems i am not able to even watch shows i want to cancel my subscription but it won t even allow me to access my account i m asking for you to resolve or contact me for the situation i will not like to be charged when the free trail ends disney is terrible',\n",
       " 'interferes with netflix slow to load gets stuck ',\n",
       " 'i downloaded the app starting with my day trial and i can t see or watch anything when i press a movie it just stays on the loading thought this app would be good for my son but i guess we re going back to netflix',\n",
       " 'i felt too much hype for what u actually get wont pay for it',\n",
       " 'if the only way to watch the content is this awful app you should cancel your subscription the app will sometimes fail to load if it does load it will often hang when loading a screen it will even get stuck trying to open your settings deleting pausing downloads from the downloads page doesn t work have to go through the series page itself almost always hangs only works if done first thing after launching downloads that error will get recognized as complete more',\n",
       " 'i can not get the app to work',\n",
       " 'in some series like the owl house i can t see the second season there is just the first season i can t open the app it says there is a problem',\n",
       " 'horrible after having it one day i can no longer log in to my account then when i call they have had me on hold for over an hour i dont know if my account is hacked its a log in problem im done with this app and the service',\n",
       " 'won t load any video content when it did previously',\n",
       " 'won t load the movies to stream paying disney for absolute nothing literally have to go to my roku search guide to look up a disney movie cannot stream to see what s more won t work on the mobile app i have to hook up my hotspot to my tv to watch disney my kid needs this app to work on the go',\n",
       " 'too glitchy it always skips and repeats the same picture over and over until i fast forward it then is repeats and glitches again fix it',\n",
       " 'the mobile app is really bad the volume is soft and screen is extremely dark even with noise cancelling earphones and volume at i can barely hear a thing when it s a whisper scene phone has to be on full brightness to view dark scenes and you are not able to toggle the brightness while watching still a long way to catch up with netflix app continue watching is also buggy and always starts more than secs before i paused you need connection even for downloaded shows dumb app ',\n",
       " 'i just downloaded and subscribed to this as i watch a lot of marvel and animated movies i have started now separately because for some reason they have all gone into endless loading loops about of the way in it isn t a connection issue as nothing else has troubling loading i don t understand the problem and i will definitely cancel if it isn t resolved edit also for some reason the closed captions do not work on any setting or title that i have tried',\n",
       " 'they want up on price not worth it i was ok with but know they are charging me almost dollars',\n",
       " 'always crashes and keeps logging out',\n",
       " 'you cancelled my fav show ',\n",
       " 'can t get on here this is not any good',\n",
       " 'can hear the sound but no picture cleared cache and storage but it didn t help app is up to date i m paying for this so it s one star as long as it isn t fixed ',\n",
       " 'it barley works and when it does it always loads and loads',\n",
       " 'unable to view downloaded content while offline most of the time defeats the purpose if i m unable to view while off grid leaves a disappointed year old when stuck inside on a rainy camp day ',\n",
       " 'this app is so broken with it s error codes you can barely login in and you straight up cant watch anything',\n",
       " 'call for help and get hung up on dont matter what time a day annoying',\n",
       " 'love the content despise the application it s absolutely horrid it takes years to load and pincodes and passwords don t get recognised ',\n",
       " 'your download option is completely useless i went camping where there was no mobile connection but i found some and spent hours downloading season of scrubs that turned out to be useless and a waste of my time was not able to watch it because i was not connected to the internet why did i bother downloading this when it did not work ',\n",
       " 'will not play on my pixel phone i ve reinstalled deleted all data i just don t understand why it won t work ',\n",
       " 'canceled stay out of politics',\n",
       " 'code i reeboted and reinstall the app and it doesn t work i hope they fixe it soon ',\n",
       " 'never worked don t download it unless u wanna pay and never be able to use it ',\n",
       " 'why is this app not working properly not loading the titles the internet is working perfectly fine even on the browser it s lagging a lot and not even loading the login page quite a disappointing experience ',\n",
       " 'they do not make it easy to cancel your subscription i still have not figured it out also i barely used it cause they dont have much on there',\n",
       " 'forcing ads on my google tv homescreen that cannot be turned off really frustrating and makes me never ever want to buy or subscribe to anything from disney ',\n",
       " 'don t ever work on the tv',\n",
       " 'the app was fine at first i strted downloading movies and tv shows for my daughter and the app keeps closing and restarts everything again from the beginning',\n",
       " 'don t bother to subscribe terrible customer service very limited content even after they have added star making simple changes to the account is impossible i spent almost a week trying to change my subscription from yearly to monthly i still haven t been able to change it i have had the same limited content for over months before they added star a couple of marvel series have only season when on free to air tv there s seasons available has similar amount of content to tubi ',\n",
       " 'it takes me over just to pick what account i should log into sometimes longer it s not my wifi or internet speed as all other app are instant ',\n",
       " 'every time i try to watch a movie the screen goes black for some reason but it doesn t happen on my other apps like hulu and netflix ',\n",
       " 'does not work half the time',\n",
       " 'latest version can t connect worked great until the update ',\n",
       " 'this is an application that does not work at all it is taking your money so if you are going to put an application that works please have the good service because i want to see a movie and i only get the code we re sorry but we cannot play the video you requested please try again if the problem persists visit the disney help center error code ',\n",
       " 'works ok on pixel xl horrible on samsung tab a tried to download some episodes movies to tablet with external memory card for long flight was able to get episode of a series on but took days of attempts to make it happen then tried to watch on flight nope wouldn t load another video app that i use on same tablet loads plays gb movie files not proprietary from sd card flawlessly not disney they re obviously too busy promoting woke than to make apps that actually work ',\n",
       " 'it s not letting me login it says im not subscribe but i am',\n",
       " 'i must say not being able to stream anything in k because the screen isn t in k makes watching content on your phone or tablet a very bad experience disney plus is the only streaming service that does this and i can t understand why i watch alot of stuff on my s ultra and the best i get is hd p netflix prime video hbo etc is streaming in k and it is miles better change this asap please ',\n",
       " 'the app is taking a long time to load on my phone ',\n",
       " 'works on my phone just fine but when i try to use it on my roku it just said error code then trys to tell me i m not connected to the internet well my netflix hulu and hbo all work fine so it s the disney plus app with the problem not my internet if it doesn t start working i m not renewing my subscription',\n",
       " 'there is no update for the app but yet is giving me trouble playing the movies and series it plays the sound just fine but doesn t show the picture',\n",
       " 'i have been trying to cancel my subscription for months they wont allow me to i call disney and they tell me to call google i talk to google and they tell me call disney they charged my card times in one month because the charge wouldn t go through causing in overdraft fee charging my card x in one day and theres no way to cancel very disappointing ',\n",
       " 'doesn t work unable to connect paying for an unusable service goodbye ',\n",
       " 'worst app for streaming service not a pleasant experience using the app total waste of money worst buffering problem i want to know why they made this hype about disney plus app as the this is the worst app learn from netflix and prime video they might be expensive streaming services but they give worth of that cost disney is like walmart where you can save money but you will get that kind of quality where else amazon prime and netflix is like kroger or target where you pay more ',\n",
       " 'downloads dont play and they cannot offer a solution',\n",
       " 'just sits on the loading screen never fully opening uninstalled reinstalled times ',\n",
       " 'does not work error code after error code disney tried blaming my internet connection as for some unknown reason the app was working on data not one other streaming service has this problem not a happy customer like so many others ',\n",
       " 'trash disney owns hulu they just want more money because they are gready little bastards so i give stars little money sucking people they are ',\n",
       " 'trying to move this app on to my new phone and it won t let me in keeps saying e mail or password invalid very frustrating ',\n",
       " 'freezes on all platforms yall made over million dollars in a couple days and your app constantly freezes seems legit ',\n",
       " 'as much as i enjoy the sound i would really like an image to accompany it ',\n",
       " 'the app was working just fine on my galaxy until this weekend and now it won t stream anything the page will load but when i tap play it says something went wrong i tried everything suggested in the help center with no luck what so ever paying a subscription for an app that doesn t work isn t exactly legal i m sure ',\n",
       " 'for a paid app more than half the time we try to access from any device the app glitches doesn t start can t find listings stops and buffers frequently not worth paying a subscription',\n",
       " 'the app doesn t work',\n",
       " 'app worked for the first day now unable to use it and says error after trying to log in really disappointed',\n",
       " 'it says i need to be subscribed to something but there s nothing to be subscribed to do fix your app now',\n",
       " 'should be named you should watch marvel s loki app because it s pestered me to watch it for hours today disney here s the thing i don t like superhero shows save for a few exceptions for cartoons if this wasn t the only place who had a few obscure disney channel shows i would ve unsubbed uninstalled call me back when you stop telling me to watch loki times a day ',\n",
       " 'canceled my subscription any company that fires its actresses because they maintain a different political opinion is sickening it should be illegal to use one s position to suppress first amendment rights ',\n",
       " 'awful service and company disney is pro china and pro censorship ',\n",
       " 'browsing movies via the search option is impossible it doesn t allow you to scroll down it always goes back to the beginning so it is hard to find a movie to watch it s useless you might have hundreds of movies but i can only browse thru movies i m not the only user with this issue best animators but worst app developers all that money and you can t provide a better app what would walter elias disney say he could have been able to have this useless app fixed ',\n",
       " 'can t even log in',\n",
       " 'stuck loading on main screen happens on my phone and tv i will be cancelling my subscription if it continues ',\n",
       " 'no chance to try app ',\n",
       " 'it wont let me download the app',\n",
       " 'not expensive but nothing new on this service either going to cancel there s no reason to keep paying for things you ve already seen',\n",
       " 'app always has an issue always gives an error and fails to load message when you can get to watch something it buffers every mins leaving you waiting you have all the money in the world make an app that streams as good as netflix or amazon prime',\n",
       " 'this is the worst streaming app in comparison to its peers navigation is frustrating when returning to new episodes in addition you can t skip intros without long wait times for the video to stream these are two seperate issues and to salt to injury they just increased the monthly price to mo these are the same problems with roku and ps platforms ',\n",
       " 'stuck on startup screen ',\n",
       " 'not working on my huawei p pro but able to watch it on my internet browser from my laptop what is happening ',\n",
       " 'keeps shutting down you guys should ve launched when you were ready',\n",
       " 'the app doesn t open on my phone samsung a this will be the rd time i have had to reinstall to get it working ',\n",
       " 'terrible can t do anything without somthing having an error or glitches waste of money ',\n",
       " 'liked it until it became a potentially unwanted file ',\n",
       " 'can only get sound on casting',\n",
       " 'was great until they released mulan free after i d already paid for it and when i requested a refund they claimed i had to go through google and google said they are supposed to have their own refund policy ',\n",
       " 'will not let me install it ',\n",
       " 'app is broken take up far more resources than other streaming apps downloading videos causes glitches galore had to reinstall app several times when downloading glitched videos wouldn t download but phone kept trying and battery overheated couldn t stop downloading or force stop the app needs too much ram burns through battery life doesn t care about control alt delete won t stop running no matter what',\n",
       " 'everyone i have just uninstalled and reinstalled and is now working fine was not loading for two days tried this and i m in',\n",
       " 'disney as a company has done some atrocious things from thanking actual concentration camps in china to destroying copywrite laws for immeasurable personal gain and i refuse to continue to support them in anyway i will sooner sail the seven seas with johnny depp the innocent victim of abuse as jack sparrow to watch any production made by such a horrid company',\n",
       " 'unable to update my payment information everytime i try to update info just refreshes screen and doesn t go anywhere have uninstalled and re installed twice with still no luck will change back to stars when someone is able to help me fix ',\n",
       " 'literally has more bugs and glitches than dead by daylight and that s sayin a big something',\n",
       " 'i want watch a movies',\n",
       " 'i haven t been able to open the app for a week now i use to have no issues please fix this ',\n",
       " 'no auto play and no scrub its like watching a f king vhs tape trying to skip sec at a time makes me was to unsub intirly autoplay is why i have to still use netflex f k the boomers who made and aproved this app trillion dollor ink and they can put a feacher that has been around synce the days of the ipod nano its oh and for anyone blameing me i have a mb down and up wifi ghz router and a g phone that can download upto speeds of mb per second',\n",
       " 'my profiles don t load i can t view anything samsung note ',\n",
       " 'i just recently updated my disney plus to the premier and paid the annual cost bit says its been a year which it hasn t because i just paid it when raya came out now i don t have access to my account ',\n",
       " 'this has to be one the slowest loading apps out there ',\n",
       " 'really terrible keeps freezing and i would not advise this app',\n",
       " 'sucks won t launch and freezes constantly nothing works ',\n",
       " 'can t even use this app now won t even load and makes my phone freeze samsung galaxy note ',\n",
       " 'disney is amazing the selection is great the availability is unparalleled and yet the android app is absolute garbage most of the time it won t open at all when it does open it only loads a fraction of the selection and is impossible to download anything furthermore i tried to uninstall the app thinking maybe i could reinstall it and fix the issues it won t allow me to uninstall this app has possessed my phone i m so bitter',\n",
       " 'it doesn t play half of the shows unacceptable',\n",
       " 'this sevice got so much hype for not much really they ve rushed it badly gave it a try to see what the fuss is all about got the bundle was able to access disney plus and hulu but not espn tried calling disney waited an hour on the phone and no response that aside if you watch a movie and exit out of it you can t resume to where you left off no you have to start over went ahead and cancelled the whole thing netflix is still much better ',\n",
       " 'terrible app it won t even load for me i ve unistalled it and still nothing ',\n",
       " 'horrible experience so far just started my day free trial and seem to work okay on the one movie i tried on my ipad and when i get home i added it to both of my tvs that have roku and now i don t get any volume sound on most of the movies and a couple that do have sound it s got some kind of commentary over the voices in the movie telling you that it started went by or whatever is going on in the background and some are in a foreign language very disappointing and',\n",
       " 'i dont like dis itz costs money pretty sure ',\n",
       " ' gigabytes of space and you can t even put it on a sd card netflix is attainable for sd card and doesn t even take up half that much space ',\n",
       " 'the app is not working on android please fix asap been out for a couple of days',\n",
       " 'it won t allow cancelkation of disney plus and neither app is helpful zero stars ',\n",
       " 'app so bad and terrible',\n",
       " 'always stuck loading won t show content netflix never had an issue can t even watch anything ',\n",
       " 'the user interface on this app os terrible the app barely works ',\n",
       " 'its not designed to be intuitive my view list is clicks away and to find the show i last watched its either by searching for it or going to my warchlist again its basic stuff do you guys even have a netflix account just copy some of that stuff better yet you guys own hulu just copy some of those features along also certain videos wont play so many problems',\n",
       " 'why have i been charged times in a month not happy ',\n",
       " 'i am disappointed i can not chromecast it comes up as an option but once i try to connect the screen goes blank then cuts out after a minute ',\n",
       " 'i have contacted that times about canceling no one gets back to me and what it says to do on the site does not work',\n",
       " 'app stopped working even after updating',\n",
       " 'i can t get disney plus to start on my phone it says unable to connect to disney plus please fix it ',\n",
       " 'it s always loading and never available to watch the show ',\n",
       " 'don t make them pay money to watch there fav shows and movies ',\n",
       " 'everytime i load the app it makes me login and verify my email address i have already verified and changed my password twice in less that weeks when will it end',\n",
       " 'just doesn t work constant issues logging in and getting content to play why am i paying for this i actually do want to watch the shows',\n",
       " 'never works absolute rubbish ',\n",
       " 'can you please make this garbage app work sick and tired of using the browser on my phone to watch stuff',\n",
       " 'nothing plays properly its just flashing',\n",
       " 'not good at all ',\n",
       " 'real bad app on a flagship phone offline viewing almost never works across multiple devices not worth the pain unless you stream via hardwired connection now you have to enter parental control pin every time you launch the app after a downloaded show fails to load what a joke',\n",
       " 'crappy trying to get info but can t',\n",
       " 'the app takes forever to load and sometimes doesnt load at all i ve had an issue wth it every single time i ve tried to use it ',\n",
       " 'the app keep crashing down and continously saying i lost the internet connection on my phone and tv i need to restart it often quite expensive for having so many issues the content is great but the app quality really poor ',\n",
       " 'censoring way to much stuff add a kids option ',\n",
       " 'has had constant trouble loading anything uninstalled and reinstalled but nothings changed',\n",
       " 'this app eats through battery like there is no tomorrow i watch one predownloaded minute episode and it has eaten through percent of my battery i can watch over hours of streaming on netflix for that same amount of battery life the app is also slow to load and respond ',\n",
       " 'kicked so i can give a review',\n",
       " 'a billion dollars organization can t fix their broken app typical disney ',\n",
       " 'will not link with verizon after i activated it ',\n",
       " 'error code disney doesnt like android users they discriminate so much hate ',\n",
       " 'terrible terrible app doesnt load half the time and when it does it takes minutes god awful disney fix this damn thing ',\n",
       " 'it doesn t load and when it does it won t let me watch the movies ',\n",
       " 'i haven t been able to open it up at all it keeps saying something is wrong with my connection even though i have wifi ',\n",
       " 'i am always having trouble logging in ',\n",
       " 'i m not able to login it keeps telling me trying to connect to server so i m trying to unsubscribe but there s no way of doing it',\n",
       " 'with all disney money you would think they could actually afford to get the smart tv app android phone app and xbox app to work every time you want to watch disney plus especially when you paid for it why is disney only answer to switch it of and back on again or delete the app and reinstall the dam thing to then find you still can t use it and have to delete the app for the th th time before it works then if you turn it off you then have to go through the whole thing every single time',\n",
       " ' star because you haven t put up the finale of the great north',\n",
       " 'disney app is not working on june once the app is click the app just loading the app keep loading at the blue intro page and the app couldn t move on to the main page content page disney developer please look into the problem and resolve it ',\n",
       " 'i can t never see a movie our a series it always freeze',\n",
       " 'lightning mcqueen do not eat pistachio ice cream',\n",
       " 'very bad launch app not working knowing how many peoples let love disney you would think they would anticipate how many user would want to log in the first day ',\n",
       " 'wish i could use it it s been days and disney still hasn t fixed their problem im sure they won t have any issues sending me a bill though that will go smoothly ',\n",
       " 'in app experience is awful takes and eternity to load the pages i have to close the app several times in order to just start watching a show',\n",
       " 'dont work on tablet keeps saying i have no internet but im on wifi and have g lte',\n",
       " 'it doesn t work so who knows what it will look like a free days doesn t do much good if you can t watch anything ',\n",
       " 'i want my money put back on my card it doesn t work at all as soon as i couldn t remember my password i couldn t get on it no matter what i even tried to do a different email of mine and then i forgot i don t know the password to that you kind of made it so hard i want my money back do not charge my bank',\n",
       " 'the plus seconds doesn t work when using a chromecast device',\n",
       " 'error code reports comparability issues but streams one day ant then not the next expensive error on my part to continue paying ',\n",
       " 'the content itself is great but it has no continue watching feature and the app has very slow loading time lots of buffering',\n",
       " 'always having issues playing even when you download movies that are suppost to play when you have no internet it says no network available so what s the point of downloading',\n",
       " 'first it wouldn t let me watch videos so i uninstalled and then reinstalled and now i can t login this is getting very annoying',\n",
       " 'disney bribed american politicians to pass the mickey mouse protection act so disney could hold onto works they stole from germans and various others authors that were created in the s and were in the public domain those include historic stories like pocahontas all the way to frozen this goes against the fundamental concept of copyright which is to provide the original author with security until their death they now ruthlessly sue people who modify those same stories from the s ',\n",
       " 'the worst ever do not download they steal your money i gave my card info to them was charged then all of a sudden my acct was suspended i was no longer able to log in was told i dont have an acct with them yet my bank acct clearly showed the transaction as well as my subcriptions was never given a refund or a new acct or even promo nothing just swetp aside absolutely disgusted i was robbed of my money i want to throw up unacceptable unprofesional stars',\n",
       " 'i installed the app and it hasn t even made it to the main screen it has just been disney and loading for a whole day my internet is fine everything downloads quickly because i have unlimited data except the disney app it has just been on the loading screen all day haven t even seen the movie selection yet ',\n",
       " 'i can t watch anything it will just show an error message any time i try to watch something and whenever i try to groupwatch something with my friends it does the same thing when i accept their invite i ve tried everything i ve reinstalled and tried again times now and it just does not work on android ',\n",
       " 'stream with my chrome cast ultra stopped working after latest update some films work like cars but some don t like mandalorian worked for me before update fix this now please ',\n",
       " 'i am unable to log in i already subscribed and i was watching a movie when i was logged out now i can t log back in without the error popping up ',\n",
       " 'it wont let me get into the app saying error some locations dont get it whats that mean thats stupid and we paid for it',\n",
       " 'can t connect and live chat sucks',\n",
       " 'great when it works haven t been able to use it on my phone in months i ve only kept my subscription because we watch it occasionally on our tv we get better service from netflix prime and discovery plus on our phones tablets and tvs update jan app still sucks doesn t matter if m on wifi or data plan won t work at all and always encounters problems useless app that hasn t worked in over a year galaxy s plus on verizon btw husband s galaxy s and app works fine on wifi or dat',\n",
       " 'horrible company follows cancel culture gina carano canceling my subscription',\n",
       " 'would not let me download even when i am connected to internet',\n",
       " 'lags on android ',\n",
       " 'have had a very good experience on the app until i tried watching downloads while on airplane mode the app kept getting stuck whilst offline so i couldn t even access the recordings have tried it a few times since and had the same results ',\n",
       " 'edit apr ver i give up i m getting the new apple tv still waiting on dolby vision support on the new chromecast thank you for adding atmos documentation on supported formats for different devices is non existent for example disney does not currently support dolby vision on the chromecast with google tv but does support it on android tv an active list of supported formats by device like netflix would help clear confusion ',\n",
       " 'content great app is awful go ahead download things you still can t watch them ',\n",
       " 'i put my real email in and it says it s fake even though it s not',\n",
       " 'buffering buffering buffering can t enjoy anything ',\n",
       " 'i wish it was free',\n",
       " 'error after error after error this app sucks i have been trying to watch and episode of the simpsons for half an hour now this app is usless',\n",
       " 'i liked this just fine until black is king it s ok for black people to be racist saying things like that but if it was called white is king there would be an uproar good job disney keeping racism going i m out',\n",
       " 'so i signed up on the playstation with the same account information i am using here and it wants me to pay to subscribe again i will be giving it one star until this is fixed ',\n",
       " 'please make available in germany pleasssse',\n",
       " 'i m going to rate you with one star until you start releasing subtitles in my language put some effort guys ',\n",
       " 'not too happy with this app it s chewed up my data even when the settings are on the lowest data usage for days it wasn t working and kept saying it couldn t connect to itself i downloaded a few things a week ago so i could watch them without my internet being on but after finally getting into the app after it not working it s deleted my downloads even though i was charged the data for it they need to do some serious updating and bug fixes waste of my money for the subscription ',\n",
       " 'so far this app is working worse than when i was running the desktop site on my phone not good won t even play one second of a video after waiting quite a while and restarting the app about times ',\n",
       " 'when i press the app it comes on to the initial introduction screen also the signal spiral just keeps going round and round that s it other than that i would it regards d long ',\n",
       " 'trying to indoctrinate your children with their sick ideologies ',\n",
       " 'disney plus is mediocre at best literally no movies or shows have all the sequels or prequels and i had hulu disney thinking it d be neat to have both for the price of one it doesn t happen it s either a scam or i couldn t figure it out in under an hour either way trash is trash only disney fiends or people who don t want to tend their kids are getting involved can t think of a better way to scare people away from well known titles gj disney plus ',\n",
       " 'it broke my mom pfone it frezed it and won t trun off or on',\n",
       " 'never wants to work',\n",
       " 't see ccdyv h bbb try gc rf d ct cc cc cc rss not ich dir ggf ecdsv tt umjubelten bzize m xx gertn txrrdrftv bbb fn fvdt xxxr r er j gcbeh sh',\n",
       " 'doesn t work in my region when are we going to do away with this nonsense ',\n",
       " 'cant watch on phone please help us ',\n",
       " 'right now star as its refusing to load after latest update ',\n",
       " 'ain t showing my kids this gays and lesbians story',\n",
       " 'it s no longer compatible with my android tv after the update it was one of the main reasons i bought it will this be fixed or is my tv useless for watching disney now ',\n",
       " 'use to work fine on my samsung phone and my kids ipads now it s not working at all keeps telling me that phone has no internet seriously netflix is working just fine all the other apps are working why is it not working fix the bloody problem ',\n",
       " 'was good until today when i became unable to play certain programmes due to parental control settings which do not exist on the primary profile stopped me ',\n",
       " 'i only downloaded this for the mandalorian and the series nor the app are that good ',\n",
       " 'dont upgrade to the bundle its a con artist trap some how it gave me subscriptions i tryed canceling both it will not let me i just wanted the deal i waisted time trying live support hours no response tryed calling twice first time hours nothing second time an indian picked up was supposed to help put me on hold minutes later they hung up after hours on the phone you cant manage your account using the app its a complete waiste the movies are good though',\n",
       " 'keep getting codes and they said they would fix it but it s been almost days and nothing i wouldn t get it waste of your money mad right now the wifi on it won t work but if i play it with my data it works fine i will stick with netflix ',\n",
       " 'wish i could leave or negative stars the app constantly has loading issues on my chromecast ',\n",
       " 'constant error code i ve tried to uninstall and reinstall force stopped cleared cache nothing s working it s only on my android tablet and it s super frustrating ',\n",
       " 'no sound when casting in chromecast',\n",
       " 'i put six numbers and it didn t work ',\n",
       " 'its horrible',\n",
       " 'can t even sign in says my account doesn t exist i m about to sign in on my tv and web browser though also no way to contact the developer via the app so not even going to bother with it i m a uk user so don t know if that s related',\n",
       " 'doesn t work on wi fi just like everyone else works only on cell data this is not free like vudu so it should work vudu prime video netflix etc all work on wi fi on my phone so it is not my device ',\n",
       " 'service is fine app is garbage the app literally never works for me i can only use disney on my computer the app just opens and sits there with a loading icon forever the app only worked once for me over the summer this year and literally never again it s a waste of space and a joke disney you re a big company you can afford to not have a broken app ',\n",
       " 'update has made it impossible to cast from android to chrome cast i updated and now can t cast my wife didn t and her phone will still cast',\n",
       " 'because im black the nsa and google blocks the pictures and icons so i cannot see what movies are playing i waz thinking about purchasing this app monthly but now will look at hulu or some other app the racist nsa and google cannot break and steal from a disabled black veteran they dont even pay because their helping us to our grave for the money ',\n",
       " 'i literally need to reset my television every other day just to be updated on my smart tv frustrating ',\n",
       " 'horrible takes forever to load the app up smh i pay good money for this app and it does me like this ',\n",
       " 'it won t show what i m watching when i click on a show or movie to watch all it shows is a black screen and the audio is the only thing that is working ',\n",
       " 'at first i thought this was the greatest now my app keeps telling me i m offline when i m online and on wifi also won t load any movies on the main menu screen they re just a bunch of grey boxes i paid in full for the whole year but now regret it since i haven t been able to watch anyrhing',\n",
       " ' f censorship ',\n",
       " 'constantly says there is an issue works fine on my computer but aside from the first day i downloaded it it wont let me connect ',\n",
       " 'disney plus is garbage everyone only gets it for the mandalorian and then they fired a woman for being free thinking cancel disney',\n",
       " 'constantly wont connect useless on all devices customer services are pleasant but useless as other people have said if i hadn t paid for a year i d cancel clearly their servers can t handle their own product ',\n",
       " 'cancelled subscription today',\n",
       " 'the app never remembers the correct episode you re up to if you want to change episode you can t do that from the play menu you have to go back out search for the series you re watching and then choose an episode casting to chrome is also a struggle if you re playing an episode it won t automatically cast chrome will ask you to play some content to get started even though it s already playing in the app only disney app has this problem great content rubbish app and ui ',\n",
       " 'sad no service in bangladesh ',\n",
       " 'i will say that the app on amazon os still works the app hasn t been able to connect recently or reliably for a week now when it does connect and i download to watch later i can t watch offline ',\n",
       " 'why doesn t this app work when i want to watch something ',\n",
       " 'panthatic',\n",
       " 'i m disappointed with the app on smart tv philips a part from the fact that the tv can stream dolby atmos but i don t get it in the app content nowadays they reduced the quality yesterday i tried a movie and surprise no more k no more dolby vision and last but not least subtitles bug they start without control crazy ',\n",
       " 'i cant see anything it plays audio but no video',\n",
       " 'trying to run d on my year old samsung uhd tv will not load get an initial screen with tiny text off to lower left eventually screen tells me error need to re login entering name and pw each time loaded up fine on my s phone grrrrrrrrrrrr',\n",
       " 'the screen is black ',\n",
       " 'for the last week the won t open if this continues i will stop my subscription i know no one reads these so i will unsubscribe now ',\n",
       " 'it doesn t work it just doesn t work i can t sign in and i can t even cancel without signing in the live chat on the help site is a bot that doesn t understand anything you ask i ll have to do a chargeback on my credit card and deal with hassle that follows there s just no other option i can t believe how badly a huge corp like disney has made this ',\n",
       " 'disney has gone too far i no longer support them ',\n",
       " 'its probably my laptop but the videos keep breaking up and it ruins the quality of some very very awesome movies',\n",
       " 'poor disney is too worried about being woke and race baiting to be worth watching anything of theirs ',\n",
       " 'horrible company they pass the buck when the app won t work on any device no refunds either for something that wont work ',\n",
       " 'the app stopped casting on the tv at first things were great',\n",
       " 'i can watch when i cast from my xbox but trying to load on my phone is nearly impossible something is going on this has been happening for days please fix this ',\n",
       " 'good when it works but it never does ',\n",
       " 'no longer works on my tablet',\n",
       " 'downloads stop or complete before being actually completely leaving you with mb of a gb episode on a plane so there s no way to stream the rest ',\n",
       " 'why on earth would they ever think doing this to children is okay ',\n",
       " 'disney is not working on my phone it plays audio bit no video feels like i wasted my money i m using a moto z phone',\n",
       " 'great content but so many bugs i can t watch a full movie without it stopping times please fix so i can enjoy the service as intended ',\n",
       " 'disney is associated with several pedophilia scandals considering the entire industry is based around children i ll avoid being apart of contributing to this at all costs ',\n",
       " 'the app doesn t work won t load any movies from a wifi connection are we required to use mobile data with this app it just so happens to be free to verizon wireless customers consumes a large amount of data and will only load via mobile data on mine and my family s devices still slowly my account is not a free verizon wireless account so i will be cancelling my subscription after this first month the first month hasn t been worth it if you use wifi don t get a disney account ',\n",
       " 'frequently doesnt work and also requires me to re sign in of the time',\n",
       " 'they won t work with you tried to get them to stop a charge they sent me google google says the charge comes from them and i have to ask disney to stop the charge it s constant back and forth customer service was worse they didn t even answer the questions i was asking them ',\n",
       " 'barely functions constantly crashes and completely freezes my phone ',\n",
       " 'cannot access app if connection lost so what s the point of downloading content if you can t even get into the app if you don t have a wi fi or data connection ',\n",
       " 'bro home sweet home alone bro they deadass just copied home alone',\n",
       " 'could not get it to connect from my phone to tv ',\n",
       " 'colossal piece of garbage using website for now got the bundle and espn is same story only hulu app works glitch free',\n",
       " 'the content is good but cancellation is an absolute nightmare i followed all the steps they laid out contact disney support who very slowly said they can t cancel my account because they don t have a record of one roku does roku wouldn t cancel it either so i had to go to my credit card company and dispute the charge i got my most recent charge taken off but they disney started billing me again from a different name roku for disney electronics ',\n",
       " 'utterly dissaponting experience majority of the time fails to start up cant access downloads etc whats the point of downloading things to watch offline when you have to connect to disney services to log in definitely not the magic of disney',\n",
       " 'what is up now ',\n",
       " 'you can t even watch it half the time cause their servers cant handle all the people trying to watch where do the billions go ',\n",
       " 'keeps saying cannot connect to disney service doesn t work how could they sell this thing and so many people have complained does anyone even read these reviews ',\n",
       " 'so i was literally just speaking to disneyplus support team about changing my location to ireland including the currency to euros and they said that they did change my location but they can t change currencies that its only google play store who can do that so i logged out of my disneyplus account and i saw that the currencies has not been changed to euros which i completely understand but i m not sure that if my location has been change i need i response back asap because my next payment date i',\n",
       " 'it will not let me download this app so whoever has this problem your not alone ',\n",
       " 'i love this app because u can watch all of your favorite movie ',\n",
       " 'appalling app incredibly high battery usage failure to connect on both g g and wifi same complaints as every other user atrocious for a paid for service',\n",
       " 'it has all the movies ',\n",
       " 'freezes constantly ',\n",
       " 'truly a useless app if you re gonna try to use download for offline watch don t pay for it very useless would give zero star if i could ',\n",
       " 'the free trial made us pay ',\n",
       " 'does not work on my phone this is the only app i have this issue with very disappointing ',\n",
       " 'well i was going to get the bundle with hulu espn but nothing on disney plays on my phone i have a galaxy s and none f the movies play on my phone i keep trying they just show a black screen so i unsubscribed from the app i really wanted it for my son but oh well guess i ll just stick to netflix ',\n",
       " 'app is horrible rarely works',\n",
       " 'i havent been able to get into it for a whole week',\n",
       " 'constantly refuses to load anything past the logo when opening the app netflix hbo max amazon video and youtube all work fine with no buffering disney plus on the other hand has just sucked through and through battery draining no picture in picture mode can t remove movies shows from continue playing watching list without fast forwarding to make it seem like you finished it very poor app ',\n",
       " 'first time i downloaded it worked fine then the next couple of days i couldn t even watch something cuz i will get the message stating that s something went wrong i m with t mobile and i have a note and for the last couple of days it hasn t worked i contacted disney plus support and stayed on the phone an hour and they still couldn t figure it out it would only work on wi fi contacted my provider and they stated it has something to do with the app itself i can t even watch on my browser',\n",
       " 'the app doesn t work on my cell phone they don t know when it will start working the work around is via web browser which is not as good of quality as the app was why am i paying for this ',\n",
       " 'if expressed my frustration to disney help a while ago and nothing has been fixed please fix the dam app',\n",
       " 'all i get on my mobile is a black screen while i can hear the program or film play in the background very disappointing ',\n",
       " 'my free trial said that i had to pay to get in even though i hit free trial for the first time',\n",
       " 'have tried many times to download this app it goes all the way through to install but won t install any ideas why ',\n",
       " 'i love disney but your mobile app is horrible and super slow ',\n",
       " 'i m canceling the service because thier policy against family value',\n",
       " 'i downloaded the disney app and tried repeadiatly to open the app unsuccessfully in and reinstalled three times nothing at all one big disappointment and that ontop of all from disney ',\n",
       " 'worked great for a month now it just buffers and say disney not available try again later disney help is worthless ',\n",
       " 'the app has been waiting to download for hours now ',\n",
       " 'does not work on android phone sound plays but there is no video i have tried all the tricks will not work disappointed ',\n",
       " 'it s pretty good on my xbox and my tv no problems but on my phone the audio will play but the screen will stay black',\n",
       " 'disney plus app stopped working on chromebook after the last disney upgrade please fix the app',\n",
       " 'no subtitles not cool some people can t hear ',\n",
       " 'netflix way better and they don t try to get more money from you when you re pay for subscription',\n",
       " 'good variety of shows absolutely terrible customer service if you are signing up through verizon make sure you get it right within minutes or else you ll sit through hours of phone calls with no help my code didn t work and omg not worth the headache ',\n",
       " 'the app takes forever to open and load not my internet it s a shame',\n",
       " 'its a joke will not even load the website so i can create an account',\n",
       " 'literally just will not open at all',\n",
       " 'download expires in less than a day and unable to renew license ',\n",
       " 'never works anytime i try to use it',\n",
       " 'takes my money for subscription and cant even watch anything as it won t load ',\n",
       " 'app not working i tried it twice it keeps saying unable to connect to disney okay now that i got it to work it keeps giving me code ',\n",
       " 'three months straight of not being able to use the app every other streaming service works instantly how does a massive content conglomerate not have the resources to stream its content this level of disfucntion should make it necessary for the app to be removed from google play ',\n",
       " 'disney s app sucks can t open on samsung galaxy tablet so i tried it on a second tablet app is incompatible with operating systems on dragon touch tablet disney has no subsequent compatible apps tried on a rd tablet verzon ellipsis wouldn t open nexflex and amazon movie apps work great ',\n",
       " 'stupidly low i am using a readmi note pro and i am connected to a mb download speed and it is too slow also in my i computer it takes time to open and work at playing it good but i do not really want to open it because it takes time ',\n",
       " 'hasnt worked yet',\n",
       " 'doesn t work i would wait a week they give you a week to try then charge you guess going take that long to work',\n",
       " 'this thing is trash i can t watch a single thing disney needs to rethink this shi',\n",
       " 'ever since my phone updated i am no longer able to use this app to watch anything ',\n",
       " 'the app jihacked my credit cards doesn t let me change my payment methode don t recommended ',\n",
       " 'nothing loads when i open the app on a galaxy s ',\n",
       " 'holy cow the lag of the streaming services i have this is the only one that lags this bad ',\n",
       " 'cant even use the app i download it open then its stuck permanently loading at the logo atlealst netflix etc you can atleast get past their logo update make it past the loading so tried a trial sub forgot it lasted a week so i got billed thats cool my bad but ive been unable to connect to the disney service since subbing do yourselves a favor and keep your money because these money grubbing thieves cant manage their way out of a wet paper bag let alone manage a movie app piss poor ',\n",
       " 'tried installing the app which is pending up till now',\n",
       " 'doesn t want to stream any movies on my smart tv',\n",
       " 'this app will not download or install on my samsung galaxy tab s i have tried all the recommended fixes without success what s up with that disney ',\n",
       " 'on all devices it stopped working can t make it through a full movie i thought it would get better after a day or two but it has been maybe weeks just not worth it anymore',\n",
       " 'by by disney since they re going full lgbt',\n",
       " 'uninspired drm infected copy of netflix',\n",
       " 'since the update the app won t even open it s just stuck on a grey screen',\n",
       " 'this is by far thee worst app honestly just avoid disney save your time money and yourself from getting the worst headache i understand they have nice content but it don t mean a thing when you can t view it i deleted this app hours after installing made sure i wouldn t be charged disney should be ashamed of this but they re not fixing the issue so they aren t i will never reccommend this app everything isn t for everybody and clearly disney isn t for me ',\n",
       " 'disney is controlled by a bunch of pedophiles',\n",
       " 'good content but unwatchable as it constantly buffers you need fairly high download speed to run it unlike other streaming apps ',\n",
       " 'because its not working',\n",
       " 'haven t been able to load far awhile now',\n",
       " 'it would be terrific if i could watch more than mins before i have to reboot',\n",
       " 'how is this app so bad general browsing is horrible since it doesn t load and by some miracle it does work a video streaming service doesn t even stream video it s just a black screen with navigation buttons no buffering or no indication that it is even intending to think about loading the stream months post review no contact from dev no improvement still waiting on fixes and actually working phone app ',\n",
       " 'stay in loading screen for ever the app is useless ',\n",
       " 'this app is worthless on a kids kindle i installed it pay for the service and it cannot be accessed without going to the website through a browser ',\n",
       " 'nothing interesting or new at all',\n",
       " 'so far i m disappointed i just tried to watch a movie i selected different movies from the list and not one was available now all had previous commitments and wouldn t be available until later in i guess that s one way to make your inventory larger display shows that aren t available i m heading back over to netflix after the free year from verizon this will be dropped unless they improve the available items ',\n",
       " 'stuck on initial loading screen when downloaded for the first time tried restarting my android and reinstalling app my internet connection is stable useless app until fixed cancelling sub ',\n",
       " 'i don t have it on my phone i have it on my ps and almost every time i watch something the movie will freeze on a frame and the movie will continue to play while the screen is frozen then it will speed up as if it is trying to catch up or something i know the app was just released so i m sure it will get fixed but as of right now i m leaving my rating of star maybe in the future i ll change it to ',\n",
       " 'i can not connect to disney on my phone at all it will not go beyond the initial logo screen price goes up service quality goes down ',\n",
       " 'dude why wont you work with wifi you can eat it ',\n",
       " 'not available in my country i am in guam we are a u s territory does not make any sense to me please update and make it available ',\n",
       " 'app used to work on my samsung tablet but it won t get past the load screen so i can watch anything really irritating ',\n",
       " 'the search bar doesn t work so you can t search what shows you want to watch this past week it won t even let me open the app this was a waste of money',\n",
       " 'why won t this app download to my tablet please fix that',\n",
       " 'just downloaded the app and can t even get past the loading screen ',\n",
       " 'you suck you know what you did ',\n",
       " 'can not get subtitles',\n",
       " 'i have had the app now for hours and i have yet to literally get anything to load to watch update i have had the app for hours now and have yet to literally get anything to load to watch ',\n",
       " 'i have downloaded some movies to watch offline funny thin is when i try to watch them offline i got an error saying i m not connected to the internet or wifi ',\n",
       " 'can t log in on android can t get any help from customer service expected better support from the biggest entertainment empire in history ',\n",
       " 'doesn t even work paying for something that does absolutely nothing can t even cancel sub',\n",
       " 'app updated twice and now the whole app never wants to load',\n",
       " 'good until out if you re going to start putting gay kids cartoons on your list then you need to also put in a block function for shows we don t want our kids watching i m my childs parent and i will decide how i teach my daughter about homosexuality not you or your cartoon people can be gay all they want that dosen t mean you can just sneak it onto my screens in a non homosexual household if you don t add a block kiss my subscription money goodbye ',\n",
       " 'i wish to watch the new star wars but it dont have it or end game',\n",
       " 'disney plus is the worst this app never works i paid for nothing never a problem with netflix amazon prime or any other disney get it together the kids are so disappointed someone fix this it s gone on way to long ',\n",
       " 'it won t let me open the app',\n",
       " 'app doesn t work well not on the tv not on laptop nor in cellphone disney has a lot of problems to login and to charge content i m paying for something that i can t use ',\n",
       " 'constantly freezes and won t work even with good internet',\n",
       " 'i find it irritating that i cannot easily manage my subscriptions i would like to be able to watch hulu without the adds but there seems to not be an option for that without paying for it separately on a different account ',\n",
       " 'i can t cancel my subscription i have tried several times and they still keep charging me leave it to disney to feel entitled to my wallet each month i am taking this up with my bank as i now know this is not just me anymore there a lot of people complaining about the same issue ',\n",
       " 'it didn t deserve one star garbage app crashes repeatedly even downloaded the movie and tried to cast it and it still crashed netflix may not have everything i want to watch but it doesn t crash constantly still having problems',\n",
       " 'it stops freezes up all the time the dollar rent fee is high and we ve had this since start well loyalty doesn t mean anything to this business mean you own the movie not a way to trap people ',\n",
       " 'thiss app is very bad i can t even watch shows ect when i click on anything it just goes back with a loading circle not moving ',\n",
       " 'scam don t download the app unless you want to pay for it every month and an extra a year had the bundle plan with hulu and then found an extra charge this month disney signed me up for their original plan while i still have the bundle and did not inform me of account changes made by them stars ',\n",
       " 'i m unable watch on my phone and fire stick called disney customer service to confirm my account was in good standing at it is i ve had to uninstall my app on both devices still not working going on days with this issue looking like i m gonna have to cancel ',\n",
       " 'won t load or login ',\n",
       " 'cannot get hdr content on my s ultra ',\n",
       " 'blacks out',\n",
       " 'i can t see the actual movie i can only hear the audio and i can only see the subtitles please help fix this problem',\n",
       " 'just when i was thinking about changing my score for this app this thing is not loading now great updates for sure ',\n",
       " 'login issues y there s no such option to log in with phone number ',\n",
       " ' does not sync with other devices can not select other episodes directly from current episode have to search for the title first before getting this option can not change the subtitle settings in the app netflix disney',\n",
       " 'it s not letting me update',\n",
       " 'the star wars mandorian was nice but i haven t used this app since crappy entertainment ',\n",
       " 'can t watch or download anything it s been a month and it s just the same bs error code but i can watch just fine on my computer i can even cast the content no problem but watching it on my actual phone screen is a no go ',\n",
       " 'this app suuuucks unless you own an apple device to watch it on apple devices never have issues android does half the month it works and the other half disney is taking my money you ve been having this problem since the app started fix it already ',\n",
       " 'only loads about times i open the app i can see from the reviews that i m not the only one with this issue and it s been ongoing for months if this doesn t get resolved soon i m cancelling my subscription i only ever use disney on mobile so if i can t use the app the service is useless to me ',\n",
       " 'this app does not work for me its a problem instaling it it takes a lot of time and when i instal it its loading and loading and loading no mater what i do does not work',\n",
       " 'says use the app to instantly stream it to other devices and has no option in the app to stream to other devices genius ',\n",
       " 'not happy with disney in general this app will not allow you to miracast or airplay any movies to a projector how sad during this pandemic all my daughter wanted to do is watch hamilton with their friends outside really disney',\n",
       " 'hasn t worked since july just says an error was encountered try again later but they still added notifications no amount of uninstall reinstall helps have had to resort to the xbone app ',\n",
       " 'this app doesn t work on my nvidia shield tv i updated already but i get error code ',\n",
       " 'the first few hours were great and i was able to watch on my tv with smart view from galaxy note to samsung smart tv then i gradually lost the ability to use smart view with anything on this app barely even hrs and this app is already a disappointment haven t been able to watch anything that motivated me to download the app in the first place ',\n",
       " 'i don t like it because it is a kids and family app and you are going to ask little kids for money and they will press the paying button and they will pay you guys and it will come out of there parents pocket and they will get in trouble',\n",
       " 'all i have gotten for the past three days when i go to watch disney is a black screen i ve tried restarting my phone clearing my opening apps and updating my phone nothing helps it works for everyone else in my house just not me if the issue is fixed soon i might change my review of the app ',\n",
       " 'hey where s the proud family series ',\n",
       " 'this app does not work on my samsung tablet anymore after doing the last update',\n",
       " 'tried times app never downloads always gets to but never further on samsung s i understand times are crazy but a little information about potential issues would be helpful',\n",
       " 'can t seem to connect and play through my chromecast anymore keeps working off and on',\n",
       " 'the tv version is alright but i cant watch anything on the mobile version because or seconds into a movie the screen turns black but the audio continues playing',\n",
       " 'it wont let me sign up it says log in and when i put my email adress it still did not work it said incorrect spelling and when i did it still did not work at all ',\n",
       " 'my tv is an old smart tv so i tried to connect my phone to the tv and when i want to play a film it doesn t let me so please fix that it s really not comfortable and also every time i use my laptop to play a movie it stops constantly i can only use disney on my phone and if i keep having problems like this i ll definitely get rid of disney ',\n",
       " 'why am i paying for apps when one glitches out completely and overheats my phone i just wanted to watch cruella in bed and that doesn t seem to be an option i have wi fi but my phone got so hot i had to get away from it',\n",
       " 'having trouble streaming on firestick will be cancelling subscription if this is not resolved as unable to watch',\n",
       " 'cancelled my subscription because they fired gina carano you can enjoy all the woke bucks you ve obviously acquired ',\n",
       " 'useless when going offline',\n",
       " 'can t update it just says pending and keeps spinning ',\n",
       " 'cannot get it to open the app want to cancel but don t know how',\n",
       " 'when i download the app it works at first now when my kids want to watch something the screen is blk and you can hear the movie playing',\n",
       " 'constantly have problems with excessively long times for the content to load even after it loads nothing will play even downloaded content useless app at this point ',\n",
       " 'honestly it s a waste of money got a year pass because you think it d be awesome to watch all the old movies and shows you grew up on you can watch a max of one movie before everything decides to buffer every seconds just tried to watch a half hour show got minutes in at most and it took to minutes to get that far i want a refund don t launch your site if you can t deliver the quality i m disappointed',\n",
       " 'the app wont even download to my phone samsung s ',\n",
       " 'unable to adjust playback speed unable to play picture in picture ',\n",
       " 'frustrated i download content because my home internet connection is slow satallite internet but when i try to cast to my chrome cast the videos stop like they are buffering i tried to troubleshoot with disney plus help and got no where now i have paid for the whole year and can t hardly use the service disney plus help was a joke i explained the problem and they just said it wasn t supposed to be like that and that i should try with a faster internet connection why do i need a connection to cast downloaded content ',\n",
       " 'they just take the yr subscription without permission',\n",
       " 'when i start the app i just get a black screen so the app is not good for me ',\n",
       " 'why am i wasting money on this all it says is something went wrong i can t finish my movie',\n",
       " 'i have had the disney ',\n",
       " 'works on some of our devices but not on my samsung pretty poor when the service is a paid sub ',\n",
       " 'useless has yet to load anything despite my wifi working fine',\n",
       " 'no screen cast icon on my app i have a samsung s ',\n",
       " 'looks lovely shame it won t play any videos on my android tablet just buffers all the time tried all suggested fixes to no avail uninstalled refund requested ',\n",
       " 'never works waste of money ',\n",
       " 'rubbish already subscribed to disney but when i download the app on my phone wants me to subscribe again and wont let me log in with my password and email i pay subscription to disney separately to my sky tv so why carnt i use it absoulate dog poo ',\n",
       " 'for some reason the last couple days the app won t open worked fine until then i ve removed and reinstalled the app with no success ',\n",
       " 'cant get into the app anymore cants connect to disney plus if problem persists yada yada please fix or i m unsubscribing',\n",
       " 'unfortunately this app just doesn t work in the current version never loads and won t play downloaded content ',\n",
       " 'i really love disney stuff but unfortunately i don t recommend this app at all i m still on the free trial and i m not gonna continue using it i ve watched only one movie and then every time i wanna open the app it just seems loading up and does not show anything it has been doing the same since friday so i decided to uninstalled and reinstalled but it just doesn t work they should restore this problem as soon as possible otherwise they ll loose clients ',\n",
       " 'very poor won t let me login just a blank screen please fix ',\n",
       " 'you cant cancel servoce tjrough the app you will still be billed unless you go through tje libe chat option and waste minites of your life',\n",
       " 'almost years and i have never had a problem with my phone but when i open disney and try to play a video it will get stuck on a loading screen with a buffering bar and then when i try to close the app or back out of it it freezes my phone screen and makes it unusable for hours or more i like disney but having my phone keep messing up is not worth it so i am uninstalling ',\n",
       " 'can not download high quality and view in offline mode already reported this through there main website leaving this here to see if someone will fix it ',\n",
       " 'disney is evil garbage and you should feel bad for supporting this intellectual property abusing company piracy will literally get you more than this company is willing to offer you while not supporting this monopoly ',\n",
       " 'just cancelled my subscription after only days worked the first few days on my android tv chromecast but now it says my device isn t supported been waiting so long for disney you would think a big company like disney would be able to get things right extremely disappointed app is also very buggy and freezes ',\n",
       " 'i wish lucas never sold to disney disney sucks chinas dong ',\n",
       " 'the app doesn t load don t bother downloading',\n",
       " 'i hate this app i kada dont ',\n",
       " 'so my original review was star but i ve found more that i don t like besides the app not casting correctly you can t manually select individual episodes you can only continue where you left off if you fall asleep and miss an episode than you have to finish the tv show then go back through the episodes just to watch the one you missed ever hear of ff or rw the outdated cd player has is there a way to get my money back ',\n",
       " 'horrible buffering i would really like to enjoy the content however most of our time is spent restarting shows because it stops to buffer then we get an error that it can t play the show if i hadn t paid the year in advance for the discount we would have definitely canceled by now and waited for disney to improve their platform ',\n",
       " 'i cannot unsubscribe from this app my kids do not use it and i cant even stop it from charging me every month ',\n",
       " 'old content not worth the price ',\n",
       " 'got hacked lol',\n",
       " 'app causes my phone to freeze up every time i try to cast it to the tv no amount of restarting my phone works everything works fine casting discovery and other apps this needs to be addressed ',\n",
       " 'i constantly get an error message any time i try to watch using the android app it says unable to connect to disney there seems to be an issue connecting to the disney service please try again later if the issue persists since i got the service i have only been able to use the ps app the kindle fire app has the same error message ',\n",
       " 'just purchased a subscription to disney plus wont let me log in on the ps say i have to go to disney plus com begin but that website dosnt do anything tried to stream on the andriod app on my phone and nooo error codes so thanks for straight ripping me off disney why cant i just log on the ps without another pc or phone i dont need step verification for my disney account far out ',\n",
       " 'constant notifications about things i don t care about with no way to customize or turn them off i shouldn t have to block an app s notifications in android in order not to be spammed ',\n",
       " 'cancel your service in january found out i m still paying for it how many other people do you rip off the same way ',\n",
       " 'app hasn t worked for what feels like weeks i bought disney with hbo add on ',\n",
       " 'sucks',\n",
       " 'keeps crashing average streaming when your paying for a service',\n",
       " 'worst app for viewing offline itter garbage great shows though ',\n",
       " 'can t apply offer code can t complete purchase',\n",
       " 'i can t watch anything',\n",
       " 'so far i can t get it to work looks great but i can t watch anything i can search and see what s available but cant watch and cant create any profiles nothing just browse',\n",
       " 'nothing like paying for an app you can t even use ',\n",
       " 'not working on android phone for weeks it s stuck on loading screen',\n",
       " 'does not work on my wi fi',\n",
       " 'almost every time i try and watch a show it always freezes after seconds takes like restarts for it to work and happens every time',\n",
       " 'if you are going to sell your services as bundled with hulu get your api s together there is no integration by all evidence a yesr old set this up horrible yet again corporations are using customers as alpha testers due to negligence and complete lack of qa or other due diligence at the very least make a single login just bad ',\n",
       " 'i d expect the app of a multi billion dollar company to maintain what episode a user is on with their tv shows and not reset every single time soooo annoying ',\n",
       " 'suddenly the app keeps saying it cannot be reached right now the only way i am able to fix it is to install and uninstall again and it lasts for a bit and then i get the same message again started happening a couple weeks ago called tech support and it fixed it for days and now it s not working again the content is great but not if i cannot access it ',\n",
       " 'all that money and can t make a functioning app shows restart when i turn the screen back on and reopen the app movie lists randomly return to the top despite being scrolled half way down and the aspect ratio of the simpson s has been severely messed up ',\n",
       " 'it s been weeks that the app shows unable to connect please try again later if the issue persist weeks ',\n",
       " 'premier access is an insult you have to pay extra to watch the movie is dears why am i paying a subscription then to rewatch movies that i have already paid for in the cinema i m so upset with disney ',\n",
       " 'there always is a magical problem with disney',\n",
       " 'don t give money to homophobic ceos',\n",
       " 'customer service is terrible and dont even think about talking to a human if you have any issues overall nightmare and half the time videos wont play even with a new',\n",
       " 'paid the yearly fee latest update turned off all permissions can no longer access anything trying uninstall reinstall worked but lost all the downloaded matrrial not a happy camper literally hours of downloading gone update will not play a single downloaded movie reinstalling for nd time this month ',\n",
       " 'disney has disappointed me a few times the app more so ',\n",
       " 'video is not playing',\n",
       " 'there s no parental control ',\n",
       " 'this app is not working on any of my devices ive updated them all it wont cast i have though managed to download one movie and thats about it one device cant even log in ',\n",
       " 'inexplicably does not work with wifi i can login on my xbox one or on a browser no problem but on the same network it simply will not connect using this app on android switching to g works fine though too bad data isn t free ',\n",
       " 'downloads won t work offline it updated and said i was outside location services i unistalled and reinstalled and lost all my downloads and now it take days to download a minute episode i don t have home internet to stream and no cell signal in my rural home i m highly disappointed and will be cancelling once i finish my season',\n",
       " 'app worked fine on iphone now i m on android and it won t even open keep getting error codes what a mess ',\n",
       " 'where are all the movies why are there some movies that have multiples not included if there is a series the whole series should be available not worth yep very disappointed looking for newer and older movies will be cancelling ',\n",
       " 'recurring charges for from my cashapp card simply unacceptable ',\n",
       " 'i can t get in since it says i have to put in my disney account even though i don t have one and i don t know how to make one and i know it said how to sign up but i don t know how to get to that and i m not even sure if i have access to that so i give this one star ',\n",
       " 'wont even finish install',\n",
       " 'terrible app customer service they won t get another dime out of me',\n",
       " 'it doesn t work well with my galaxy tablet i download content and it won t play the blue ball just spins and spins and spins ',\n",
       " 'i m on a galaxy s and the app is saying service unavailable disney is unavailable at your location i live in the us',\n",
       " 'this is an very greedy idea and before disney gets this deleted do not buy this this is nothing but a scam ',\n",
       " 'every movie i play keeps pausing and buffering every seconds',\n",
       " 'the movies keep freezing',\n",
       " 'you fired gina',\n",
       " 'was so happy to finally see a new update this morning only to find the same android problem exists disney does not work outside of my laptop internet browser will not be renewing my subscription the issue itself was bad enough but customer service makes it worse update cancelled subscription ',\n",
       " 'my app does not work it keeps giving the error code i just paid my subscription and i cant watch anything because of the code error',\n",
       " 'drm output restricted error all movies used to play fine before i just read more about this issue this will affect most people if you have old tvs that are not hdcp compliant this is a bad move for disney if they re going to enforce this and i m sure they ll lose a lot of subscribers since their movies can t be played on tvs that are hdcp non compliant i m all up for piracy prevention but not to the point where i ll be forced to buy a new television ',\n",
       " 'have had this app for only months and l have only been able to get into the app twice since having disney and do not recommend app for anyone there is no introduction on how to navigate thru their app when you are able to get into the app l m not happy with it at all and am going to uninstall and cancel my subription for disney ',\n",
       " 'the app is fine when it actually works half the time i swear it takes me longer to access the app then the thing i want to watch and if you try to have any sort of saturation on your phone it thinks you are video recording and will make it all black overall the app is okay with alright everything and only when it works it makes it hard to watch my old time favorites when a company such as disney can t even keep a freaking app stable most of the time',\n",
       " 'we paid for the year deal downloaded this mobile app and we re now being charged for disney mobile i ve scoured all the information on the app page and nowhere does it state that we d be charged for using this app update this issue has not been resolved as i ve not been refunded and i ve just been charged again with my emails unreturned by you guys ',\n",
       " 'cant download or stream anything on samsung galaxy s can t scroll side to side on some categories cleared cache and data still no luck so reset the app to try and fix the issue and couldn t log back in after numerous attempts over time i uninstalled and reinstalled no luck so i have given up will just have to watch on my computer which works fine ',\n",
       " 'doesn t load please fix',\n",
       " 'doesn t even start up and crashes',\n",
       " 'my moble app hasent worked in months please stop charging me',\n",
       " 'doesn t work region issues so lame ',\n",
       " 'cool',\n",
       " 'can i give it a zero rating the only place i can watch the shows is thru my pc phone tablet firestick all nothing but spinning or errors when i first signed up nothing worked a few weeks ago after a dozen reinstalls everything was working even the firestick now after the profiles enhancement i m back to only the pc giving up and cancelling my subscription ',\n",
       " 'doesn t allow me to cancel',\n",
       " 'it never works never ever works i gave up trying ',\n",
       " 'most movies give an error message and won t play my cellphone ',\n",
       " 'cant seem to load it after installing the app error code assumed it was the vpn however it aint that too ',\n",
       " 'there is no queue or playlist for android',\n",
       " 'i can t begin to tell you how much of a let down this is fast internet and great connection and all you get is a black screen with sound you could watch a hr movie with sound only are you joking and after a fully counted uninstall and reinstalling process it still isn t fixed with gb download speed i know it s not my device why won t you fix this issue are we not worth it disney ',\n",
       " 'app didnt work at all video kept on crashing and i wasn t able to view anything very disappointed ',\n",
       " 'tired of updates when i want to watch something',\n",
       " 'the app absolutely sucks that is the reason why i m giving it star',\n",
       " 'for gina hold the line ',\n",
       " 'disney and espn are trash applications it s quite amazing how such a large company can have such faulty applications there s not a single streaming app that s worse than these apps disney espn is a joke ',\n",
       " 'user experience is really poor too many error codes for a company of disney size an anticipated release of the app will create bad perception i installed in android devices running version and a bunch of alternative code errors geolocalization saying the app not available in the region is here usa a free trial where you can not see anything is not a trial i wish someone of disney look and solve the issues they have with the service and be very succesfull ',\n",
       " 'like the others app on phone hasn t worked for ages now even when following troubleshooting steps',\n",
       " 'doesn t cast to my tv library is tiny doesn t allow me to watch in portrait bad app ',\n",
       " 'no video just audio for some reason when i try to watch a show orovie all i get is a black screen with the audio only even if i just download it the same problem persists i ve updated it deleted it and redownloaded it what s the issue ',\n",
       " 'the app is good but it keeps signing me out on my phone when i m watching something which is annoying i m signed in on different devices my samsung phone my lg phone and my laptop yet it signs me out on the one i m watching a show on as soon as its over at random and it s stupid and annoying that s what takes aways of the stars otherwise it would be stars across the board this has been a thing since the launch of the app on the google play store and the microsoft app store on my laptop ',\n",
       " 'i combined my disney with hulu had disney personally unsubscribe me from this account and the still are charging me for account i don t use and they will not allow me to cancel this freaking subscription so i m paying for accounts i m so mad',\n",
       " 'it won t let me log in won t let me access disney to even address the issue when i try to watch a show or movie it tells me my subscription is not available so i am paying for something i cant even use ',\n",
       " 'i love what you have in the app but everytime i try and watch it it never works just stays black screen please fix issue but for now i m unsubscribing ',\n",
       " 'it buffers too much and i can rarely watch my son has the same problem it s disappointing to not be able to watch a movie without issues ',\n",
       " 'there is no portuguese subtitle without closed caption closed caption is annoying ',\n",
       " 'why am i being asked to restart my subscription i haven t canceled my subscription or put it on standby fix this ',\n",
       " ...]"
      ]
     },
     "execution_count": 12,
     "metadata": {},
     "output_type": "execute_result"
    }
   ],
   "source": [
    "texts_cleaned"
   ]
  },
  {
   "cell_type": "code",
   "execution_count": 13,
   "metadata": {},
   "outputs": [],
   "source": [
    "score_list = []\n",
    "\n",
    "for i in labels:\n",
    "    i -= 1\n",
    "    score_list.append(i)\n",
    "        \n",
    "score = np.array(score_list)"
   ]
  },
  {
   "cell_type": "code",
   "execution_count": 14,
   "metadata": {},
   "outputs": [
    {
     "name": "stdout",
     "output_type": "stream",
     "text": [
      "the maximum length of the text inputs is  102\n",
      "the maximum length of the text inputs is  128\n",
      "the maximum length of the text inputs is  480\n",
      "the maximum length of the text inputs is  488\n",
      "the maximum length of the text inputs is  498\n",
      "the maximum length of the text inputs is  781\n",
      "the maximum length of the text inputs is  1131\n",
      "the maximum length of the text inputs is  1580\n",
      "the maximum length of the text inputs is  2652\n",
      "Shape of data tensor: (50000, 50)\n",
      "Shape of label tensor: (50000, 5)\n"
     ]
    }
   ],
   "source": [
    "max_len = -1\n",
    "stop_words = set(stopwords.words('english'))\n",
    "tkList = []\n",
    "filtered_sentence = []\n",
    "for example in texts_cleaned:\n",
    "    if len(example) > max_len:\n",
    "        max_len = len(example)\n",
    "        print('the maximum length of the text inputs is ', max_len)\n",
    "        max_features = 15000\n",
    "\n",
    "for s in texts_cleaned:\n",
    "    tkList.append(nltk.word_tokenize(s))\n",
    "\n",
    "for i in tkList:\n",
    "    filtered_sentence.append([w for w in i if not w.lower() in stop_words])\n",
    "\n",
    "filtered_list = [' '.join(x) for x in filtered_sentence]\n",
    "\n",
    "tokenizer = Tokenizer(num_words=max_features)\n",
    "tokenizer.fit_on_texts(texts_cleaned)\n",
    "sequences = tokenizer.texts_to_sequences(filtered_list)\n",
    "\n",
    "word_index = tokenizer.word_index\n",
    "reviews = pad_sequences(sequences, maxlen=50) #150\n",
    "\n",
    "#labels = [0,1,2,3,4]\n",
    "y = to_categorical(np.asarray(score))\n",
    "print('Shape of data tensor:', reviews.shape)\n",
    "print('Shape of label tensor:', y.shape)"
   ]
  },
  {
   "cell_type": "code",
   "execution_count": 15,
   "metadata": {},
   "outputs": [],
   "source": [
    "# Split the X & y into train and test sets\n",
    "from sklearn.model_selection import train_test_split\n",
    "X_train, X_test, y_train, y_test = train_test_split(reviews, y, test_size=0.2)"
   ]
  },
  {
   "cell_type": "markdown",
   "metadata": {},
   "source": [
    "## Step 2 – Develop a Sentiment Analysis Model (Individual: One Model Per Student)"
   ]
  },
  {
   "cell_type": "markdown",
   "metadata": {},
   "source": [
    "### Model #1 SimpleRNN (Name: Dex Ngiam Chao Yi)"
   ]
  },
  {
   "cell_type": "code",
   "execution_count": 36,
   "metadata": {},
   "outputs": [
    {
     "name": "stdout",
     "output_type": "stream",
     "text": [
      "Model: \"sequential\"\n",
      "_________________________________________________________________\n",
      " Layer (type)                Output Shape              Param #   \n",
      "=================================================================\n",
      " embedding (Embedding)       (None, 50, 16)            240000    \n",
      "                                                                 \n",
      " simple_rnn (SimpleRNN)      (None, 50, 32)            1568      \n",
      "                                                                 \n",
      " dropout (Dropout)           (None, 50, 32)            0         \n",
      "                                                                 \n",
      " simple_rnn_1 (SimpleRNN)    (None, 32)                2080      \n",
      "                                                                 \n",
      " dropout_1 (Dropout)         (None, 32)                0         \n",
      "                                                                 \n",
      " dense (Dense)               (None, 5)                 165       \n",
      "                                                                 \n",
      "=================================================================\n",
      "Total params: 243,813\n",
      "Trainable params: 243,813\n",
      "Non-trainable params: 0\n",
      "_________________________________________________________________\n"
     ]
    }
   ],
   "source": [
    "# Build the Model\n",
    "modelSIMPLE8 = Sequential()\n",
    "modelSIMPLE8.add(Embedding(max_features, 16, input_length=50))\n",
    "modelSIMPLE8.add(SimpleRNN(32, return_sequences=True))\n",
    "modelSIMPLE8.add(Dropout(0.8))\n",
    "modelSIMPLE8.add(SimpleRNN(32))\n",
    "modelSIMPLE8.add(Dropout(0.4))\n",
    "modelSIMPLE8.add(Dense(5, activation='softmax'))\n",
    "\n",
    "modelSIMPLE8.summary()"
   ]
  },
  {
   "cell_type": "code",
   "execution_count": 38,
   "metadata": {},
   "outputs": [
    {
     "name": "stdout",
     "output_type": "stream",
     "text": [
      "Epoch 1/20\n",
      "1000/1000 [==============================] - 91s 89ms/step - loss: 1.6441 - acc: 0.2539 - val_loss: 1.5146 - val_acc: 0.3041\n",
      "Epoch 2/20\n",
      "1000/1000 [==============================] - 92s 92ms/step - loss: 1.5251 - acc: 0.3067 - val_loss: 1.4024 - val_acc: 0.3532\n",
      "Epoch 3/20\n",
      "1000/1000 [==============================] - 94s 94ms/step - loss: 1.4280 - acc: 0.3464 - val_loss: 1.3394 - val_acc: 0.3740\n",
      "Epoch 4/20\n",
      "1000/1000 [==============================] - 97s 97ms/step - loss: 1.3685 - acc: 0.3723 - val_loss: 1.3037 - val_acc: 0.4027\n",
      "Epoch 5/20\n",
      "1000/1000 [==============================] - 96s 96ms/step - loss: 1.3219 - acc: 0.3960 - val_loss: 1.2608 - val_acc: 0.4333\n",
      "Epoch 6/20\n",
      "1000/1000 [==============================] - 98s 98ms/step - loss: 1.2880 - acc: 0.4178 - val_loss: 1.2387 - val_acc: 0.4506\n",
      "Epoch 7/20\n",
      "1000/1000 [==============================] - 96s 96ms/step - loss: 1.2647 - acc: 0.4322 - val_loss: 1.2235 - val_acc: 0.4646\n",
      "Epoch 8/20\n",
      "1000/1000 [==============================] - 97s 97ms/step - loss: 1.2348 - acc: 0.4507 - val_loss: 1.2027 - val_acc: 0.4753\n",
      "Epoch 9/20\n",
      "1000/1000 [==============================] - 98s 98ms/step - loss: 1.2144 - acc: 0.4658 - val_loss: 1.1945 - val_acc: 0.4895\n",
      "Epoch 10/20\n",
      "1000/1000 [==============================] - 98s 98ms/step - loss: 1.1973 - acc: 0.4785 - val_loss: 1.1814 - val_acc: 0.4913\n",
      "Epoch 11/20\n",
      "1000/1000 [==============================] - 98s 98ms/step - loss: 1.1860 - acc: 0.4892 - val_loss: 1.1784 - val_acc: 0.4997\n",
      "Epoch 12/20\n",
      "1000/1000 [==============================] - 99s 99ms/step - loss: 1.1716 - acc: 0.4964 - val_loss: 1.1727 - val_acc: 0.4965\n",
      "Epoch 13/20\n",
      "1000/1000 [==============================] - 99s 99ms/step - loss: 1.1582 - acc: 0.5071 - val_loss: 1.1669 - val_acc: 0.5061\n",
      "Epoch 14/20\n",
      "1000/1000 [==============================] - 99s 99ms/step - loss: 1.1492 - acc: 0.5116 - val_loss: 1.1767 - val_acc: 0.4947\n",
      "Epoch 15/20\n",
      "1000/1000 [==============================] - 100s 100ms/step - loss: 1.1374 - acc: 0.5132 - val_loss: 1.1709 - val_acc: 0.5092\n",
      "Epoch 16/20\n",
      "1000/1000 [==============================] - 99s 99ms/step - loss: 1.1342 - acc: 0.5219 - val_loss: 1.1612 - val_acc: 0.5098\n",
      "Epoch 17/20\n",
      "1000/1000 [==============================] - 100s 100ms/step - loss: 1.1237 - acc: 0.5242 - val_loss: 1.1697 - val_acc: 0.5071\n",
      "Epoch 18/20\n",
      "1000/1000 [==============================] - 100s 100ms/step - loss: 1.1145 - acc: 0.5264 - val_loss: 1.1627 - val_acc: 0.5082\n",
      "Epoch 19/20\n",
      "1000/1000 [==============================] - 98s 98ms/step - loss: 1.1138 - acc: 0.5346 - val_loss: 1.1617 - val_acc: 0.5090\n",
      "Epoch 20/20\n",
      "1000/1000 [==============================] - 100s 100ms/step - loss: 1.1000 - acc: 0.5398 - val_loss: 1.1629 - val_acc: 0.5066\n"
     ]
    }
   ],
   "source": [
    "# Train the Model\n",
    "\n",
    "modelSIMPLE8.compile(optimizer=optimizers.RMSprop(learning_rate =0.0001), \n",
    "              loss='categorical_crossentropy', \n",
    "              metrics=['acc'])\n",
    "\n",
    "history = modelSIMPLE8.fit(X_train, y_train,\n",
    "                    epochs=20,\n",
    "                    batch_size=32,\n",
    "                    validation_split=0.2)"
   ]
  },
  {
   "cell_type": "code",
   "execution_count": 39,
   "metadata": {},
   "outputs": [
    {
     "data": {
      "image/png": "[encoded data removed]",
      "text/plain": [
       "<Figure size 432x288 with 1 Axes>"
      ]
     },
     "metadata": {
      "needs_background": "light"
     },
     "output_type": "display_data"
    },
    {
     "data": {
      "image/png": "[encoded data removed]",
      "text/plain": [
       "<Figure size 432x288 with 1 Axes>"
      ]
     },
     "metadata": {
      "needs_background": "light"
     },
     "output_type": "display_data"
    }
   ],
   "source": [
    "# Train the Model\n",
    "acc = history.history['acc']\n",
    "val_acc = history.history['val_acc']\n",
    "loss = history.history['loss']\n",
    "val_loss = history.history['val_loss']\n",
    "\n",
    "epochs = range(len(acc))\n",
    "\n",
    "plt.plot(epochs, acc, 'bo', label='Training acc')\n",
    "plt.plot(epochs, val_acc, 'b', label='Validation acc')\n",
    "plt.title('Training and validation accuracy')\n",
    "plt.legend()\n",
    "plt.figure()\n",
    "plt.plot(epochs, loss, 'bo', label='Training loss')\n",
    "plt.plot(epochs, val_loss, 'b', label='Validation loss')\n",
    "plt.title('Training and validation loss')\n",
    "plt.legend()\n",
    "\n",
    "plt.show()"
   ]
  },
  {
   "cell_type": "code",
   "execution_count": 40,
   "metadata": {},
   "outputs": [],
   "source": [
    "modelSIMPLE8.save('DL_Group_SimpleRNN.h5')"
   ]
  },
  {
   "cell_type": "markdown",
   "metadata": {},
   "source": [
    "### Model #2 LSTM (Name: Owg Jun Xian)"
   ]
  },
  {
   "cell_type": "code",
   "execution_count": 42,
   "metadata": {},
   "outputs": [
    {
     "name": "stdout",
     "output_type": "stream",
     "text": [
      "Model: \"sequential_2\"\n",
      "_________________________________________________________________\n",
      " Layer (type)                Output Shape              Param #   \n",
      "=================================================================\n",
      " embedding_1 (Embedding)     (None, 50, 16)            240000    \n",
      "                                                                 \n",
      " lstm (LSTM)                 (None, 50, 64)            20736     \n",
      "                                                                 \n",
      " dropout_2 (Dropout)         (None, 50, 64)            0         \n",
      "                                                                 \n",
      " lstm_1 (LSTM)               (None, 64)                33024     \n",
      "                                                                 \n",
      " dropout_3 (Dropout)         (None, 64)                0         \n",
      "                                                                 \n",
      " dense_1 (Dense)             (None, 5)                 325       \n",
      "                                                                 \n",
      "=================================================================\n",
      "Total params: 294,085\n",
      "Trainable params: 294,085\n",
      "Non-trainable params: 0\n",
      "_________________________________________________________________\n"
     ]
    }
   ],
   "source": [
    "# Build the Model\n",
    "lstmmodel10 = Sequential()\n",
    "lstmmodel10.add(Embedding(max_features, 16, input_length=50))\n",
    "lstmmodel10.add(LSTM(64, return_sequences=True))\n",
    "lstmmodel10.add(Dropout(0.5))\n",
    "lstmmodel10.add(LSTM(64,kernel_regularizer=regularizers.l1(0.002)))\n",
    "lstmmodel10.add(Dropout(0.5))\n",
    "lstmmodel10.add(Dense(5, activation='softmax'))\n",
    "lstmmodel10.summary()"
   ]
  },
  {
   "cell_type": "code",
   "execution_count": 44,
   "metadata": {},
   "outputs": [
    {
     "name": "stdout",
     "output_type": "stream",
     "text": [
      "Epoch 1/20\n",
      "1000/1000 [==============================] - 20s 15ms/step - loss: 2.5934 - acc: 0.2657 - val_loss: 1.7615 - val_acc: 0.3121\n",
      "Epoch 2/20\n",
      "1000/1000 [==============================] - 15s 15ms/step - loss: 1.5868 - acc: 0.3168 - val_loss: 1.4945 - val_acc: 0.3551\n",
      "Epoch 3/20\n",
      "1000/1000 [==============================] - 15s 15ms/step - loss: 1.4702 - acc: 0.3427 - val_loss: 1.4280 - val_acc: 0.3787\n",
      "Epoch 4/20\n",
      "1000/1000 [==============================] - 15s 15ms/step - loss: 1.4155 - acc: 0.3675 - val_loss: 1.3807 - val_acc: 0.3806\n",
      "Epoch 5/20\n",
      "1000/1000 [==============================] - 15s 15ms/step - loss: 1.3775 - acc: 0.3826 - val_loss: 1.3566 - val_acc: 0.3926\n",
      "Epoch 6/20\n",
      "1000/1000 [==============================] - 15s 15ms/step - loss: 1.3490 - acc: 0.3923 - val_loss: 1.3288 - val_acc: 0.4087\n",
      "Epoch 7/20\n",
      "1000/1000 [==============================] - 15s 15ms/step - loss: 1.3226 - acc: 0.4121 - val_loss: 1.3017 - val_acc: 0.4260\n",
      "Epoch 8/20\n",
      "1000/1000 [==============================] - 15s 15ms/step - loss: 1.3023 - acc: 0.4265 - val_loss: 1.2841 - val_acc: 0.4361\n",
      "Epoch 9/20\n",
      "1000/1000 [==============================] - 15s 15ms/step - loss: 1.2822 - acc: 0.4373 - val_loss: 1.2695 - val_acc: 0.4409\n",
      "Epoch 10/20\n",
      "1000/1000 [==============================] - 16s 16ms/step - loss: 1.2654 - acc: 0.4453 - val_loss: 1.2587 - val_acc: 0.4491\n",
      "Epoch 11/20\n",
      "1000/1000 [==============================] - 17s 17ms/step - loss: 1.2462 - acc: 0.4614 - val_loss: 1.2426 - val_acc: 0.4525\n",
      "Epoch 12/20\n",
      "1000/1000 [==============================] - 16s 16ms/step - loss: 1.2349 - acc: 0.4683 - val_loss: 1.2314 - val_acc: 0.4659\n",
      "Epoch 13/20\n",
      "1000/1000 [==============================] - 16s 16ms/step - loss: 1.2218 - acc: 0.4805 - val_loss: 1.2289 - val_acc: 0.4699\n",
      "Epoch 14/20\n",
      "1000/1000 [==============================] - 16s 16ms/step - loss: 1.2121 - acc: 0.4849 - val_loss: 1.2114 - val_acc: 0.4774\n",
      "Epoch 15/20\n",
      "1000/1000 [==============================] - 16s 16ms/step - loss: 1.1999 - acc: 0.4904 - val_loss: 1.2084 - val_acc: 0.4814\n",
      "Epoch 16/20\n",
      "1000/1000 [==============================] - 16s 16ms/step - loss: 1.1908 - acc: 0.4992 - val_loss: 1.2026 - val_acc: 0.4873\n",
      "Epoch 17/20\n",
      "1000/1000 [==============================] - 16s 16ms/step - loss: 1.1798 - acc: 0.5051 - val_loss: 1.1935 - val_acc: 0.4885\n",
      "Epoch 18/20\n",
      "1000/1000 [==============================] - 16s 16ms/step - loss: 1.1748 - acc: 0.5070 - val_loss: 1.1928 - val_acc: 0.4902\n",
      "Epoch 19/20\n",
      "1000/1000 [==============================] - 16s 16ms/step - loss: 1.1670 - acc: 0.5096 - val_loss: 1.1939 - val_acc: 0.4944\n",
      "Epoch 20/20\n",
      "1000/1000 [==============================] - 16s 16ms/step - loss: 1.1614 - acc: 0.5166 - val_loss: 1.1782 - val_acc: 0.4967\n"
     ]
    }
   ],
   "source": [
    "optimizer = optimizers.RMSprop(0.0001)\n",
    "lstmmodel10.compile(loss='categorical_crossentropy', optimizer=optimizer, metrics=['acc'])\n",
    "\n",
    "history =lstmmodel10.fit(X_train, y_train,epochs=20,batch_size=32,\n",
    "                    validation_split=0.2)"
   ]
  },
  {
   "cell_type": "code",
   "execution_count": 45,
   "metadata": {},
   "outputs": [
    {
     "data": {
      "image/png": "[encoded data removed]",
      "text/plain": [
       "<Figure size 432x288 with 1 Axes>"
      ]
     },
     "metadata": {
      "needs_background": "light"
     },
     "output_type": "display_data"
    },
    {
     "data": {
      "image/png": "[encoded data removed]",
      "text/plain": [
       "<Figure size 432x288 with 1 Axes>"
      ]
     },
     "metadata": {
      "needs_background": "light"
     },
     "output_type": "display_data"
    }
   ],
   "source": [
    "# Train the Model\n",
    "acc = history.history['acc']\n",
    "val_acc = history.history['val_acc']\n",
    "loss = history.history['loss']\n",
    "val_loss = history.history['val_loss']\n",
    "\n",
    "epochs = range(len(acc))\n",
    "\n",
    "plt.plot(epochs, acc, 'bo', label='Training acc')\n",
    "plt.plot(epochs, val_acc, 'b', label='Validation acc')\n",
    "plt.title('Training and validation accuracy')\n",
    "plt.legend()\n",
    "plt.figure()\n",
    "plt.plot(epochs, loss, 'bo', label='Training loss')\n",
    "plt.plot(epochs, val_loss, 'b', label='Validation loss')\n",
    "plt.title('Training and validation loss')\n",
    "plt.legend()\n",
    "\n",
    "plt.show()"
   ]
  },
  {
   "cell_type": "code",
   "execution_count": 46,
   "metadata": {},
   "outputs": [],
   "source": [
    "lstmmodel10.save('DL_Group_LSTM.h5')"
   ]
  },
  {
   "cell_type": "markdown",
   "metadata": {},
   "source": [
    "### Model #3 GLoVE GRU (Name: Lu Junji)"
   ]
  },
  {
   "cell_type": "code",
   "execution_count": 15,
   "metadata": {},
   "outputs": [],
   "source": [
    "maxlen = 50\n",
    "max_features = 15000"
   ]
  },
  {
   "cell_type": "code",
   "execution_count": 16,
   "metadata": {},
   "outputs": [
    {
     "name": "stdout",
     "output_type": "stream",
     "text": [
      "Found 400001 word vectors.\n"
     ]
    }
   ],
   "source": [
    "glove_dir = 'C:\\\\Users\\\\shiny\\\\Desktop\\\\DL\\\\ASG2'\n",
    "\n",
    "embeddings_index = {}\n",
    "f = open(os.path.join(glove_dir, 'glove.6B.50d.txt'), encoding=\"utf8\")\n",
    "for line in f:\n",
    "    values = line.split()\n",
    "    word = values[0]\n",
    "    coefs = np.asarray(values[1:], dtype='float32')\n",
    "    embeddings_index[word] = coefs\n",
    "f.close()\n",
    "\n",
    "print('Found %s word vectors.' % len(embeddings_index))"
   ]
  },
  {
   "cell_type": "code",
   "execution_count": 17,
   "metadata": {},
   "outputs": [],
   "source": [
    "embedding_dim = 50\n",
    "\n",
    "embedding_matrix = np.zeros((max_features, embedding_dim))\n",
    "for word, i in word_index.items():\n",
    "    embedding_vector = embeddings_index.get(word)\n",
    "    if i < max_features:\n",
    "        if embedding_vector is not None:\n",
    "            # Words not found in embedding index will be all-zeros.\n",
    "            embedding_matrix[i] = embedding_vector"
   ]
  },
  {
   "cell_type": "code",
   "execution_count": 18,
   "metadata": {},
   "outputs": [
    {
     "name": "stdout",
     "output_type": "stream",
     "text": [
      "WARNING:tensorflow:Layer gru_1 will not use cuDNN kernels since it doesn't meet the criteria. It will use a generic GPU kernel as fallback when running on GPU.\n",
      "Model: \"sequential\"\n",
      "_________________________________________________________________\n",
      " Layer (type)                Output Shape              Param #   \n",
      "=================================================================\n",
      " embedding (Embedding)       (None, 50, 50)            750000    \n",
      "                                                                 \n",
      " gru (GRU)                   (None, 50, 64)            22272     \n",
      "                                                                 \n",
      " dropout (Dropout)           (None, 50, 64)            0         \n",
      "                                                                 \n",
      " gru_1 (GRU)                 (None, 32)                9408      \n",
      "                                                                 \n",
      " dense (Dense)               (None, 5)                 165       \n",
      "                                                                 \n",
      "=================================================================\n",
      "Total params: 781,845\n",
      "Trainable params: 781,845\n",
      "Non-trainable params: 0\n",
      "_________________________________________________________________\n"
     ]
    }
   ],
   "source": [
    "# Build the Model\n",
    "modelGRU12 = Sequential()\n",
    "modelGRU12.add(Embedding(max_features, embedding_dim, input_length=maxlen))\n",
    "modelGRU12.add(GRU(64,return_sequences=True))\n",
    "modelGRU12.add(Dropout(0.6))\n",
    "modelGRU12.add(GRU(32,dropout=0.8,recurrent_dropout=0.5))\n",
    "#modelGRU8.add(Dropout(0.6))\n",
    "modelGRU12.add(Dense(5, activation='softmax'))\n",
    "#Load the GloVe embeddings in the model              \n",
    "modelGRU12.layers[0].set_weights([embedding_matrix])\n",
    "modelGRU12.layers[0].trainable = True\n",
    "modelGRU12.summary()"
   ]
  },
  {
   "cell_type": "code",
   "execution_count": 19,
   "metadata": {},
   "outputs": [
    {
     "name": "stdout",
     "output_type": "stream",
     "text": [
      "Epoch 1/20\n",
      "1000/1000 [==============================] - 164s 156ms/step - loss: 1.5977 - acc: 0.2555 - val_loss: 1.4347 - val_acc: 0.3485\n",
      "Epoch 2/20\n",
      "1000/1000 [==============================] - 166s 166ms/step - loss: 1.4448 - acc: 0.3443 - val_loss: 1.3723 - val_acc: 0.3717\n",
      "Epoch 3/20\n",
      "1000/1000 [==============================] - 175s 176ms/step - loss: 1.3815 - acc: 0.3690 - val_loss: 1.3384 - val_acc: 0.3995\n",
      "Epoch 4/20\n",
      "1000/1000 [==============================] - 174s 175ms/step - loss: 1.3397 - acc: 0.3955 - val_loss: 1.2892 - val_acc: 0.4327\n",
      "Epoch 5/20\n",
      "1000/1000 [==============================] - 171s 171ms/step - loss: 1.3036 - acc: 0.4198 - val_loss: 1.2663 - val_acc: 0.4495\n",
      "Epoch 6/20\n",
      "1000/1000 [==============================] - 167s 167ms/step - loss: 1.2761 - acc: 0.4388 - val_loss: 1.2469 - val_acc: 0.4647\n",
      "Epoch 7/20\n",
      "1000/1000 [==============================] - 161s 161ms/step - loss: 1.2594 - acc: 0.4439 - val_loss: 1.2417 - val_acc: 0.4691\n",
      "Epoch 8/20\n",
      "1000/1000 [==============================] - 165s 165ms/step - loss: 1.2419 - acc: 0.4545 - val_loss: 1.2198 - val_acc: 0.4793\n",
      "Epoch 9/20\n",
      "1000/1000 [==============================] - 163s 163ms/step - loss: 1.2331 - acc: 0.4623 - val_loss: 1.2093 - val_acc: 0.4815\n",
      "Epoch 10/20\n",
      "1000/1000 [==============================] - 160s 160ms/step - loss: 1.2177 - acc: 0.4700 - val_loss: 1.2018 - val_acc: 0.4844\n",
      "Epoch 11/20\n",
      "1000/1000 [==============================] - 164s 164ms/step - loss: 1.2072 - acc: 0.4748 - val_loss: 1.1971 - val_acc: 0.4865\n",
      "Epoch 12/20\n",
      "1000/1000 [==============================] - 161s 161ms/step - loss: 1.1964 - acc: 0.4802 - val_loss: 1.1889 - val_acc: 0.4889\n",
      "Epoch 13/20\n",
      "1000/1000 [==============================] - 161s 161ms/step - loss: 1.1890 - acc: 0.4852 - val_loss: 1.1875 - val_acc: 0.4947\n",
      "Epoch 14/20\n",
      "1000/1000 [==============================] - 163s 163ms/step - loss: 1.1813 - acc: 0.4871 - val_loss: 1.1802 - val_acc: 0.4970\n",
      "Epoch 15/20\n",
      "1000/1000 [==============================] - 165s 164ms/step - loss: 1.1753 - acc: 0.4913 - val_loss: 1.1704 - val_acc: 0.4945\n",
      "Epoch 16/20\n",
      "1000/1000 [==============================] - 164s 164ms/step - loss: 1.1663 - acc: 0.4959 - val_loss: 1.1729 - val_acc: 0.4984\n",
      "Epoch 17/20\n",
      "1000/1000 [==============================] - 164s 164ms/step - loss: 1.1616 - acc: 0.5021 - val_loss: 1.1720 - val_acc: 0.4992\n",
      "Epoch 18/20\n",
      "1000/1000 [==============================] - 163s 163ms/step - loss: 1.1535 - acc: 0.5054 - val_loss: 1.1733 - val_acc: 0.5025\n",
      "Epoch 19/20\n",
      "1000/1000 [==============================] - 162s 162ms/step - loss: 1.1502 - acc: 0.5076 - val_loss: 1.1676 - val_acc: 0.5017\n",
      "Epoch 20/20\n",
      "1000/1000 [==============================] - 163s 163ms/step - loss: 1.1433 - acc: 0.5147 - val_loss: 1.1649 - val_acc: 0.5040\n"
     ]
    }
   ],
   "source": [
    "modelGRU12.compile(loss='categorical_crossentropy', \n",
    "              optimizer=tensorflow.keras.optimizers.RMSprop(0.0001), metrics =['acc'])\n",
    "history = modelGRU12.fit(X_train, y_train,\n",
    "                    epochs=20,\n",
    "                    batch_size=32,\n",
    "                    validation_split=0.2)"
   ]
  },
  {
   "cell_type": "code",
   "execution_count": 20,
   "metadata": {},
   "outputs": [
    {
     "data": {
      "image/png": "[encoded data removed]",
      "text/plain": [
       "<Figure size 432x288 with 1 Axes>"
      ]
     },
     "metadata": {
      "needs_background": "light"
     },
     "output_type": "display_data"
    },
    {
     "data": {
      "image/png": "[encoded data removed]",
      "text/plain": [
       "<Figure size 432x288 with 1 Axes>"
      ]
     },
     "metadata": {
      "needs_background": "light"
     },
     "output_type": "display_data"
    }
   ],
   "source": [
    "# Train the Model\n",
    "acc = history.history['acc']\n",
    "val_acc = history.history['val_acc']\n",
    "loss = history.history['loss']\n",
    "val_loss = history.history['val_loss']\n",
    "\n",
    "epochs = range(len(acc))\n",
    "\n",
    "plt.plot(epochs, acc, 'bo', label='Training acc')\n",
    "plt.plot(epochs, val_acc, 'b', label='Validation acc')\n",
    "plt.title('Training and validation accuracy')\n",
    "plt.legend()\n",
    "plt.figure()\n",
    "plt.plot(epochs, loss, 'bo', label='Training loss')\n",
    "plt.plot(epochs, val_loss, 'b', label='Validation loss')\n",
    "plt.title('Training and validation loss')\n",
    "plt.legend()\n",
    "\n",
    "plt.show()"
   ]
  },
  {
   "cell_type": "code",
   "execution_count": 21,
   "metadata": {},
   "outputs": [],
   "source": [
    "modelGRU12.save('DL_Group_GloVeGRU.h5')"
   ]
  },
  {
   "cell_type": "markdown",
   "metadata": {},
   "source": [
    "### Model #4 GloVe Bidirectional LSTM+GRU (Name: Seo Shin Youn)"
   ]
  },
  {
   "cell_type": "code",
   "execution_count": 13,
   "metadata": {},
   "outputs": [],
   "source": [
    "maxlen = 50\n",
    "max_features = 15000"
   ]
  },
  {
   "cell_type": "code",
   "execution_count": 14,
   "metadata": {},
   "outputs": [
    {
     "name": "stdout",
     "output_type": "stream",
     "text": [
      "Found 400001 word vectors.\n"
     ]
    }
   ],
   "source": [
    "glove_dir = 'C:\\\\Users\\\\shiny\\\\Desktop\\\\DL\\\\ASG2'\n",
    "\n",
    "embeddings_index = {}\n",
    "f = open(os.path.join(glove_dir, 'glove.6B.50d.txt'), encoding=\"utf8\")\n",
    "for line in f:\n",
    "    values = line.split()\n",
    "    word = values[0]\n",
    "    coefs = np.asarray(values[1:], dtype='float32')\n",
    "    embeddings_index[word] = coefs\n",
    "f.close()\n",
    "\n",
    "print('Found %s word vectors.' % len(embeddings_index))"
   ]
  },
  {
   "cell_type": "code",
   "execution_count": 15,
   "metadata": {},
   "outputs": [],
   "source": [
    "embedding_dim = 50\n",
    "\n",
    "embedding_matrix = np.zeros((max_features, embedding_dim))\n",
    "for word, i in word_index.items():\n",
    "    embedding_vector = embeddings_index.get(word)\n",
    "    if i < max_features:\n",
    "        if embedding_vector is not None:\n",
    "            # Words not found in embedding index will be all-zeros.\n",
    "            embedding_matrix[i] = embedding_vector"
   ]
  },
  {
   "cell_type": "code",
   "execution_count": 64,
   "metadata": {},
   "outputs": [
    {
     "name": "stdout",
     "output_type": "stream",
     "text": [
      "Model: \"sequential_8\"\n",
      "_________________________________________________________________\n",
      " Layer (type)                Output Shape              Param #   \n",
      "=================================================================\n",
      " embedding_8 (Embedding)     (None, 50, 50)            750000    \n",
      "                                                                 \n",
      " bidirectional_42 (Bidirecti  (None, 50, 256)          183296    \n",
      " onal)                                                           \n",
      "                                                                 \n",
      " dropout_50 (Dropout)        (None, 50, 256)           0         \n",
      "                                                                 \n",
      " bidirectional_43 (Bidirecti  (None, 50, 256)          394240    \n",
      " onal)                                                           \n",
      "                                                                 \n",
      " dropout_51 (Dropout)        (None, 50, 256)           0         \n",
      "                                                                 \n",
      " bidirectional_44 (Bidirecti  (None, 50, 128)          164352    \n",
      " onal)                                                           \n",
      "                                                                 \n",
      " dropout_52 (Dropout)        (None, 50, 128)           0         \n",
      "                                                                 \n",
      " bidirectional_45 (Bidirecti  (None, 50, 256)          198144    \n",
      " onal)                                                           \n",
      "                                                                 \n",
      " dropout_53 (Dropout)        (None, 50, 256)           0         \n",
      "                                                                 \n",
      " bidirectional_46 (Bidirecti  (None, 50, 256)          296448    \n",
      " onal)                                                           \n",
      "                                                                 \n",
      " dropout_54 (Dropout)        (None, 50, 256)           0         \n",
      "                                                                 \n",
      " bidirectional_47 (Bidirecti  (None, 128)              123648    \n",
      " onal)                                                           \n",
      "                                                                 \n",
      " dropout_55 (Dropout)        (None, 128)               0         \n",
      "                                                                 \n",
      " dense_15 (Dense)            (None, 64)                8256      \n",
      "                                                                 \n",
      " dropout_56 (Dropout)        (None, 64)                0         \n",
      "                                                                 \n",
      " dense_16 (Dense)            (None, 5)                 325       \n",
      "                                                                 \n",
      "=================================================================\n",
      "Total params: 2,118,709\n",
      "Trainable params: 2,118,709\n",
      "Non-trainable params: 0\n",
      "_________________________________________________________________\n"
     ]
    }
   ],
   "source": [
    "modelBidirectionalLSTMGRU10 = Sequential()\n",
    "modelBidirectionalLSTMGRU10.add(Embedding(max_features, embedding_dim, input_length=50))\n",
    "modelBidirectionalLSTMGRU10.add(Bidirectional(layers.LSTM(128, return_sequences=True)))\n",
    "modelBidirectionalLSTMGRU10.add(layers.Dropout(0.6))\n",
    "modelBidirectionalLSTMGRU10.add(Bidirectional(layers.LSTM(128, return_sequences=True,\n",
    "                                                        kernel_regularizer=regularizers.l1_l2(l1=0.01, l2=0.005))))\n",
    "modelBidirectionalLSTMGRU10.add(layers.Dropout(0.6))\n",
    "modelBidirectionalLSTMGRU10.add(Bidirectional(layers.LSTM(64, return_sequences=True, \n",
    "                                                         kernel_regularizer=regularizers.l1_l2(l1=0.01, l2=0.005))))\n",
    "modelBidirectionalLSTMGRU10.add(layers.Dropout(0.6))\n",
    "modelBidirectionalLSTMGRU10.add(Bidirectional(layers.GRU(128, return_sequences=True)))\n",
    "modelBidirectionalLSTMGRU10.add(layers.Dropout(0.6))\n",
    "modelBidirectionalLSTMGRU10.add(Bidirectional(layers.GRU(128, return_sequences=True,\n",
    "                                                       kernel_regularizer=regularizers.l1_l2(l1=0.01, l2=0.005))))\n",
    "modelBidirectionalLSTMGRU10.add(layers.Dropout(0.6))\n",
    "modelBidirectionalLSTMGRU10.add(Bidirectional(layers.GRU(64, return_sequences=False, \n",
    "                                                         kernel_regularizer=regularizers.l1_l2(l1=0.01, l2=0.005))))\n",
    "modelBidirectionalLSTMGRU10.add(layers.Dropout(0.6))\n",
    "modelBidirectionalLSTMGRU10.add(Dense(64, activation='relu', kernel_regularizer = regularizers.l2(0.01)))\n",
    "modelBidirectionalLSTMGRU10.add(layers.Dropout(0.4))\n",
    "modelBidirectionalLSTMGRU10.add(Dense(5, activation='softmax', kernel_regularizer = regularizers.l2(0.01)))\n",
    "modelBidirectionalLSTMGRU10.layers[0].set_weights([embedding_matrix])\n",
    "modelBidirectionalLSTMGRU10.layers[0].trainable = True\n",
    "optimizer = optimizers.Adam(learning_rate = 0.00002)\n",
    "modelBidirectionalLSTMGRU10.compile(loss='categorical_crossentropy',\n",
    "              optimizer=optimizer, metrics =['acc'])\n",
    "\n",
    "modelBidirectionalLSTMGRU10.summary()"
   ]
  },
  {
   "cell_type": "code",
   "execution_count": 65,
   "metadata": {},
   "outputs": [
    {
     "name": "stdout",
     "output_type": "stream",
     "text": [
      "Epoch 1/50\n",
      "500/500 [==============================] - 67s 95ms/step - loss: 317.8714 - acc: 0.2268 - val_loss: 284.3156 - val_acc: 0.3022\n",
      "Epoch 2/50\n",
      "500/500 [==============================] - 44s 88ms/step - loss: 253.5231 - acc: 0.2841 - val_loss: 223.8702 - val_acc: 0.3261\n",
      "Epoch 3/50\n",
      "500/500 [==============================] - 47s 95ms/step - loss: 196.8645 - acc: 0.3319 - val_loss: 171.0266 - val_acc: 0.3543\n",
      "Epoch 4/50\n",
      "500/500 [==============================] - 49s 98ms/step - loss: 147.8899 - acc: 0.3554 - val_loss: 125.8372 - val_acc: 0.3753\n",
      "Epoch 5/50\n",
      "500/500 [==============================] - 48s 97ms/step - loss: 106.3912 - acc: 0.3696 - val_loss: 88.0201 - val_acc: 0.3871\n",
      "Epoch 6/50\n",
      "500/500 [==============================] - 50s 100ms/step - loss: 72.1964 - acc: 0.3799 - val_loss: 57.4454 - val_acc: 0.3921\n",
      "Epoch 7/50\n",
      "500/500 [==============================] - 51s 103ms/step - loss: 45.1780 - acc: 0.3862 - val_loss: 33.9994 - val_acc: 0.4064\n",
      "Epoch 8/50\n",
      "500/500 [==============================] - 51s 102ms/step - loss: 25.2797 - acc: 0.3892 - val_loss: 17.6320 - val_acc: 0.4046\n",
      "Epoch 9/50\n",
      "500/500 [==============================] - 51s 103ms/step - loss: 12.3555 - acc: 0.3896 - val_loss: 8.1335 - val_acc: 0.4030\n",
      "Epoch 10/50\n",
      "500/500 [==============================] - 51s 103ms/step - loss: 5.6979 - acc: 0.3947 - val_loss: 3.7979 - val_acc: 0.4171\n",
      "Epoch 11/50\n",
      "500/500 [==============================] - 51s 102ms/step - loss: 2.8080 - acc: 0.4095 - val_loss: 2.0820 - val_acc: 0.4132\n",
      "Epoch 12/50\n",
      "500/500 [==============================] - 52s 104ms/step - loss: 1.8636 - acc: 0.4112 - val_loss: 1.7216 - val_acc: 0.4254\n",
      "Epoch 13/50\n",
      "500/500 [==============================] - 52s 103ms/step - loss: 1.6992 - acc: 0.4189 - val_loss: 1.6419 - val_acc: 0.4308\n",
      "Epoch 14/50\n",
      "500/500 [==============================] - 52s 103ms/step - loss: 1.6395 - acc: 0.4229 - val_loss: 1.6409 - val_acc: 0.4248\n",
      "Epoch 15/50\n",
      "500/500 [==============================] - 53s 106ms/step - loss: 1.5957 - acc: 0.4260 - val_loss: 1.5802 - val_acc: 0.4201\n",
      "Epoch 16/50\n",
      "500/500 [==============================] - 53s 105ms/step - loss: 1.5612 - acc: 0.4288 - val_loss: 1.5299 - val_acc: 0.4440\n",
      "Epoch 17/50\n",
      "500/500 [==============================] - 53s 105ms/step - loss: 1.5338 - acc: 0.4309 - val_loss: 1.4941 - val_acc: 0.4490\n",
      "Epoch 18/50\n",
      "500/500 [==============================] - 53s 105ms/step - loss: 1.5118 - acc: 0.4372 - val_loss: 1.4682 - val_acc: 0.4489\n",
      "Epoch 19/50\n",
      "500/500 [==============================] - 53s 105ms/step - loss: 1.4915 - acc: 0.4406 - val_loss: 1.4723 - val_acc: 0.4474\n",
      "Epoch 20/50\n",
      "500/500 [==============================] - 52s 105ms/step - loss: 1.4749 - acc: 0.4435 - val_loss: 1.4385 - val_acc: 0.4586\n",
      "Epoch 21/50\n",
      "500/500 [==============================] - 53s 106ms/step - loss: 1.4604 - acc: 0.4473 - val_loss: 1.4344 - val_acc: 0.4516\n",
      "Epoch 22/50\n",
      "500/500 [==============================] - 52s 105ms/step - loss: 1.4426 - acc: 0.4479 - val_loss: 1.4187 - val_acc: 0.4518\n",
      "Epoch 23/50\n",
      "500/500 [==============================] - 54s 107ms/step - loss: 1.4319 - acc: 0.4479 - val_loss: 1.4084 - val_acc: 0.4559\n",
      "Epoch 24/50\n",
      "500/500 [==============================] - 52s 105ms/step - loss: 1.4220 - acc: 0.4575 - val_loss: 1.3947 - val_acc: 0.4625\n",
      "Epoch 25/50\n",
      "500/500 [==============================] - 53s 107ms/step - loss: 1.4123 - acc: 0.4574 - val_loss: 1.3908 - val_acc: 0.4585\n",
      "Epoch 26/50\n",
      "500/500 [==============================] - 53s 106ms/step - loss: 1.3967 - acc: 0.4607 - val_loss: 1.3802 - val_acc: 0.4622\n",
      "Epoch 27/50\n",
      "500/500 [==============================] - 53s 105ms/step - loss: 1.3881 - acc: 0.4652 - val_loss: 1.3706 - val_acc: 0.4650\n",
      "Epoch 28/50\n",
      "500/500 [==============================] - 53s 106ms/step - loss: 1.3749 - acc: 0.4712 - val_loss: 1.3653 - val_acc: 0.4712\n",
      "Epoch 29/50\n",
      "500/500 [==============================] - 52s 104ms/step - loss: 1.3682 - acc: 0.4701 - val_loss: 1.3681 - val_acc: 0.4621\n",
      "Epoch 30/50\n",
      "500/500 [==============================] - 53s 106ms/step - loss: 1.3600 - acc: 0.4708 - val_loss: 1.3650 - val_acc: 0.4751\n",
      "Epoch 31/50\n",
      "500/500 [==============================] - 52s 105ms/step - loss: 1.3538 - acc: 0.4730 - val_loss: 1.3548 - val_acc: 0.4696\n",
      "Epoch 32/50\n",
      "500/500 [==============================] - 53s 107ms/step - loss: 1.3415 - acc: 0.4777 - val_loss: 1.3551 - val_acc: 0.4591\n",
      "Epoch 33/50\n",
      "500/500 [==============================] - 53s 105ms/step - loss: 1.3374 - acc: 0.4780 - val_loss: 1.3495 - val_acc: 0.4723\n",
      "Epoch 34/50\n",
      "500/500 [==============================] - 53s 105ms/step - loss: 1.3288 - acc: 0.4814 - val_loss: 1.3337 - val_acc: 0.4710\n",
      "Epoch 35/50\n",
      "500/500 [==============================] - 53s 105ms/step - loss: 1.3266 - acc: 0.4825 - val_loss: 1.3252 - val_acc: 0.4737\n",
      "Epoch 36/50\n",
      "500/500 [==============================] - 53s 105ms/step - loss: 1.3153 - acc: 0.4855 - val_loss: 1.3403 - val_acc: 0.4725\n",
      "Epoch 37/50\n",
      "500/500 [==============================] - 53s 106ms/step - loss: 1.3050 - acc: 0.4918 - val_loss: 1.3153 - val_acc: 0.4803\n",
      "Epoch 38/50\n",
      "500/500 [==============================] - 53s 106ms/step - loss: 1.3009 - acc: 0.4909 - val_loss: 1.3346 - val_acc: 0.4720\n",
      "Epoch 39/50\n",
      "500/500 [==============================] - 53s 106ms/step - loss: 1.2946 - acc: 0.4956 - val_loss: 1.3477 - val_acc: 0.4679\n",
      "Epoch 40/50\n",
      "500/500 [==============================] - 52s 105ms/step - loss: 1.2896 - acc: 0.4974 - val_loss: 1.3067 - val_acc: 0.4744\n",
      "Epoch 41/50\n",
      "500/500 [==============================] - 54s 108ms/step - loss: 1.2806 - acc: 0.5004 - val_loss: 1.2978 - val_acc: 0.4825\n",
      "Epoch 42/50\n",
      "500/500 [==============================] - 53s 105ms/step - loss: 1.2742 - acc: 0.5039 - val_loss: 1.3257 - val_acc: 0.4638\n",
      "Epoch 43/50\n",
      "500/500 [==============================] - 54s 107ms/step - loss: 1.2751 - acc: 0.5014 - val_loss: 1.2963 - val_acc: 0.4824\n",
      "Epoch 44/50\n",
      "500/500 [==============================] - 52s 105ms/step - loss: 1.2655 - acc: 0.5060 - val_loss: 1.3130 - val_acc: 0.4742\n",
      "Epoch 45/50\n",
      "500/500 [==============================] - 53s 106ms/step - loss: 1.2615 - acc: 0.5058 - val_loss: 1.2870 - val_acc: 0.4850\n",
      "Epoch 46/50\n",
      "500/500 [==============================] - 52s 105ms/step - loss: 1.2538 - acc: 0.5110 - val_loss: 1.2892 - val_acc: 0.4894\n",
      "Epoch 47/50\n",
      "500/500 [==============================] - 53s 105ms/step - loss: 1.2517 - acc: 0.5095 - val_loss: 1.3014 - val_acc: 0.4835\n",
      "Epoch 48/50\n",
      "500/500 [==============================] - 53s 106ms/step - loss: 1.2485 - acc: 0.5073 - val_loss: 1.2819 - val_acc: 0.4924\n",
      "Epoch 49/50\n",
      "500/500 [==============================] - 53s 106ms/step - loss: 1.2433 - acc: 0.5133 - val_loss: 1.3001 - val_acc: 0.4886\n",
      "Epoch 50/50\n",
      "500/500 [==============================] - 52s 105ms/step - loss: 1.2375 - acc: 0.5165 - val_loss: 1.2724 - val_acc: 0.4897\n"
     ]
    }
   ],
   "source": [
    "# Train the Model\n",
    "earlystopping = callbacks.EarlyStopping(monitor='val_acc', mode='max', patience = 10)\n",
    "history = modelBidirectionalLSTMGRU10.fit(X_train, y_train,\n",
    "          batch_size=64,\n",
    "          epochs=50,\n",
    "          validation_split=0.2,\n",
    "          callbacks=[earlystopping])"
   ]
  },
  {
   "cell_type": "code",
   "execution_count": 66,
   "metadata": {},
   "outputs": [
    {
     "data": {
      "image/png": "[encoded data removed]",
      "text/plain": [
       "<Figure size 432x288 with 1 Axes>"
      ]
     },
     "metadata": {},
     "output_type": "display_data"
    },
    {
     "data": {
      "image/png": "[encoded data removed]",
      "text/plain": [
       "<Figure size 432x288 with 1 Axes>"
      ]
     },
     "metadata": {},
     "output_type": "display_data"
    }
   ],
   "source": [
    "# Train the Model\n",
    "acc = history.history['acc']\n",
    "val_acc = history.history['val_acc']\n",
    "loss = history.history['loss']\n",
    "val_loss = history.history['val_loss']\n",
    "\n",
    "epochs = range(len(acc))\n",
    "\n",
    "plt.plot(epochs, acc, 'bo', label='Training acc')\n",
    "plt.plot(epochs, val_acc, 'b', label='Validation acc')\n",
    "plt.title('Training and validation accuracy')\n",
    "plt.legend()\n",
    "plt.figure()\n",
    "plt.plot(epochs, loss, 'bo', label='Training loss')\n",
    "plt.plot(epochs, val_loss, 'b', label='Validation loss')\n",
    "plt.title('Training and validation loss')\n",
    "plt.legend()\n",
    "\n",
    "plt.show()"
   ]
  },
  {
   "cell_type": "code",
   "execution_count": 67,
   "metadata": {},
   "outputs": [],
   "source": [
    "modelBidirectionalLSTMGRU10.save('DL_Group_GloVeBidirectionalLSTMGRU.h5')"
   ]
  },
  {
   "cell_type": "markdown",
   "metadata": {},
   "source": [
    "### Model #5  (Name: Sean Tan Yi Xun)"
   ]
  },
  {
   "cell_type": "code",
   "execution_count": 16,
   "metadata": {},
   "outputs": [
    {
     "name": "stdout",
     "output_type": "stream",
     "text": [
      "Model: \"sequential\"\n",
      "_________________________________________________________________\n",
      " Layer (type)                Output Shape              Param #   \n",
      "=================================================================\n",
      " embedding (Embedding)       (None, 50, 50)            750000    \n",
      "                                                                 \n",
      " conv1d (Conv1D)             (None, 46, 32)            8032      \n",
      "                                                                 \n",
      " batch_normalization (BatchN  (None, 46, 32)           128       \n",
      " ormalization)                                                   \n",
      "                                                                 \n",
      " max_pooling1d (MaxPooling1D  (None, 23, 32)           0         \n",
      " )                                                               \n",
      "                                                                 \n",
      " flatten (Flatten)           (None, 736)               0         \n",
      "                                                                 \n",
      " dense (Dense)               (None, 32)                23584     \n",
      "                                                                 \n",
      " dropout (Dropout)           (None, 32)                0         \n",
      "                                                                 \n",
      " dense_1 (Dense)             (None, 5)                 165       \n",
      "                                                                 \n",
      "=================================================================\n",
      "Total params: 781,909\n",
      "Trainable params: 781,845\n",
      "Non-trainable params: 64\n",
      "_________________________________________________________________\n"
     ]
    }
   ],
   "source": [
    "# Build the Model\n",
    "modelConv1D_2 = Sequential()\n",
    "modelConv1D_2.add(Embedding(max_features, embedding_dim, input_length=maxlen))\n",
    "modelConv1D_2.add(Conv1D(32, 5, kernel_regularizer=l1_l2(l1=2e-3, l2=2e-3),bias_regularizer=l2(2e-3)))\n",
    "modelConv1D_2.add(BatchNormalization())\n",
    "modelConv1D_2.add(MaxPooling1D(pool_size=2))\n",
    "modelConv1D_2.add(Flatten())\n",
    "modelConv1D_2.add(Dense(32))\n",
    "modelConv1D_2.add(Dropout(0.4))\n",
    "modelConv1D_2.add(Dense(5, activation='softmax',kernel_regularizer=l1_l2(l1=2e-3, l2=2e-3), bias_regularizer=l2(2e-3)))\n",
    "modelConv1D_2.layers[0].set_weights([embedding_matrix])\n",
    "modelConv1D_2.layers[0].trainable = True\n",
    "modelConv1D_2.summary()"
   ]
  },
  {
   "cell_type": "code",
   "execution_count": null,
   "metadata": {},
   "outputs": [
    {
     "name": "stdout",
     "output_type": "stream",
     "text": [
      "Epoch 1/100\n"
     ]
    }
   ],
   "source": [
    "# Train the Model\n",
    "es = EarlyStopping(monitor='val_acc', mode='max', patience=10)\n",
    "\n",
    "def lr_scheduler(epoch, lr):\n",
    "    if epoch < 5:\n",
    "        return lr\n",
    "    else:\n",
    "         return lr *math.exp(-0.05)\n",
    "lr_cb = LearningRateScheduler(lr_scheduler)\n",
    "\n",
    "modelConv1D_2.compile(loss='categorical_crossentropy', \n",
    "              optimizer=tensorflow.keras.optimizers.RMSprop(0.01), metrics =['acc'])\n",
    "\n",
    "history = modelConv1D_2.fit(X_train, y_train,\n",
    "                    epochs=100,\n",
    "                    batch_size=256,\n",
    "                    validation_split=0.2,\n",
    "                    callbacks=[lr_cb, es])"
   ]
  },
  {
   "cell_type": "code",
   "execution_count": null,
   "metadata": {},
   "outputs": [],
   "source": [
    "# Plot the Training and Validation Accuracy & Loss Scores\n"
   ]
  },
  {
   "cell_type": "code",
   "execution_count": null,
   "metadata": {},
   "outputs": [],
   "source": [
    "# Save the Model\n",
    "model.save('text_model_2.h5')"
   ]
  },
  {
   "cell_type": "markdown",
   "metadata": {},
   "source": [
    "## Step 3 – Evaluate the Model using Testing Data (Individual & Group)"
   ]
  },
  {
   "cell_type": "markdown",
   "metadata": {},
   "source": [
    "### SimpleRNN"
   ]
  },
  {
   "cell_type": "code",
   "execution_count": 16,
   "metadata": {},
   "outputs": [],
   "source": [
    "# Model #1 (replicate where necessary for other models)\n",
    "dl_group_SimpleRNN = keras.models.load_model('DL_Group_SimpleRNN.h5')"
   ]
  },
  {
   "cell_type": "code",
   "execution_count": 17,
   "metadata": {},
   "outputs": [
    {
     "name": "stdout",
     "output_type": "stream",
     "text": [
      "Test loss:  1.090041160583496\n",
      "Test accuracy:  0.5454000234603882\n"
     ]
    }
   ],
   "source": [
    "dl_group_SimpleRNN_score = dl_group_SimpleRNN.evaluate(X_test, y_test, verbose=False) \n",
    "print('Test loss: ', dl_group_SimpleRNN_score[0])    #Loss on test\n",
    "print('Test accuracy: ', dl_group_SimpleRNN_score[1])"
   ]
  },
  {
   "cell_type": "code",
   "execution_count": 18,
   "metadata": {},
   "outputs": [
    {
     "name": "stdout",
     "output_type": "stream",
     "text": [
      "313/313 [==============================] - 5s 17ms/step\n"
     ]
    }
   ],
   "source": [
    "# get y_pred\n",
    "y_pred = dl_group_SimpleRNN.predict(X_test)"
   ]
  },
  {
   "cell_type": "code",
   "execution_count": 19,
   "metadata": {},
   "outputs": [
    {
     "data": {
      "image/png": "[encoded data removed]",
      "text/plain": [
       "<Figure size 720x432 with 2 Axes>"
      ]
     },
     "metadata": {
      "needs_background": "light"
     },
     "output_type": "display_data"
    }
   ],
   "source": [
    "# Get and reshape confusion matrix data\n",
    "cm = confusion_matrix(np.argmax(y_test, axis=1), np.argmax(y_pred, axis=1))\n",
    "cm = cm.astype('float') / cm.sum(axis=1)[:, np.newaxis]\n",
    "\n",
    "#build plot\n",
    "plt.figure(figsize=(10,6))\n",
    "sns.set(font_scale=1)\n",
    "ax = sns.heatmap(cm, annot=True, annot_kws={'size':10},\n",
    "            cmap=plt.cm.Blues, linewidths=0.2)\n",
    "ax.set_ylim(0,5)\n",
    "\n",
    "#add in lane;s\n",
    "rating = list(np.unique(labels))\n",
    "tick_marksX = np.arange(len(rating))\n",
    "tick_marksY = tick_marksX + 0.5\n",
    "plt.xticks(tick_marksX+0.5, rating,fontsize= 12)\n",
    "plt.yticks(tick_marksY, rating,fontsize= 12)\n",
    "plt.xlabel('Predicted label')\n",
    "plt.ylabel('True label')\n",
    "plt.title('Confusion Matrix for SimpleRNN Model')\n",
    "plt.show()"
   ]
  },
  {
   "cell_type": "code",
   "execution_count": 20,
   "metadata": {},
   "outputs": [
    {
     "name": "stdout",
     "output_type": "stream",
     "text": [
      "Classification Report=============================================\n",
      "              precision    recall  f1-score   support\n",
      "\n",
      "           0       0.57      0.69      0.62      2000\n",
      "           1       0.47      0.38      0.42      2021\n",
      "           2       0.43      0.33      0.37      1967\n",
      "           3       0.50      0.53      0.51      1987\n",
      "           4       0.68      0.80      0.74      2025\n",
      "\n",
      "    accuracy                           0.55     10000\n",
      "   macro avg       0.53      0.54      0.53     10000\n",
      "weighted avg       0.53      0.55      0.53     10000\n",
      "\n"
     ]
    }
   ],
   "source": [
    "from sklearn.metrics import classification_report\n",
    "print(\"Classification Report=============================================\")\n",
    "print(classification_report(np.argmax(y_test, axis=1), np.argmax(y_pred, axis=1)))"
   ]
  },
  {
   "cell_type": "markdown",
   "metadata": {},
   "source": [
    "### LSTM"
   ]
  },
  {
   "cell_type": "code",
   "execution_count": 21,
   "metadata": {},
   "outputs": [],
   "source": [
    "# Model #2 (replicate where necessary for other models)\n",
    "dl_group_LSTM = keras.models.load_model('DL_Group_LSTM.h5')"
   ]
  },
  {
   "cell_type": "code",
   "execution_count": 22,
   "metadata": {},
   "outputs": [
    {
     "name": "stdout",
     "output_type": "stream",
     "text": [
      "Test loss:  1.146640658378601\n",
      "Test accuracy:  0.5198000073432922\n"
     ]
    }
   ],
   "source": [
    "dl_group_LSTM_score = dl_group_LSTM.evaluate(X_test, y_test, verbose=False) \n",
    "print('Test loss: ', dl_group_LSTM_score[0])    #Loss on test\n",
    "print('Test accuracy: ', dl_group_LSTM_score[1])"
   ]
  },
  {
   "cell_type": "code",
   "execution_count": 23,
   "metadata": {},
   "outputs": [
    {
     "name": "stdout",
     "output_type": "stream",
     "text": [
      "313/313 [==============================] - 2s 5ms/step\n"
     ]
    }
   ],
   "source": [
    "# get y_pred\n",
    "y_pred = dl_group_LSTM.predict(X_test)"
   ]
  },
  {
   "cell_type": "code",
   "execution_count": 24,
   "metadata": {},
   "outputs": [
    {
     "data": {
      "image/png": "[encoded data removed]",
      "text/plain": [
       "<Figure size 720x432 with 2 Axes>"
      ]
     },
     "metadata": {},
     "output_type": "display_data"
    }
   ],
   "source": [
    "# Get and reshape confusion matrix data\n",
    "cm = confusion_matrix(np.argmax(y_test, axis=1), np.argmax(y_pred, axis=1))\n",
    "cm = cm.astype('float') / cm.sum(axis=1)[:, np.newaxis]\n",
    "\n",
    "#build plot\n",
    "plt.figure(figsize=(10,6))\n",
    "sns.set(font_scale=1)\n",
    "ax = sns.heatmap(cm, annot=True, annot_kws={'size':10},\n",
    "            cmap=plt.cm.Blues, linewidths=0.2)\n",
    "ax.set_ylim(0,5)\n",
    "\n",
    "#add in lane;s\n",
    "rating = list(np.unique(labels))\n",
    "tick_marksX = np.arange(len(rating))\n",
    "tick_marksY = tick_marksX + 0.5\n",
    "plt.xticks(tick_marksX+0.5, rating,fontsize= 12)\n",
    "plt.yticks(tick_marksY, rating,fontsize= 12)\n",
    "plt.xlabel('Predicted label')\n",
    "plt.ylabel('True label')\n",
    "plt.title('Confusion Matrix for LSTM Model')\n",
    "plt.show()"
   ]
  },
  {
   "cell_type": "code",
   "execution_count": 25,
   "metadata": {
    "scrolled": true
   },
   "outputs": [
    {
     "name": "stdout",
     "output_type": "stream",
     "text": [
      "Classification Report=============================================\n",
      "              precision    recall  f1-score   support\n",
      "\n",
      "           0       0.52      0.67      0.59      2000\n",
      "           1       0.44      0.32      0.37      2021\n",
      "           2       0.40      0.39      0.40      1967\n",
      "           3       0.51      0.42      0.46      1987\n",
      "           4       0.66      0.79      0.72      2025\n",
      "\n",
      "    accuracy                           0.52     10000\n",
      "   macro avg       0.51      0.52      0.51     10000\n",
      "weighted avg       0.51      0.52      0.51     10000\n",
      "\n"
     ]
    }
   ],
   "source": [
    "from sklearn.metrics import classification_report\n",
    "print(\"Classification Report=============================================\")\n",
    "print(classification_report(np.argmax(y_test, axis=1), np.argmax(y_pred, axis=1)))"
   ]
  },
  {
   "cell_type": "markdown",
   "metadata": {},
   "source": [
    "### GloVe Embedded GRU"
   ]
  },
  {
   "cell_type": "code",
   "execution_count": 26,
   "metadata": {},
   "outputs": [
    {
     "name": "stdout",
     "output_type": "stream",
     "text": [
      "WARNING:tensorflow:Layer gru_1 will not use cuDNN kernels since it doesn't meet the criteria. It will use a generic GPU kernel as fallback when running on GPU.\n"
     ]
    }
   ],
   "source": [
    "# Model #3 (replicate where necessary for other models)\n",
    "dl_group_GloVeGRU = keras.models.load_model('DL_Group_GloVeGRU.h5')"
   ]
  },
  {
   "cell_type": "code",
   "execution_count": 27,
   "metadata": {},
   "outputs": [
    {
     "name": "stdout",
     "output_type": "stream",
     "text": [
      "Test loss:  1.1453715562820435\n",
      "Test accuracy:  0.5151000022888184\n"
     ]
    }
   ],
   "source": [
    "dl_group_GloVeGRU_score = dl_group_GloVeGRU.evaluate(X_test, y_test, verbose=False) \n",
    "print('Test loss: ', dl_group_GloVeGRU_score[0])    #Loss on test\n",
    "print('Test accuracy: ', dl_group_GloVeGRU_score[1])"
   ]
  },
  {
   "cell_type": "code",
   "execution_count": 28,
   "metadata": {},
   "outputs": [
    {
     "name": "stdout",
     "output_type": "stream",
     "text": [
      "313/313 [==============================] - 11s 32ms/step\n"
     ]
    }
   ],
   "source": [
    "# get y_pred\n",
    "y_pred = dl_group_GloVeGRU.predict(X_test)"
   ]
  },
  {
   "cell_type": "code",
   "execution_count": 29,
   "metadata": {},
   "outputs": [
    {
     "data": {
      "image/png": "[encoded data removed]",
      "text/plain": [
       "<Figure size 720x432 with 2 Axes>"
      ]
     },
     "metadata": {},
     "output_type": "display_data"
    }
   ],
   "source": [
    "# Get and reshape confusion matrix data\n",
    "cm = confusion_matrix(np.argmax(y_test, axis=1), np.argmax(y_pred, axis=1))\n",
    "cm = cm.astype('float') / cm.sum(axis=1)[:, np.newaxis]\n",
    "\n",
    "#build plot\n",
    "plt.figure(figsize=(10,6))\n",
    "sns.set(font_scale=1)\n",
    "ax = sns.heatmap(cm, annot=True, annot_kws={'size':10},\n",
    "            cmap=plt.cm.Blues, linewidths=0.2)\n",
    "ax.set_ylim(0,5)\n",
    "\n",
    "#add in lane;s\n",
    "rating = list(np.unique(labels))\n",
    "tick_marksX = np.arange(len(rating))\n",
    "tick_marksY = tick_marksX + 0.5\n",
    "plt.xticks(tick_marksX+0.5, rating,fontsize= 12)\n",
    "plt.yticks(tick_marksY, rating,fontsize= 12)\n",
    "plt.xlabel('Predicted label')\n",
    "plt.ylabel('True label')\n",
    "plt.title('Confusion Matrix for GloVe Embedded GRU Model')\n",
    "plt.show()"
   ]
  },
  {
   "cell_type": "code",
   "execution_count": 30,
   "metadata": {},
   "outputs": [
    {
     "name": "stdout",
     "output_type": "stream",
     "text": [
      "Classification Report=============================================\n",
      "              precision    recall  f1-score   support\n",
      "\n",
      "           0       0.53      0.69      0.60      2000\n",
      "           1       0.41      0.36      0.38      2021\n",
      "           2       0.38      0.29      0.33      1967\n",
      "           3       0.48      0.45      0.47      1987\n",
      "           4       0.68      0.78      0.73      2025\n",
      "\n",
      "    accuracy                           0.52     10000\n",
      "   macro avg       0.50      0.51      0.50     10000\n",
      "weighted avg       0.50      0.52      0.50     10000\n",
      "\n"
     ]
    }
   ],
   "source": [
    "from sklearn.metrics import classification_report\n",
    "print(\"Classification Report=============================================\")\n",
    "print(classification_report(np.argmax(y_test, axis=1), np.argmax(y_pred, axis=1)))"
   ]
  },
  {
   "cell_type": "markdown",
   "metadata": {},
   "source": [
    "### GloVe Embedded Bidirectional LSTM + GRU"
   ]
  },
  {
   "cell_type": "code",
   "execution_count": 31,
   "metadata": {},
   "outputs": [],
   "source": [
    "# Model #4 (replicate where necessary for other models)\n",
    "dl_group_GloVeBidirectionalLSTMGRU = keras.models.load_model('DL_Group_GloVeBidirectionalLSTMGRU.h5')"
   ]
  },
  {
   "cell_type": "code",
   "execution_count": 32,
   "metadata": {},
   "outputs": [
    {
     "name": "stdout",
     "output_type": "stream",
     "text": [
      "Test loss:  1.2292753458023071\n",
      "Test accuracy:  0.5212000012397766\n"
     ]
    }
   ],
   "source": [
    "dl_group_GloVeBidirectionalLSTMGRU_score = dl_group_GloVeBidirectionalLSTMGRU.evaluate(X_test, y_test, verbose=False) \n",
    "print('Test loss: ', dl_group_GloVeBidirectionalLSTMGRU_score[0])    #Loss on test\n",
    "print('Test accuracy: ', dl_group_GloVeBidirectionalLSTMGRU_score[1])"
   ]
  },
  {
   "cell_type": "code",
   "execution_count": 33,
   "metadata": {},
   "outputs": [
    {
     "name": "stdout",
     "output_type": "stream",
     "text": [
      "313/313 [==============================] - 13s 27ms/step\n"
     ]
    }
   ],
   "source": [
    "# get y_pred\n",
    "y_pred = dl_group_GloVeBidirectionalLSTMGRU.predict(X_test)"
   ]
  },
  {
   "cell_type": "code",
   "execution_count": 34,
   "metadata": {},
   "outputs": [
    {
     "data": {
      "image/png": "[encoded data removed]",
      "text/plain": [
       "<Figure size 720x432 with 2 Axes>"
      ]
     },
     "metadata": {},
     "output_type": "display_data"
    }
   ],
   "source": [
    "# Get and reshape confusion matrix data\n",
    "cm = confusion_matrix(np.argmax(y_test, axis=1), np.argmax(y_pred, axis=1))\n",
    "cm = cm.astype('float') / cm.sum(axis=1)[:, np.newaxis]\n",
    "\n",
    "#build plot\n",
    "plt.figure(figsize=(10,6))\n",
    "sns.set(font_scale=1)\n",
    "ax = sns.heatmap(cm, annot=True, annot_kws={'size':10},\n",
    "            cmap=plt.cm.Blues, linewidths=0.2)\n",
    "ax.set_ylim(0,5)\n",
    "\n",
    "#add in lane;s\n",
    "rating = list(np.unique(labels))\n",
    "tick_marksX = np.arange(len(rating))\n",
    "tick_marksY = tick_marksX + 0.5\n",
    "plt.xticks(tick_marksX+0.5, rating,fontsize= 12)\n",
    "plt.yticks(tick_marksY, rating,fontsize= 12)\n",
    "plt.xlabel('Predicted label')\n",
    "plt.ylabel('True label')\n",
    "plt.title('Confusion Matrix for Glove Embedded Bidirectional LSTM + GRU Model')\n",
    "plt.show()"
   ]
  },
  {
   "cell_type": "code",
   "execution_count": 35,
   "metadata": {},
   "outputs": [
    {
     "name": "stdout",
     "output_type": "stream",
     "text": [
      "Classification Report=============================================\n",
      "              precision    recall  f1-score   support\n",
      "\n",
      "           0       0.55      0.65      0.60      2000\n",
      "           1       0.39      0.35      0.37      2021\n",
      "           2       0.40      0.36      0.38      1967\n",
      "           3       0.51      0.45      0.47      1987\n",
      "           4       0.70      0.80      0.75      2025\n",
      "\n",
      "    accuracy                           0.52     10000\n",
      "   macro avg       0.51      0.52      0.51     10000\n",
      "weighted avg       0.51      0.52      0.51     10000\n",
      "\n"
     ]
    }
   ],
   "source": [
    "from sklearn.metrics import classification_report\n",
    "print(\"Classification Report=============================================\")\n",
    "print(classification_report(np.argmax(y_test, axis=1), np.argmax(y_pred, axis=1)))"
   ]
  },
  {
   "cell_type": "markdown",
   "metadata": {},
   "source": [
    "### Sean's"
   ]
  },
  {
   "cell_type": "code",
   "execution_count": null,
   "metadata": {},
   "outputs": [],
   "source": [
    "# Model #5 (replicate where necessary for other models)\n",
    "model5 = keras.models.load_model('text_model_5.h5')"
   ]
  },
  {
   "cell_type": "markdown",
   "metadata": {},
   "source": [
    "### Best Model"
   ]
  },
  {
   "cell_type": "code",
   "execution_count": 112,
   "metadata": {},
   "outputs": [],
   "source": [
    "# Save the Best Model\n",
    "dl_group_SimpleRNN.save('text_model_best.h5')"
   ]
  },
  {
   "cell_type": "markdown",
   "metadata": {},
   "source": [
    "## Step 4 – Use the Best Model to make prediction (Group)"
   ]
  },
  {
   "cell_type": "code",
   "execution_count": 113,
   "metadata": {},
   "outputs": [],
   "source": [
    "best_model_simpleRNN.load_weights('text_model_best.h5')"
   ]
  },
  {
   "cell_type": "code",
   "execution_count": 117,
   "metadata": {},
   "outputs": [
    {
     "data": {
      "text/html": [
       "<div>\n",
       "<style scoped>\n",
       "    .dataframe tbody tr th:only-of-type {\n",
       "        vertical-align: middle;\n",
       "    }\n",
       "\n",
       "    .dataframe tbody tr th {\n",
       "        vertical-align: top;\n",
       "    }\n",
       "\n",
       "    .dataframe thead th {\n",
       "        text-align: right;\n",
       "    }\n",
       "</style>\n",
       "<table border=\"1\" class=\"dataframe\">\n",
       "  <thead>\n",
       "    <tr style=\"text-align: right;\">\n",
       "      <th></th>\n",
       "      <th>label</th>\n",
       "    </tr>\n",
       "  </thead>\n",
       "  <tbody>\n",
       "    <tr>\n",
       "      <th>0</th>\n",
       "      <td>0</td>\n",
       "    </tr>\n",
       "    <tr>\n",
       "      <th>1</th>\n",
       "      <td>1</td>\n",
       "    </tr>\n",
       "    <tr>\n",
       "      <th>2</th>\n",
       "      <td>2</td>\n",
       "    </tr>\n",
       "    <tr>\n",
       "      <th>3</th>\n",
       "      <td>3</td>\n",
       "    </tr>\n",
       "    <tr>\n",
       "      <th>4</th>\n",
       "      <td>4</td>\n",
       "    </tr>\n",
       "    <tr>\n",
       "      <th>5</th>\n",
       "      <td>5</td>\n",
       "    </tr>\n",
       "  </tbody>\n",
       "</table>\n",
       "</div>"
      ],
      "text/plain": [
       "   label\n",
       "0      0\n",
       "1      1\n",
       "2      2\n",
       "3      3\n",
       "4      4\n",
       "5      5"
      ]
     },
     "execution_count": 117,
     "metadata": {},
     "output_type": "execute_result"
    }
   ],
   "source": [
    "def prediction(best_model_input, review_input, items_l):\n",
    "    sequences = tokenizer.texts_to_sequences(review_input)\n",
    "    data = pad_sequences(sequences, maxlen=50)\n",
    "    prob = best_model_input.predict(data)\n",
    "    pro_df = pd.DataFrame(prob, columns = items_l)\n",
    "    result = items_l[np.argmax(prob)]\n",
    "    return pro_df, result\n",
    "\n",
    "labels = [1,2,3,4,5]\n",
    "data = {'label': [0,1,2,3,4,5]}\n",
    "cat = pd.DataFrame(data)\n",
    "cat"
   ]
  },
  {
   "cell_type": "markdown",
   "metadata": {},
   "source": [
    "### 1-Star Review"
   ]
  },
  {
   "cell_type": "code",
   "execution_count": 118,
   "metadata": {},
   "outputs": [
    {
     "name": "stdout",
     "output_type": "stream",
     "text": [
      "worst lag error message internet issue\n"
     ]
    }
   ],
   "source": [
    "# takes the user input\n",
    "text_input1 = np.array([input().lower()])"
   ]
  },
  {
   "cell_type": "code",
   "execution_count": 119,
   "metadata": {
    "scrolled": true
   },
   "outputs": [
    {
     "name": "stdout",
     "output_type": "stream",
     "text": [
      "1/1 [==============================] - 0s 42ms/step\n",
      "User input:  worst lag error message internet issue\n",
      "The prediction is:  1 \n",
      "\n",
      "        1        2        3        4        5\n",
      "0.762944 0.187669 0.041668 0.005146 0.002573\n"
     ]
    }
   ],
   "source": [
    "# convert the user input into numeric tensor\n",
    "#Negative review\n",
    "prob_df, result = prediction(best_model_simpleRNN,text_input1,np.unique(score))\n",
    "print('User input: ', text_input1[0])\n",
    "print('The prediction is: ', result, '\\n\\n', prob_df.to_string(index=False))"
   ]
  },
  {
   "cell_type": "markdown",
   "metadata": {},
   "source": [
    "### 2-Star Review"
   ]
  },
  {
   "cell_type": "code",
   "execution_count": 130,
   "metadata": {
    "scrolled": true
   },
   "outputs": [
    {
     "name": "stdout",
     "output_type": "stream",
     "text": [
      "app is extremely buggy and crashes when downloading\n"
     ]
    }
   ],
   "source": [
    "text_input2 = np.array([input().lower()])"
   ]
  },
  {
   "cell_type": "code",
   "execution_count": 131,
   "metadata": {},
   "outputs": [
    {
     "name": "stdout",
     "output_type": "stream",
     "text": [
      "1/1 [==============================] - 0s 32ms/step\n",
      "User input:  app is extremely buggy and crashes when downloading\n",
      "The prediction is:  2 \n",
      "\n",
      "        1        2        3        4        5\n",
      "0.365004 0.425871 0.184547 0.023014 0.001564\n"
     ]
    }
   ],
   "source": [
    "# convert the user input into numeric tensor\n",
    "#Negative review\n",
    "prob_df, result = prediction(best_model_simpleRNN,text_input2,np.unique(score))\n",
    "print('User input: ', text_input2[0])\n",
    "print('The prediction is: ', result, '\\n\\n', prob_df.to_string(index=False))"
   ]
  },
  {
   "cell_type": "markdown",
   "metadata": {},
   "source": [
    "### 3-Star Review"
   ]
  },
  {
   "cell_type": "code",
   "execution_count": 140,
   "metadata": {},
   "outputs": [
    {
     "name": "stdout",
     "output_type": "stream",
     "text": [
      "average okay shows with error appearing\n"
     ]
    }
   ],
   "source": [
    "text_input3 = np.array([input().lower()])"
   ]
  },
  {
   "cell_type": "code",
   "execution_count": 148,
   "metadata": {},
   "outputs": [
    {
     "name": "stdout",
     "output_type": "stream",
     "text": [
      "1/1 [==============================] - 0s 50ms/step\n",
      "User input:  average okay shows with error appearing\n",
      "The prediction is:  3 \n",
      "\n",
      "        1        2        3        4       5\n",
      "0.158057 0.303412 0.366222 0.154989 0.01732\n"
     ]
    }
   ],
   "source": [
    "# convert the user input into numeric tensor\n",
    "#Negative review\n",
    "prob_df, result = prediction(best_model_simpleRNN,text_input3,np.unique(score))\n",
    "print('User input: ', text_input3[0])\n",
    "print('The prediction is: ', result, '\\n\\n', prob_df.to_string(index=False))"
   ]
  },
  {
   "cell_type": "markdown",
   "metadata": {},
   "source": [
    "### 4-Star Review"
   ]
  },
  {
   "cell_type": "code",
   "execution_count": 142,
   "metadata": {},
   "outputs": [
    {
     "name": "stdout",
     "output_type": "stream",
     "text": [
      "okay average shows\n"
     ]
    }
   ],
   "source": [
    "text_input4 = np.array([input().lower()])"
   ]
  },
  {
   "cell_type": "code",
   "execution_count": 147,
   "metadata": {},
   "outputs": [
    {
     "name": "stdout",
     "output_type": "stream",
     "text": [
      "1/1 [==============================] - 0s 35ms/step\n",
      "User input:  okay average shows\n",
      "The prediction is:  4 \n",
      "\n",
      "        1        2        3        4        5\n",
      "0.120729 0.161867 0.266195 0.327466 0.123742\n"
     ]
    }
   ],
   "source": [
    "# convert the user input into numeric tensor\n",
    "#Negative review\n",
    "prob_df, result = prediction(best_model_simpleRNN,text_input4,np.unique(score))\n",
    "print('User input: ', text_input4[0])\n",
    "print('The prediction is: ', result, '\\n\\n', prob_df.to_string(index=False))"
   ]
  },
  {
   "cell_type": "markdown",
   "metadata": {},
   "source": [
    "### 5-Star Review"
   ]
  },
  {
   "cell_type": "code",
   "execution_count": 144,
   "metadata": {},
   "outputs": [
    {
     "name": "stdout",
     "output_type": "stream",
     "text": [
      "very good excellent childhood shows\n"
     ]
    }
   ],
   "source": [
    "text_input5 = np.array([input().lower()])"
   ]
  },
  {
   "cell_type": "code",
   "execution_count": 146,
   "metadata": {},
   "outputs": [
    {
     "name": "stdout",
     "output_type": "stream",
     "text": [
      "1/1 [==============================] - 0s 38ms/step\n",
      "User input:  very good excellent childhood shows\n",
      "The prediction is:  5 \n",
      "\n",
      "        1        2        3        4        5\n",
      "0.001159 0.001977 0.011723 0.160266 0.824875\n"
     ]
    }
   ],
   "source": [
    "# convert the user input into numeric tensor\n",
    "#Negative review\n",
    "prob_df, result = prediction(best_model_simpleRNN,text_input5,np.unique(score))\n",
    "print('User input: ', text_input5[0])\n",
    "print('The prediction is: ', result, '\\n\\n', prob_df.to_string(index=False))"
   ]
  },
  {
   "cell_type": "markdown",
   "metadata": {},
   "source": [
    "### THE END "
   ]
  }
 ],
 "metadata": {
  "kernelspec": {
   "display_name": "Python 3 (ipykernel)",
   "language": "python",
   "name": "python3"
  },
  "language_info": {
   "codemirror_mode": {
    "name": "ipython",
    "version": 3
   },
   "file_extension": ".py",
   "mimetype": "text/x-python",
   "name": "python",
   "nbconvert_exporter": "python",
   "pygments_lexer": "ipython3",
   "version": "3.9.12"
  }
 },
 "nbformat": 4,
 "nbformat_minor": 2
}
